{
 "cells": [
  {
   "cell_type": "code",
   "execution_count": 82,
   "id": "91302f55",
   "metadata": {},
   "outputs": [],
   "source": [
    "import pandas as pd\n",
    "import numpy as np\n",
    "import matplotlib as mpt\n",
    "import matplotlib.pyplot as plt\n",
    "import seaborn as sns\n",
    "import statsmodels.api as sm\n",
    "from sklearn import metrics\n",
    "from sklearn.metrics import confusion_matrix\n",
    "from zipfile import ZipFile\n",
    "from sklearn.feature_selection import SelectKBest\n",
    "from sklearn.feature_selection import chi2, f_regression"
   ]
  },
  {
   "cell_type": "code",
   "execution_count": 3,
   "id": "ce6c7023",
   "metadata": {},
   "outputs": [],
   "source": [
    "file_name = \"archive.zip\""
   ]
  },
  {
   "cell_type": "code",
   "execution_count": 31,
   "id": "f3b97930",
   "metadata": {},
   "outputs": [
    {
     "data": {
      "text/html": [
       "<div>\n",
       "<style scoped>\n",
       "    .dataframe tbody tr th:only-of-type {\n",
       "        vertical-align: middle;\n",
       "    }\n",
       "\n",
       "    .dataframe tbody tr th {\n",
       "        vertical-align: top;\n",
       "    }\n",
       "\n",
       "    .dataframe thead th {\n",
       "        text-align: right;\n",
       "    }\n",
       "</style>\n",
       "<table border=\"1\" class=\"dataframe\">\n",
       "  <thead>\n",
       "    <tr style=\"text-align: right;\">\n",
       "      <th></th>\n",
       "      <th>Team</th>\n",
       "      <th>Games</th>\n",
       "      <th>Win</th>\n",
       "      <th>Loss</th>\n",
       "      <th>Off.Rank</th>\n",
       "      <th>Off.Plays</th>\n",
       "      <th>Off.Yards</th>\n",
       "      <th>Off.Yards.Play</th>\n",
       "      <th>Off.TDs</th>\n",
       "      <th>Total.TDs</th>\n",
       "      <th>...</th>\n",
       "      <th>Average.Time.of.Possession.per.Game</th>\n",
       "      <th>Turnover.Rank</th>\n",
       "      <th>Fumbles.Recovered</th>\n",
       "      <th>Opponents.Intercepted</th>\n",
       "      <th>Turnovers.Gain</th>\n",
       "      <th>Fumbles.Lost</th>\n",
       "      <th>Interceptions.Thrown.y</th>\n",
       "      <th>Turnovers.Lost</th>\n",
       "      <th>Turnover.Margin</th>\n",
       "      <th>Avg.Turnover.Margin.per.Game</th>\n",
       "    </tr>\n",
       "  </thead>\n",
       "  <tbody>\n",
       "    <tr>\n",
       "      <th>0</th>\n",
       "      <td>Akron (MAC)</td>\n",
       "      <td>12</td>\n",
       "      <td>5</td>\n",
       "      <td>7</td>\n",
       "      <td>106</td>\n",
       "      <td>837</td>\n",
       "      <td>4104</td>\n",
       "      <td>4.90</td>\n",
       "      <td>30</td>\n",
       "      <td>31</td>\n",
       "      <td>...</td>\n",
       "      <td>29:20</td>\n",
       "      <td>74</td>\n",
       "      <td>6</td>\n",
       "      <td>13</td>\n",
       "      <td>19</td>\n",
       "      <td>11</td>\n",
       "      <td>10</td>\n",
       "      <td>21</td>\n",
       "      <td>-2</td>\n",
       "      <td>-0.17</td>\n",
       "    </tr>\n",
       "    <tr>\n",
       "      <th>1</th>\n",
       "      <td>Alabama (SEC)</td>\n",
       "      <td>13</td>\n",
       "      <td>11</td>\n",
       "      <td>2</td>\n",
       "      <td>33</td>\n",
       "      <td>826</td>\n",
       "      <td>5903</td>\n",
       "      <td>7.15</td>\n",
       "      <td>58</td>\n",
       "      <td>65</td>\n",
       "      <td>...</td>\n",
       "      <td>32:00</td>\n",
       "      <td>48</td>\n",
       "      <td>8</td>\n",
       "      <td>11</td>\n",
       "      <td>19</td>\n",
       "      <td>10</td>\n",
       "      <td>7</td>\n",
       "      <td>17</td>\n",
       "      <td>2</td>\n",
       "      <td>0.15</td>\n",
       "    </tr>\n",
       "    <tr>\n",
       "      <th>2</th>\n",
       "      <td>Arizona (Pac-12)</td>\n",
       "      <td>13</td>\n",
       "      <td>8</td>\n",
       "      <td>5</td>\n",
       "      <td>31</td>\n",
       "      <td>1030</td>\n",
       "      <td>5960</td>\n",
       "      <td>5.79</td>\n",
       "      <td>52</td>\n",
       "      <td>57</td>\n",
       "      <td>...</td>\n",
       "      <td>28:30</td>\n",
       "      <td>39</td>\n",
       "      <td>4</td>\n",
       "      <td>18</td>\n",
       "      <td>22</td>\n",
       "      <td>11</td>\n",
       "      <td>7</td>\n",
       "      <td>18</td>\n",
       "      <td>4</td>\n",
       "      <td>0.31</td>\n",
       "    </tr>\n",
       "    <tr>\n",
       "      <th>3</th>\n",
       "      <td>Arizona St. (Pac-12)</td>\n",
       "      <td>14</td>\n",
       "      <td>10</td>\n",
       "      <td>4</td>\n",
       "      <td>32</td>\n",
       "      <td>1102</td>\n",
       "      <td>6402</td>\n",
       "      <td>5.81</td>\n",
       "      <td>64</td>\n",
       "      <td>69</td>\n",
       "      <td>...</td>\n",
       "      <td>30:21</td>\n",
       "      <td>7</td>\n",
       "      <td>12</td>\n",
       "      <td>21</td>\n",
       "      <td>33</td>\n",
       "      <td>6</td>\n",
       "      <td>12</td>\n",
       "      <td>18</td>\n",
       "      <td>15</td>\n",
       "      <td>1.07</td>\n",
       "    </tr>\n",
       "    <tr>\n",
       "      <th>4</th>\n",
       "      <td>Arkansas (SEC)</td>\n",
       "      <td>12</td>\n",
       "      <td>3</td>\n",
       "      <td>9</td>\n",
       "      <td>99</td>\n",
       "      <td>775</td>\n",
       "      <td>4286</td>\n",
       "      <td>5.53</td>\n",
       "      <td>29</td>\n",
       "      <td>30</td>\n",
       "      <td>...</td>\n",
       "      <td>30:26</td>\n",
       "      <td>111</td>\n",
       "      <td>6</td>\n",
       "      <td>8</td>\n",
       "      <td>14</td>\n",
       "      <td>12</td>\n",
       "      <td>11</td>\n",
       "      <td>23</td>\n",
       "      <td>-9</td>\n",
       "      <td>-0.75</td>\n",
       "    </tr>\n",
       "  </tbody>\n",
       "</table>\n",
       "<p>5 rows × 146 columns</p>\n",
       "</div>"
      ],
      "text/plain": [
       "                   Team  Games  Win  Loss  Off.Rank  Off.Plays  Off.Yards  \\\n",
       "0           Akron (MAC)     12    5     7       106        837       4104   \n",
       "1         Alabama (SEC)     13   11     2        33        826       5903   \n",
       "2      Arizona (Pac-12)     13    8     5        31       1030       5960   \n",
       "3  Arizona St. (Pac-12)     14   10     4        32       1102       6402   \n",
       "4        Arkansas (SEC)     12    3     9        99        775       4286   \n",
       "\n",
       "   Off.Yards.Play  Off.TDs  Total.TDs  ...  \\\n",
       "0            4.90       30         31  ...   \n",
       "1            7.15       58         65  ...   \n",
       "2            5.79       52         57  ...   \n",
       "3            5.81       64         69  ...   \n",
       "4            5.53       29         30  ...   \n",
       "\n",
       "   Average.Time.of.Possession.per.Game  Turnover.Rank  Fumbles.Recovered  \\\n",
       "0                                29:20             74                  6   \n",
       "1                                32:00             48                  8   \n",
       "2                                28:30             39                  4   \n",
       "3                                30:21              7                 12   \n",
       "4                                30:26            111                  6   \n",
       "\n",
       "   Opponents.Intercepted  Turnovers.Gain  Fumbles.Lost  \\\n",
       "0                     13              19            11   \n",
       "1                     11              19            10   \n",
       "2                     18              22            11   \n",
       "3                     21              33             6   \n",
       "4                      8              14            12   \n",
       "\n",
       "   Interceptions.Thrown.y  Turnovers.Lost  Turnover.Margin  \\\n",
       "0                      10              21               -2   \n",
       "1                       7              17                2   \n",
       "2                       7              18                4   \n",
       "3                      12              18               15   \n",
       "4                      11              23               -9   \n",
       "\n",
       "   Avg.Turnover.Margin.per.Game  \n",
       "0                         -0.17  \n",
       "1                          0.15  \n",
       "2                          0.31  \n",
       "3                          1.07  \n",
       "4                         -0.75  \n",
       "\n",
       "[5 rows x 146 columns]"
      ]
     },
     "execution_count": 31,
     "metadata": {},
     "output_type": "execute_result"
    }
   ],
   "source": [
    "df13 = pd.read_csv('cfb13.csv')\n",
    "df13.head()"
   ]
  },
  {
   "cell_type": "code",
   "execution_count": 46,
   "id": "318ffc21",
   "metadata": {},
   "outputs": [
    {
     "data": {
      "text/html": [
       "<div>\n",
       "<style scoped>\n",
       "    .dataframe tbody tr th:only-of-type {\n",
       "        vertical-align: middle;\n",
       "    }\n",
       "\n",
       "    .dataframe tbody tr th {\n",
       "        vertical-align: top;\n",
       "    }\n",
       "\n",
       "    .dataframe thead th {\n",
       "        text-align: right;\n",
       "    }\n",
       "</style>\n",
       "<table border=\"1\" class=\"dataframe\">\n",
       "  <thead>\n",
       "    <tr style=\"text-align: right;\">\n",
       "      <th></th>\n",
       "      <th>Team</th>\n",
       "      <th>Games</th>\n",
       "      <th>Win</th>\n",
       "      <th>Loss</th>\n",
       "      <th>Off.Rank</th>\n",
       "      <th>Off.Plays</th>\n",
       "      <th>Off.Yards</th>\n",
       "      <th>Off.Yards.Play</th>\n",
       "      <th>Off.TDs</th>\n",
       "      <th>Total.TDs</th>\n",
       "      <th>...</th>\n",
       "      <th>Turnover.Rank</th>\n",
       "      <th>Fumbles.Recovered</th>\n",
       "      <th>Opponents.Intercepted</th>\n",
       "      <th>Turnovers.Gain</th>\n",
       "      <th>Fumbles.Lost</th>\n",
       "      <th>Interceptions.Thrown.y</th>\n",
       "      <th>Turnovers.Lost</th>\n",
       "      <th>Turnover.Margin</th>\n",
       "      <th>Avg.Turnover.Margin.per.Game</th>\n",
       "      <th>Year</th>\n",
       "    </tr>\n",
       "  </thead>\n",
       "  <tbody>\n",
       "    <tr>\n",
       "      <th>0</th>\n",
       "      <td>Akron (MAC)</td>\n",
       "      <td>12</td>\n",
       "      <td>5</td>\n",
       "      <td>7</td>\n",
       "      <td>106</td>\n",
       "      <td>837</td>\n",
       "      <td>4104</td>\n",
       "      <td>4.9</td>\n",
       "      <td>30</td>\n",
       "      <td>31</td>\n",
       "      <td>...</td>\n",
       "      <td>74</td>\n",
       "      <td>6</td>\n",
       "      <td>13</td>\n",
       "      <td>19</td>\n",
       "      <td>11</td>\n",
       "      <td>10</td>\n",
       "      <td>21</td>\n",
       "      <td>-2</td>\n",
       "      <td>-0.17</td>\n",
       "      <td>2013</td>\n",
       "    </tr>\n",
       "  </tbody>\n",
       "</table>\n",
       "<p>1 rows × 147 columns</p>\n",
       "</div>"
      ],
      "text/plain": [
       "          Team  Games  Win  Loss  Off.Rank  Off.Plays  Off.Yards  \\\n",
       "0  Akron (MAC)     12    5     7       106        837       4104   \n",
       "\n",
       "   Off.Yards.Play  Off.TDs  Total.TDs  ...  Turnover.Rank  Fumbles.Recovered  \\\n",
       "0             4.9       30         31  ...             74                  6   \n",
       "\n",
       "   Opponents.Intercepted  Turnovers.Gain  Fumbles.Lost  \\\n",
       "0                     13              19            11   \n",
       "\n",
       "   Interceptions.Thrown.y  Turnovers.Lost  Turnover.Margin  \\\n",
       "0                      10              21               -2   \n",
       "\n",
       "   Avg.Turnover.Margin.per.Game  Year  \n",
       "0                         -0.17  2013  \n",
       "\n",
       "[1 rows x 147 columns]"
      ]
     },
     "execution_count": 46,
     "metadata": {},
     "output_type": "execute_result"
    }
   ],
   "source": [
    "df13['Year'] = 2013\n",
    "df13.head(1)"
   ]
  },
  {
   "cell_type": "code",
   "execution_count": 18,
   "id": "cc7baeeb",
   "metadata": {},
   "outputs": [
    {
     "data": {
      "text/plain": [
       "0"
      ]
     },
     "execution_count": 18,
     "metadata": {},
     "output_type": "execute_result"
    }
   ],
   "source": [
    "df13.isna().sum().max()"
   ]
  },
  {
   "cell_type": "code",
   "execution_count": 35,
   "id": "8ab4160e",
   "metadata": {},
   "outputs": [
    {
     "data": {
      "text/plain": [
       "111"
      ]
     },
     "execution_count": 35,
     "metadata": {},
     "output_type": "execute_result"
    }
   ],
   "source": [
    "len(df13.index)"
   ]
  },
  {
   "cell_type": "code",
   "execution_count": 19,
   "id": "225f81dc",
   "metadata": {
    "scrolled": true
   },
   "outputs": [
    {
     "name": "stdout",
     "output_type": "stream",
     "text": [
      "Index(['Team', 'Games', 'Win', 'Loss', 'Off.Rank', 'Off.Plays', 'Off.Yards',\n",
      "       'Off.Yards.Play', 'Off.TDs', 'Total.TDs',\n",
      "       ...\n",
      "       'Average.Time.of.Possession.per.Game', 'Turnover.Rank',\n",
      "       'Fumbles.Recovered', 'Opponents.Intercepted', 'Turnovers.Gain',\n",
      "       'Fumbles.Lost', 'Interceptions.Thrown.y', 'Turnovers.Lost',\n",
      "       'Turnover.Margin', 'Avg.Turnover.Margin.per.Game'],\n",
      "      dtype='object', length=146)\n"
     ]
    }
   ],
   "source": [
    "print(df13.columns)"
   ]
  },
  {
   "cell_type": "code",
   "execution_count": 45,
   "id": "50989cc8",
   "metadata": {},
   "outputs": [
    {
     "name": "stdout",
     "output_type": "stream",
     "text": [
      "['Team', 'Games', 'Win', 'Loss', 'Off.Rank', 'Off.Plays', 'Off.Yards', 'Off.Yards.Play', 'Off.TDs', 'Total.TDs', 'Off.Yards.per.Game', 'Def.Rank', 'Def.Plays', 'Yards.Allowed', 'Yards.Play.Allowed', 'Off.TDs.Allowed', 'Total.TDs.Allowed', 'Yards.Per.Game.Allowed', 'First.Down.Rank', 'First.Down.Runs', 'First.Down.Passes', 'First.Down.Penalties', 'First.Downs', 'First.Down.Def.Rank', 'Opp.First.Down.Runs', 'Opp.First.Down.Passes', 'Opp.First.Down.Penalties', 'Opp.First.Downs', 'X4th.Down.Rank', 'X4th.Attempts', 'X4th.Conversions', 'X4th.Percent', 'X4rd.Down.Def.Rank', 'Opp.4th.Conversion', 'Opp.4th.Attempt', 'Opponent.4th.Percent', 'Kickoff.Return.Rank', 'Kickoffs.Returned', 'Kickoff.Return.Yards', 'Kickoff.Return.Touchdowns', 'Avg.Yard.per.Kickoff.Return', 'Passing.Off.Rank', 'Pass.Attempts', 'Pass.Completions', 'Interceptions.Thrown.x', 'Pass.Yards', 'Pass.Yards.Attempt', 'Yards.Completion', 'Pass.Touchdowns', 'Pass.Yards.Per.Game', 'Pass.Def.Rank', 'Opp.Completions.Allowed', 'Opp.Pass.Attempts', 'Opp.Pass.Yds.Allowed', 'Opp.Pass.TDs.Allowed', 'Yards.Attempt.Allowed', 'Yards.Completion.Allowed', 'Pass.Yards.Per.Game.Allowed', 'Penalty.Rank', 'Penalties', 'Penalty.Yards', 'Penalty.Yards.Per.Game', 'Punt.Return.Rank', 'Punt.Returns', 'Net.Punt.Return.Yards', 'Punt.Return.Touchdowns', 'Avg.Yards.Per.Punt.Return', 'Punt.Return.Def.Rank', 'Opp.Punt.Returns', 'Opp.Net.Punt.Return.Yards', 'Opp.Punt.Return.Touchdowns.Allowed', 'Avg.Yards.Allowed.per.Punt.Return', 'Redzone.Off.Rank', 'Redzone.Attempts', 'Redzone.Rush.TD', 'Redzone.Pass.TD', 'Redzone.Field.Goals.Made', 'Redzone.Scores', 'Redzone.Points', 'Redzone.Def.Rank', 'Opp.Redzone.Attempts', 'Opp.Redzone.Rush.TD.Allowed', 'Opp.Redzone.Pass.Touchdowns.Allowed', 'Opp.Redzone.Field.Goals.Made', 'Opp.Redzone.Scores', 'Redzone.Points.Allowed', 'Rushing.Off.Rank', 'Rush.Attempts', 'Rush.Yds', 'Yards.Rush', 'Rushing.TD', 'Rushing.Yards.per.Game', 'Rushing.Def.Rank', 'Opp.Rush.Attempts', 'Opp.Rush.Yards.Alloweed', 'Yds.Rush.Allowed', 'Opp.Rush.Touchdowns.Allowed', 'Rush.Yards.Per.Game.Allowed', 'Sack.Rank', 'Sacks', 'Sack.Yards', 'Average.Sacks.per.Game', 'Scoring.Def.Rank', 'Touchdowns.Allowed', 'Opponent.Extra.Points', 'X2.Point.Conversions.Allowed', 'Opp.Deflected.Extra.Points', 'Opp.Feild.Goals.Made', 'Opp.Safety', 'Points.Allowed', 'Avg.Points.per.Game.Allowed', 'Scoring.Off.Rank', 'Touchdowns', 'PAT', 'X2.Point.Conversions', 'Defensive.Points', 'Feild.Goals', 'Safety', 'Total.Points', 'Points.Per.Game', 'Tackle.for.Loss.Rank', 'Solo.Tackle.For.Loss', 'Assist.Tackle.For.Loss', 'Tackle.for.Loss.Yards', 'Total.Tackle.For.Loss', 'Tackle.For.Loss.Per.Game', 'X3rd.Down.Rank', 'X3rd.Attempts', 'X3rd.Conversions', 'X3rd.Percent', 'X3rd.Down.Def.Rank', 'Opp.3rd.Conversion', 'Opp.3rd.Attempt', 'Opponent.3rd.Percent', 'Time.of.Possession.Rank', 'Time.of.Possession', 'Average.Time.of.Possession.per.Game', 'Turnover.Rank', 'Fumbles.Recovered', 'Opponents.Intercepted', 'Turnovers.Gain', 'Fumbles.Lost', 'Interceptions.Thrown.y', 'Turnovers.Lost', 'Turnover.Margin', 'Avg.Turnover.Margin.per.Game', 'Year']\n"
     ]
    }
   ],
   "source": [
    "print(list(df13.columns))"
   ]
  },
  {
   "cell_type": "code",
   "execution_count": 47,
   "id": "44189977",
   "metadata": {},
   "outputs": [
    {
     "data": {
      "text/html": [
       "<div>\n",
       "<style scoped>\n",
       "    .dataframe tbody tr th:only-of-type {\n",
       "        vertical-align: middle;\n",
       "    }\n",
       "\n",
       "    .dataframe tbody tr th {\n",
       "        vertical-align: top;\n",
       "    }\n",
       "\n",
       "    .dataframe thead th {\n",
       "        text-align: right;\n",
       "    }\n",
       "</style>\n",
       "<table border=\"1\" class=\"dataframe\">\n",
       "  <thead>\n",
       "    <tr style=\"text-align: right;\">\n",
       "      <th></th>\n",
       "      <th>Team</th>\n",
       "      <th>Games</th>\n",
       "      <th>Win</th>\n",
       "      <th>Loss</th>\n",
       "      <th>Off.Rank</th>\n",
       "      <th>Off.Plays</th>\n",
       "      <th>Off.Yards</th>\n",
       "      <th>Off.Yards.Play</th>\n",
       "      <th>Off.TDs</th>\n",
       "      <th>Total.TDs</th>\n",
       "      <th>...</th>\n",
       "      <th>Turnover.Rank</th>\n",
       "      <th>Fumbles.Recovered</th>\n",
       "      <th>Opponents.Intercepted</th>\n",
       "      <th>Turnovers.Gain</th>\n",
       "      <th>Fumbles.Lost</th>\n",
       "      <th>Interceptions.Thrown.y</th>\n",
       "      <th>Turnovers.Lost</th>\n",
       "      <th>Turnover.Margin</th>\n",
       "      <th>Avg.Turnover.Margin.per.Game</th>\n",
       "      <th>Year</th>\n",
       "    </tr>\n",
       "  </thead>\n",
       "  <tbody>\n",
       "    <tr>\n",
       "      <th>0</th>\n",
       "      <td>Akron (MAC)</td>\n",
       "      <td>12</td>\n",
       "      <td>5</td>\n",
       "      <td>7</td>\n",
       "      <td>88</td>\n",
       "      <td>891</td>\n",
       "      <td>4479</td>\n",
       "      <td>5.03</td>\n",
       "      <td>32</td>\n",
       "      <td>33</td>\n",
       "      <td>...</td>\n",
       "      <td>76</td>\n",
       "      <td>11</td>\n",
       "      <td>13</td>\n",
       "      <td>24</td>\n",
       "      <td>12</td>\n",
       "      <td>14</td>\n",
       "      <td>26</td>\n",
       "      <td>-2</td>\n",
       "      <td>-0.17</td>\n",
       "      <td>2014</td>\n",
       "    </tr>\n",
       "    <tr>\n",
       "      <th>1</th>\n",
       "      <td>Alabama (SEC)</td>\n",
       "      <td>14</td>\n",
       "      <td>12</td>\n",
       "      <td>2</td>\n",
       "      <td>17</td>\n",
       "      <td>1018</td>\n",
       "      <td>6783</td>\n",
       "      <td>6.66</td>\n",
       "      <td>67</td>\n",
       "      <td>68</td>\n",
       "      <td>...</td>\n",
       "      <td>71</td>\n",
       "      <td>9</td>\n",
       "      <td>11</td>\n",
       "      <td>20</td>\n",
       "      <td>12</td>\n",
       "      <td>10</td>\n",
       "      <td>22</td>\n",
       "      <td>-2</td>\n",
       "      <td>-0.14</td>\n",
       "      <td>2014</td>\n",
       "    </tr>\n",
       "  </tbody>\n",
       "</table>\n",
       "<p>2 rows × 147 columns</p>\n",
       "</div>"
      ],
      "text/plain": [
       "            Team  Games  Win  Loss  Off.Rank  Off.Plays  Off.Yards  \\\n",
       "0    Akron (MAC)     12    5     7        88        891       4479   \n",
       "1  Alabama (SEC)     14   12     2        17       1018       6783   \n",
       "\n",
       "   Off.Yards.Play  Off.TDs  Total.TDs  ...  Turnover.Rank  Fumbles.Recovered  \\\n",
       "0            5.03       32         33  ...             76                 11   \n",
       "1            6.66       67         68  ...             71                  9   \n",
       "\n",
       "   Opponents.Intercepted  Turnovers.Gain  Fumbles.Lost  \\\n",
       "0                     13              24            12   \n",
       "1                     11              20            12   \n",
       "\n",
       "   Interceptions.Thrown.y  Turnovers.Lost  Turnover.Margin  \\\n",
       "0                      14              26               -2   \n",
       "1                      10              22               -2   \n",
       "\n",
       "   Avg.Turnover.Margin.per.Game  Year  \n",
       "0                         -0.17  2014  \n",
       "1                         -0.14  2014  \n",
       "\n",
       "[2 rows x 147 columns]"
      ]
     },
     "execution_count": 47,
     "metadata": {},
     "output_type": "execute_result"
    }
   ],
   "source": [
    "df14 = pd.read_csv('cfb14.csv')\n",
    "df14['Year'] = 2014\n",
    "df14.head(2)"
   ]
  },
  {
   "cell_type": "code",
   "execution_count": 36,
   "id": "54dbfc72",
   "metadata": {},
   "outputs": [
    {
     "data": {
      "text/plain": [
       "113"
      ]
     },
     "execution_count": 36,
     "metadata": {},
     "output_type": "execute_result"
    }
   ],
   "source": [
    "len(df14.index)"
   ]
  },
  {
   "cell_type": "code",
   "execution_count": 48,
   "id": "52b70e2b",
   "metadata": {},
   "outputs": [
    {
     "data": {
      "text/html": [
       "<div>\n",
       "<style scoped>\n",
       "    .dataframe tbody tr th:only-of-type {\n",
       "        vertical-align: middle;\n",
       "    }\n",
       "\n",
       "    .dataframe tbody tr th {\n",
       "        vertical-align: top;\n",
       "    }\n",
       "\n",
       "    .dataframe thead th {\n",
       "        text-align: right;\n",
       "    }\n",
       "</style>\n",
       "<table border=\"1\" class=\"dataframe\">\n",
       "  <thead>\n",
       "    <tr style=\"text-align: right;\">\n",
       "      <th></th>\n",
       "      <th>Team</th>\n",
       "      <th>Games</th>\n",
       "      <th>Win</th>\n",
       "      <th>Loss</th>\n",
       "      <th>Off.Rank</th>\n",
       "      <th>Off.Plays</th>\n",
       "      <th>Off.Yards</th>\n",
       "      <th>Off.Yards.Play</th>\n",
       "      <th>Off.TDs</th>\n",
       "      <th>Total.TDs</th>\n",
       "      <th>...</th>\n",
       "      <th>Turnover.Rank</th>\n",
       "      <th>Fumbles.Recovered</th>\n",
       "      <th>Opponents.Intercepted</th>\n",
       "      <th>Turnovers.Gain</th>\n",
       "      <th>Fumbles.Lost</th>\n",
       "      <th>Interceptions.Thrown.y</th>\n",
       "      <th>Turnovers.Lost</th>\n",
       "      <th>Turnover.Margin</th>\n",
       "      <th>Avg.Turnover.Margin.per.Game</th>\n",
       "      <th>Year</th>\n",
       "    </tr>\n",
       "  </thead>\n",
       "  <tbody>\n",
       "    <tr>\n",
       "      <th>0</th>\n",
       "      <td>Akron (MAC)</td>\n",
       "      <td>13</td>\n",
       "      <td>8</td>\n",
       "      <td>5</td>\n",
       "      <td>104</td>\n",
       "      <td>905</td>\n",
       "      <td>4642</td>\n",
       "      <td>5.13</td>\n",
       "      <td>38</td>\n",
       "      <td>37</td>\n",
       "      <td>...</td>\n",
       "      <td>13</td>\n",
       "      <td>14</td>\n",
       "      <td>14</td>\n",
       "      <td>28</td>\n",
       "      <td>6</td>\n",
       "      <td>12</td>\n",
       "      <td>18</td>\n",
       "      <td>10</td>\n",
       "      <td>0.77</td>\n",
       "      <td>2015</td>\n",
       "    </tr>\n",
       "    <tr>\n",
       "      <th>1</th>\n",
       "      <td>Alabama (SEC)</td>\n",
       "      <td>15</td>\n",
       "      <td>14</td>\n",
       "      <td>1</td>\n",
       "      <td>45</td>\n",
       "      <td>1088</td>\n",
       "      <td>6406</td>\n",
       "      <td>5.89</td>\n",
       "      <td>55</td>\n",
       "      <td>26</td>\n",
       "      <td>...</td>\n",
       "      <td>21</td>\n",
       "      <td>8</td>\n",
       "      <td>19</td>\n",
       "      <td>27</td>\n",
       "      <td>7</td>\n",
       "      <td>10</td>\n",
       "      <td>17</td>\n",
       "      <td>10</td>\n",
       "      <td>0.67</td>\n",
       "      <td>2015</td>\n",
       "    </tr>\n",
       "  </tbody>\n",
       "</table>\n",
       "<p>2 rows × 147 columns</p>\n",
       "</div>"
      ],
      "text/plain": [
       "            Team  Games  Win  Loss  Off.Rank  Off.Plays  Off.Yards  \\\n",
       "0    Akron (MAC)     13    8     5       104        905       4642   \n",
       "1  Alabama (SEC)     15   14     1        45       1088       6406   \n",
       "\n",
       "   Off.Yards.Play  Off.TDs  Total.TDs  ...  Turnover.Rank  Fumbles.Recovered  \\\n",
       "0            5.13       38         37  ...             13                 14   \n",
       "1            5.89       55         26  ...             21                  8   \n",
       "\n",
       "   Opponents.Intercepted  Turnovers.Gain  Fumbles.Lost  \\\n",
       "0                     14              28             6   \n",
       "1                     19              27             7   \n",
       "\n",
       "   Interceptions.Thrown.y  Turnovers.Lost  Turnover.Margin  \\\n",
       "0                      12              18               10   \n",
       "1                      10              17               10   \n",
       "\n",
       "   Avg.Turnover.Margin.per.Game  Year  \n",
       "0                          0.77  2015  \n",
       "1                          0.67  2015  \n",
       "\n",
       "[2 rows x 147 columns]"
      ]
     },
     "execution_count": 48,
     "metadata": {},
     "output_type": "execute_result"
    }
   ],
   "source": [
    "df15 = pd.read_csv('cfb15.csv')\n",
    "df15['Year'] = 2015\n",
    "df15.head(2)"
   ]
  },
  {
   "cell_type": "code",
   "execution_count": 37,
   "id": "36870034",
   "metadata": {},
   "outputs": [
    {
     "data": {
      "text/plain": [
       "115"
      ]
     },
     "execution_count": 37,
     "metadata": {},
     "output_type": "execute_result"
    }
   ],
   "source": [
    "len(df15.index)"
   ]
  },
  {
   "cell_type": "code",
   "execution_count": 49,
   "id": "ec572317",
   "metadata": {
    "scrolled": true
   },
   "outputs": [
    {
     "data": {
      "text/html": [
       "<div>\n",
       "<style scoped>\n",
       "    .dataframe tbody tr th:only-of-type {\n",
       "        vertical-align: middle;\n",
       "    }\n",
       "\n",
       "    .dataframe tbody tr th {\n",
       "        vertical-align: top;\n",
       "    }\n",
       "\n",
       "    .dataframe thead th {\n",
       "        text-align: right;\n",
       "    }\n",
       "</style>\n",
       "<table border=\"1\" class=\"dataframe\">\n",
       "  <thead>\n",
       "    <tr style=\"text-align: right;\">\n",
       "      <th></th>\n",
       "      <th>Team</th>\n",
       "      <th>Games</th>\n",
       "      <th>Win</th>\n",
       "      <th>Loss</th>\n",
       "      <th>Off.Rank</th>\n",
       "      <th>Off.Plays</th>\n",
       "      <th>Off.Yards</th>\n",
       "      <th>Off.Yards.Play</th>\n",
       "      <th>Off.TDs</th>\n",
       "      <th>Off.Yards.per.Game</th>\n",
       "      <th>...</th>\n",
       "      <th>Turnover.Rank</th>\n",
       "      <th>Fumbles.Recovered</th>\n",
       "      <th>Opponents.Intercepted</th>\n",
       "      <th>Turnovers.Gain</th>\n",
       "      <th>Fumbles.Lost</th>\n",
       "      <th>Interceptions.Thrown.y</th>\n",
       "      <th>Turnovers.Lost</th>\n",
       "      <th>Turnover.Margin</th>\n",
       "      <th>Avg.Turnover.Margin.per.Game</th>\n",
       "      <th>Year</th>\n",
       "    </tr>\n",
       "  </thead>\n",
       "  <tbody>\n",
       "    <tr>\n",
       "      <th>0</th>\n",
       "      <td>Akron (MAC)</td>\n",
       "      <td>12</td>\n",
       "      <td>5</td>\n",
       "      <td>7</td>\n",
       "      <td>84</td>\n",
       "      <td>776</td>\n",
       "      <td>4649</td>\n",
       "      <td>5.99</td>\n",
       "      <td>38</td>\n",
       "      <td>387.4</td>\n",
       "      <td>...</td>\n",
       "      <td>114</td>\n",
       "      <td>6</td>\n",
       "      <td>8</td>\n",
       "      <td>14</td>\n",
       "      <td>8</td>\n",
       "      <td>14</td>\n",
       "      <td>22</td>\n",
       "      <td>-8</td>\n",
       "      <td>-0.67</td>\n",
       "      <td>2016</td>\n",
       "    </tr>\n",
       "    <tr>\n",
       "      <th>1</th>\n",
       "      <td>Alabama (SEC)</td>\n",
       "      <td>15</td>\n",
       "      <td>14</td>\n",
       "      <td>1</td>\n",
       "      <td>34</td>\n",
       "      <td>1056</td>\n",
       "      <td>6829</td>\n",
       "      <td>6.47</td>\n",
       "      <td>59</td>\n",
       "      <td>455.3</td>\n",
       "      <td>...</td>\n",
       "      <td>17</td>\n",
       "      <td>13</td>\n",
       "      <td>16</td>\n",
       "      <td>29</td>\n",
       "      <td>10</td>\n",
       "      <td>9</td>\n",
       "      <td>19</td>\n",
       "      <td>10</td>\n",
       "      <td>0.67</td>\n",
       "      <td>2016</td>\n",
       "    </tr>\n",
       "  </tbody>\n",
       "</table>\n",
       "<p>2 rows × 153 columns</p>\n",
       "</div>"
      ],
      "text/plain": [
       "            Team  Games  Win  Loss  Off.Rank  Off.Plays  Off.Yards  \\\n",
       "0    Akron (MAC)     12    5     7        84        776       4649   \n",
       "1  Alabama (SEC)     15   14     1        34       1056       6829   \n",
       "\n",
       "   Off.Yards.Play  Off.TDs  Off.Yards.per.Game  ...  Turnover.Rank  \\\n",
       "0            5.99       38               387.4  ...            114   \n",
       "1            6.47       59               455.3  ...             17   \n",
       "\n",
       "   Fumbles.Recovered  Opponents.Intercepted  Turnovers.Gain  Fumbles.Lost  \\\n",
       "0                  6                      8              14             8   \n",
       "1                 13                     16              29            10   \n",
       "\n",
       "   Interceptions.Thrown.y  Turnovers.Lost  Turnover.Margin  \\\n",
       "0                      14              22               -8   \n",
       "1                       9              19               10   \n",
       "\n",
       "   Avg.Turnover.Margin.per.Game  Year  \n",
       "0                         -0.67  2016  \n",
       "1                          0.67  2016  \n",
       "\n",
       "[2 rows x 153 columns]"
      ]
     },
     "execution_count": 49,
     "metadata": {},
     "output_type": "execute_result"
    }
   ],
   "source": [
    "df16 = pd.read_csv('cfb16.csv')\n",
    "df16['Year'] = 2016\n",
    "df16.head(2)"
   ]
  },
  {
   "cell_type": "code",
   "execution_count": 38,
   "id": "21390b66",
   "metadata": {},
   "outputs": [
    {
     "data": {
      "text/plain": [
       "116"
      ]
     },
     "execution_count": 38,
     "metadata": {},
     "output_type": "execute_result"
    }
   ],
   "source": [
    "len(df16.index)"
   ]
  },
  {
   "cell_type": "code",
   "execution_count": 50,
   "id": "86eebcbf",
   "metadata": {},
   "outputs": [
    {
     "data": {
      "text/html": [
       "<div>\n",
       "<style scoped>\n",
       "    .dataframe tbody tr th:only-of-type {\n",
       "        vertical-align: middle;\n",
       "    }\n",
       "\n",
       "    .dataframe tbody tr th {\n",
       "        vertical-align: top;\n",
       "    }\n",
       "\n",
       "    .dataframe thead th {\n",
       "        text-align: right;\n",
       "    }\n",
       "</style>\n",
       "<table border=\"1\" class=\"dataframe\">\n",
       "  <thead>\n",
       "    <tr style=\"text-align: right;\">\n",
       "      <th></th>\n",
       "      <th>Team</th>\n",
       "      <th>Games</th>\n",
       "      <th>Win</th>\n",
       "      <th>Loss</th>\n",
       "      <th>Off.Rank</th>\n",
       "      <th>Off.Plays</th>\n",
       "      <th>Off.Yards</th>\n",
       "      <th>Off.Yards.Play</th>\n",
       "      <th>Off.TDs</th>\n",
       "      <th>Off.Yards.per.Game</th>\n",
       "      <th>...</th>\n",
       "      <th>Turnover.Rank</th>\n",
       "      <th>Fumbles.Recovered</th>\n",
       "      <th>Opponents.Intercepted</th>\n",
       "      <th>Turnovers.Gain</th>\n",
       "      <th>Fumbles.Lost</th>\n",
       "      <th>Interceptions.Thrown.y</th>\n",
       "      <th>Turnovers.Lost</th>\n",
       "      <th>Turnover.Margin</th>\n",
       "      <th>Avg.Turnover.Margin.per.Game</th>\n",
       "      <th>Year</th>\n",
       "    </tr>\n",
       "  </thead>\n",
       "  <tbody>\n",
       "    <tr>\n",
       "      <th>0</th>\n",
       "      <td>Air Force (MWC)</td>\n",
       "      <td>12</td>\n",
       "      <td>5</td>\n",
       "      <td>7</td>\n",
       "      <td>49</td>\n",
       "      <td>908</td>\n",
       "      <td>5010</td>\n",
       "      <td>5.52</td>\n",
       "      <td>48</td>\n",
       "      <td>417.5</td>\n",
       "      <td>...</td>\n",
       "      <td>119</td>\n",
       "      <td>5</td>\n",
       "      <td>5</td>\n",
       "      <td>10</td>\n",
       "      <td>14</td>\n",
       "      <td>6</td>\n",
       "      <td>20</td>\n",
       "      <td>-10</td>\n",
       "      <td>-0.83</td>\n",
       "      <td>2017</td>\n",
       "    </tr>\n",
       "    <tr>\n",
       "      <th>1</th>\n",
       "      <td>Akron (MAC)</td>\n",
       "      <td>14</td>\n",
       "      <td>7</td>\n",
       "      <td>7</td>\n",
       "      <td>121</td>\n",
       "      <td>906</td>\n",
       "      <td>4424</td>\n",
       "      <td>4.88</td>\n",
       "      <td>38</td>\n",
       "      <td>316.0</td>\n",
       "      <td>...</td>\n",
       "      <td>19</td>\n",
       "      <td>8</td>\n",
       "      <td>19</td>\n",
       "      <td>27</td>\n",
       "      <td>6</td>\n",
       "      <td>11</td>\n",
       "      <td>17</td>\n",
       "      <td>10</td>\n",
       "      <td>0.71</td>\n",
       "      <td>2017</td>\n",
       "    </tr>\n",
       "  </tbody>\n",
       "</table>\n",
       "<p>2 rows × 153 columns</p>\n",
       "</div>"
      ],
      "text/plain": [
       "              Team  Games  Win  Loss  Off.Rank  Off.Plays  Off.Yards  \\\n",
       "0  Air Force (MWC)     12    5     7        49        908       5010   \n",
       "1      Akron (MAC)     14    7     7       121        906       4424   \n",
       "\n",
       "   Off.Yards.Play  Off.TDs  Off.Yards.per.Game  ...  Turnover.Rank  \\\n",
       "0            5.52       48               417.5  ...            119   \n",
       "1            4.88       38               316.0  ...             19   \n",
       "\n",
       "   Fumbles.Recovered  Opponents.Intercepted  Turnovers.Gain  Fumbles.Lost  \\\n",
       "0                  5                      5              10            14   \n",
       "1                  8                     19              27             6   \n",
       "\n",
       "   Interceptions.Thrown.y  Turnovers.Lost  Turnover.Margin  \\\n",
       "0                       6              20              -10   \n",
       "1                      11              17               10   \n",
       "\n",
       "   Avg.Turnover.Margin.per.Game  Year  \n",
       "0                         -0.83  2017  \n",
       "1                          0.71  2017  \n",
       "\n",
       "[2 rows x 153 columns]"
      ]
     },
     "execution_count": 50,
     "metadata": {},
     "output_type": "execute_result"
    }
   ],
   "source": [
    "df17 = pd.read_csv('cfb17.csv')\n",
    "df17['Year'] = 2017\n",
    "df17.head(2)"
   ]
  },
  {
   "cell_type": "code",
   "execution_count": 39,
   "id": "9c3b1e47",
   "metadata": {},
   "outputs": [
    {
     "data": {
      "text/plain": [
       "129"
      ]
     },
     "execution_count": 39,
     "metadata": {},
     "output_type": "execute_result"
    }
   ],
   "source": [
    "len(df17.index)"
   ]
  },
  {
   "cell_type": "code",
   "execution_count": 51,
   "id": "b965bb2b",
   "metadata": {},
   "outputs": [
    {
     "data": {
      "text/html": [
       "<div>\n",
       "<style scoped>\n",
       "    .dataframe tbody tr th:only-of-type {\n",
       "        vertical-align: middle;\n",
       "    }\n",
       "\n",
       "    .dataframe tbody tr th {\n",
       "        vertical-align: top;\n",
       "    }\n",
       "\n",
       "    .dataframe thead th {\n",
       "        text-align: right;\n",
       "    }\n",
       "</style>\n",
       "<table border=\"1\" class=\"dataframe\">\n",
       "  <thead>\n",
       "    <tr style=\"text-align: right;\">\n",
       "      <th></th>\n",
       "      <th>Team</th>\n",
       "      <th>Games</th>\n",
       "      <th>Win</th>\n",
       "      <th>Loss</th>\n",
       "      <th>Off.Rank</th>\n",
       "      <th>Off.Plays</th>\n",
       "      <th>Off.Yards</th>\n",
       "      <th>Off.Yards.Play</th>\n",
       "      <th>Off.TDs</th>\n",
       "      <th>Off.Yards.per.Game</th>\n",
       "      <th>...</th>\n",
       "      <th>Turnover.Rank</th>\n",
       "      <th>Fumbles.Recovered</th>\n",
       "      <th>Opponents.Intercepted</th>\n",
       "      <th>Turnovers.Gain</th>\n",
       "      <th>Fumbles.Lost</th>\n",
       "      <th>Interceptions.Thrown.y</th>\n",
       "      <th>Turnovers.Lost</th>\n",
       "      <th>Turnover.Margin</th>\n",
       "      <th>Avg.Turnover.Margin.per.Game</th>\n",
       "      <th>Year</th>\n",
       "    </tr>\n",
       "  </thead>\n",
       "  <tbody>\n",
       "    <tr>\n",
       "      <th>0</th>\n",
       "      <td>Air Force (MWC)</td>\n",
       "      <td>12</td>\n",
       "      <td>5</td>\n",
       "      <td>7</td>\n",
       "      <td>52</td>\n",
       "      <td>882</td>\n",
       "      <td>4978</td>\n",
       "      <td>5.64</td>\n",
       "      <td>43</td>\n",
       "      <td>414.8</td>\n",
       "      <td>...</td>\n",
       "      <td>77</td>\n",
       "      <td>7</td>\n",
       "      <td>7</td>\n",
       "      <td>14</td>\n",
       "      <td>10</td>\n",
       "      <td>5</td>\n",
       "      <td>15</td>\n",
       "      <td>-1</td>\n",
       "      <td>-0.08</td>\n",
       "      <td>2018</td>\n",
       "    </tr>\n",
       "    <tr>\n",
       "      <th>1</th>\n",
       "      <td>Akron (MAC)</td>\n",
       "      <td>12</td>\n",
       "      <td>4</td>\n",
       "      <td>8</td>\n",
       "      <td>126</td>\n",
       "      <td>764</td>\n",
       "      <td>3533</td>\n",
       "      <td>4.62</td>\n",
       "      <td>21</td>\n",
       "      <td>294.4</td>\n",
       "      <td>...</td>\n",
       "      <td>103</td>\n",
       "      <td>11</td>\n",
       "      <td>10</td>\n",
       "      <td>21</td>\n",
       "      <td>12</td>\n",
       "      <td>14</td>\n",
       "      <td>26</td>\n",
       "      <td>-5</td>\n",
       "      <td>-0.42</td>\n",
       "      <td>2018</td>\n",
       "    </tr>\n",
       "  </tbody>\n",
       "</table>\n",
       "<p>2 rows × 153 columns</p>\n",
       "</div>"
      ],
      "text/plain": [
       "              Team  Games  Win  Loss  Off.Rank  Off.Plays  Off.Yards  \\\n",
       "0  Air Force (MWC)     12    5     7        52        882       4978   \n",
       "1      Akron (MAC)     12    4     8       126        764       3533   \n",
       "\n",
       "   Off.Yards.Play  Off.TDs  Off.Yards.per.Game  ...  Turnover.Rank  \\\n",
       "0            5.64       43               414.8  ...             77   \n",
       "1            4.62       21               294.4  ...            103   \n",
       "\n",
       "   Fumbles.Recovered  Opponents.Intercepted  Turnovers.Gain  Fumbles.Lost  \\\n",
       "0                  7                      7              14            10   \n",
       "1                 11                     10              21            12   \n",
       "\n",
       "   Interceptions.Thrown.y  Turnovers.Lost  Turnover.Margin  \\\n",
       "0                       5              15               -1   \n",
       "1                      14              26               -5   \n",
       "\n",
       "   Avg.Turnover.Margin.per.Game  Year  \n",
       "0                         -0.08  2018  \n",
       "1                         -0.42  2018  \n",
       "\n",
       "[2 rows x 153 columns]"
      ]
     },
     "execution_count": 51,
     "metadata": {},
     "output_type": "execute_result"
    }
   ],
   "source": [
    "df18 = pd.read_csv('cfb18.csv')\n",
    "df18['Year'] = 2018\n",
    "df18.head(2)"
   ]
  },
  {
   "cell_type": "code",
   "execution_count": 40,
   "id": "8a6bcd4d",
   "metadata": {},
   "outputs": [
    {
     "data": {
      "text/plain": [
       "129"
      ]
     },
     "execution_count": 40,
     "metadata": {},
     "output_type": "execute_result"
    }
   ],
   "source": [
    "len(df18.index)"
   ]
  },
  {
   "cell_type": "code",
   "execution_count": 52,
   "id": "a3c266e5",
   "metadata": {},
   "outputs": [
    {
     "data": {
      "text/html": [
       "<div>\n",
       "<style scoped>\n",
       "    .dataframe tbody tr th:only-of-type {\n",
       "        vertical-align: middle;\n",
       "    }\n",
       "\n",
       "    .dataframe tbody tr th {\n",
       "        vertical-align: top;\n",
       "    }\n",
       "\n",
       "    .dataframe thead th {\n",
       "        text-align: right;\n",
       "    }\n",
       "</style>\n",
       "<table border=\"1\" class=\"dataframe\">\n",
       "  <thead>\n",
       "    <tr style=\"text-align: right;\">\n",
       "      <th></th>\n",
       "      <th>Team</th>\n",
       "      <th>Games</th>\n",
       "      <th>Win</th>\n",
       "      <th>Loss</th>\n",
       "      <th>Off.Rank</th>\n",
       "      <th>Off.Plays</th>\n",
       "      <th>Off.Yards</th>\n",
       "      <th>Off.Yards.Play</th>\n",
       "      <th>Off.TDs</th>\n",
       "      <th>Off.Yards.per.Game</th>\n",
       "      <th>...</th>\n",
       "      <th>Turnover.Rank</th>\n",
       "      <th>Fumbles.Recovered</th>\n",
       "      <th>Opponents.Intercepted</th>\n",
       "      <th>Turnovers.Gain</th>\n",
       "      <th>Fumbles.Lost</th>\n",
       "      <th>Interceptions.Thrown.y</th>\n",
       "      <th>Turnovers.Lost</th>\n",
       "      <th>Turnover.Margin</th>\n",
       "      <th>Avg.Turnover.Margin.per.Game</th>\n",
       "      <th>Year</th>\n",
       "    </tr>\n",
       "  </thead>\n",
       "  <tbody>\n",
       "    <tr>\n",
       "      <th>0</th>\n",
       "      <td>Air Force (Mountain West)</td>\n",
       "      <td>13</td>\n",
       "      <td>11</td>\n",
       "      <td>2</td>\n",
       "      <td>51</td>\n",
       "      <td>881</td>\n",
       "      <td>5483</td>\n",
       "      <td>6.22</td>\n",
       "      <td>55</td>\n",
       "      <td>421.8</td>\n",
       "      <td>...</td>\n",
       "      <td>78</td>\n",
       "      <td>9</td>\n",
       "      <td>7</td>\n",
       "      <td>16</td>\n",
       "      <td>12</td>\n",
       "      <td>6</td>\n",
       "      <td>18</td>\n",
       "      <td>-2</td>\n",
       "      <td>-0.15</td>\n",
       "      <td>2019</td>\n",
       "    </tr>\n",
       "    <tr>\n",
       "      <th>1</th>\n",
       "      <td>Akron (MAC)</td>\n",
       "      <td>12</td>\n",
       "      <td>0</td>\n",
       "      <td>12</td>\n",
       "      <td>130</td>\n",
       "      <td>725</td>\n",
       "      <td>2918</td>\n",
       "      <td>4.02</td>\n",
       "      <td>14</td>\n",
       "      <td>243.2</td>\n",
       "      <td>...</td>\n",
       "      <td>128</td>\n",
       "      <td>6</td>\n",
       "      <td>5</td>\n",
       "      <td>11</td>\n",
       "      <td>12</td>\n",
       "      <td>14</td>\n",
       "      <td>26</td>\n",
       "      <td>-15</td>\n",
       "      <td>-1.25</td>\n",
       "      <td>2019</td>\n",
       "    </tr>\n",
       "  </tbody>\n",
       "</table>\n",
       "<p>2 rows × 153 columns</p>\n",
       "</div>"
      ],
      "text/plain": [
       "                        Team  Games  Win  Loss  Off.Rank  Off.Plays  \\\n",
       "0  Air Force (Mountain West)     13   11     2        51        881   \n",
       "1                Akron (MAC)     12    0    12       130        725   \n",
       "\n",
       "   Off.Yards  Off.Yards.Play  Off.TDs  Off.Yards.per.Game  ...  Turnover.Rank  \\\n",
       "0       5483            6.22       55               421.8  ...             78   \n",
       "1       2918            4.02       14               243.2  ...            128   \n",
       "\n",
       "   Fumbles.Recovered  Opponents.Intercepted  Turnovers.Gain  Fumbles.Lost  \\\n",
       "0                  9                      7              16            12   \n",
       "1                  6                      5              11            12   \n",
       "\n",
       "   Interceptions.Thrown.y  Turnovers.Lost  Turnover.Margin  \\\n",
       "0                       6              18               -2   \n",
       "1                      14              26              -15   \n",
       "\n",
       "   Avg.Turnover.Margin.per.Game  Year  \n",
       "0                         -0.15  2019  \n",
       "1                         -1.25  2019  \n",
       "\n",
       "[2 rows x 153 columns]"
      ]
     },
     "execution_count": 52,
     "metadata": {},
     "output_type": "execute_result"
    }
   ],
   "source": [
    "df19 = pd.read_csv('cfb19.csv')\n",
    "df19['Year'] = 2019\n",
    "df19.head(2)"
   ]
  },
  {
   "cell_type": "code",
   "execution_count": 41,
   "id": "f4d37865",
   "metadata": {},
   "outputs": [
    {
     "data": {
      "text/plain": [
       "130"
      ]
     },
     "execution_count": 41,
     "metadata": {},
     "output_type": "execute_result"
    }
   ],
   "source": [
    "len(df19.index)"
   ]
  },
  {
   "cell_type": "code",
   "execution_count": 53,
   "id": "b0dac48f",
   "metadata": {
    "scrolled": true
   },
   "outputs": [
    {
     "data": {
      "text/html": [
       "<div>\n",
       "<style scoped>\n",
       "    .dataframe tbody tr th:only-of-type {\n",
       "        vertical-align: middle;\n",
       "    }\n",
       "\n",
       "    .dataframe tbody tr th {\n",
       "        vertical-align: top;\n",
       "    }\n",
       "\n",
       "    .dataframe thead th {\n",
       "        text-align: right;\n",
       "    }\n",
       "</style>\n",
       "<table border=\"1\" class=\"dataframe\">\n",
       "  <thead>\n",
       "    <tr style=\"text-align: right;\">\n",
       "      <th></th>\n",
       "      <th>Team</th>\n",
       "      <th>Games</th>\n",
       "      <th>Win</th>\n",
       "      <th>Loss</th>\n",
       "      <th>Off.Rank</th>\n",
       "      <th>Off.Plays</th>\n",
       "      <th>Off.Yards</th>\n",
       "      <th>Off.Yards.Play</th>\n",
       "      <th>Off.TDs</th>\n",
       "      <th>Off.Yards.per.Game</th>\n",
       "      <th>...</th>\n",
       "      <th>Turnover.Rank</th>\n",
       "      <th>Fumbles.Recovered</th>\n",
       "      <th>Opponents.Intercepted</th>\n",
       "      <th>Turnovers.Gain</th>\n",
       "      <th>Fumbles.Lost</th>\n",
       "      <th>Interceptions.Thrown.y</th>\n",
       "      <th>Turnovers.Lost</th>\n",
       "      <th>Turnover.Margin</th>\n",
       "      <th>Avg.Turnover.Margin.per.Game</th>\n",
       "      <th>Year</th>\n",
       "    </tr>\n",
       "  </thead>\n",
       "  <tbody>\n",
       "    <tr>\n",
       "      <th>0</th>\n",
       "      <td>Air Force (Mountain West)</td>\n",
       "      <td>6</td>\n",
       "      <td>3</td>\n",
       "      <td>3</td>\n",
       "      <td>73</td>\n",
       "      <td>373</td>\n",
       "      <td>2336</td>\n",
       "      <td>6.26</td>\n",
       "      <td>19</td>\n",
       "      <td>389.3</td>\n",
       "      <td>...</td>\n",
       "      <td>58</td>\n",
       "      <td>3</td>\n",
       "      <td>5</td>\n",
       "      <td>8</td>\n",
       "      <td>5</td>\n",
       "      <td>3</td>\n",
       "      <td>8</td>\n",
       "      <td>0</td>\n",
       "      <td>0.0</td>\n",
       "      <td>2020</td>\n",
       "    </tr>\n",
       "    <tr>\n",
       "      <th>1</th>\n",
       "      <td>Akron (MAC)</td>\n",
       "      <td>6</td>\n",
       "      <td>1</td>\n",
       "      <td>5</td>\n",
       "      <td>121</td>\n",
       "      <td>360</td>\n",
       "      <td>1687</td>\n",
       "      <td>4.69</td>\n",
       "      <td>12</td>\n",
       "      <td>281.2</td>\n",
       "      <td>...</td>\n",
       "      <td>98</td>\n",
       "      <td>4</td>\n",
       "      <td>2</td>\n",
       "      <td>6</td>\n",
       "      <td>3</td>\n",
       "      <td>6</td>\n",
       "      <td>9</td>\n",
       "      <td>-3</td>\n",
       "      <td>-0.5</td>\n",
       "      <td>2020</td>\n",
       "    </tr>\n",
       "  </tbody>\n",
       "</table>\n",
       "<p>2 rows × 153 columns</p>\n",
       "</div>"
      ],
      "text/plain": [
       "                        Team  Games  Win  Loss  Off.Rank  Off.Plays  \\\n",
       "0  Air Force (Mountain West)      6    3     3        73        373   \n",
       "1                Akron (MAC)      6    1     5       121        360   \n",
       "\n",
       "   Off.Yards  Off.Yards.Play  Off.TDs  Off.Yards.per.Game  ...  Turnover.Rank  \\\n",
       "0       2336            6.26       19               389.3  ...             58   \n",
       "1       1687            4.69       12               281.2  ...             98   \n",
       "\n",
       "   Fumbles.Recovered  Opponents.Intercepted  Turnovers.Gain  Fumbles.Lost  \\\n",
       "0                  3                      5               8             5   \n",
       "1                  4                      2               6             3   \n",
       "\n",
       "   Interceptions.Thrown.y  Turnovers.Lost  Turnover.Margin  \\\n",
       "0                       3               8                0   \n",
       "1                       6               9               -3   \n",
       "\n",
       "   Avg.Turnover.Margin.per.Game  Year  \n",
       "0                           0.0  2020  \n",
       "1                          -0.5  2020  \n",
       "\n",
       "[2 rows x 153 columns]"
      ]
     },
     "execution_count": 53,
     "metadata": {},
     "output_type": "execute_result"
    }
   ],
   "source": [
    "df20 = pd.read_csv('cfb20.csv')\n",
    "df20['Year'] = 2020\n",
    "df20.head(2)"
   ]
  },
  {
   "cell_type": "code",
   "execution_count": 54,
   "id": "1aa504f0",
   "metadata": {},
   "outputs": [
    {
     "data": {
      "text/plain": [
       "127"
      ]
     },
     "execution_count": 54,
     "metadata": {},
     "output_type": "execute_result"
    }
   ],
   "source": [
    "len(df20.index)"
   ]
  },
  {
   "cell_type": "markdown",
   "id": "f347ac3c",
   "metadata": {},
   "source": [
    "we have to be careful with 2020 data as teams played less games during the covid year"
   ]
  },
  {
   "cell_type": "code",
   "execution_count": 55,
   "id": "c3e8586c",
   "metadata": {},
   "outputs": [
    {
     "data": {
      "text/html": [
       "<div>\n",
       "<style scoped>\n",
       "    .dataframe tbody tr th:only-of-type {\n",
       "        vertical-align: middle;\n",
       "    }\n",
       "\n",
       "    .dataframe tbody tr th {\n",
       "        vertical-align: top;\n",
       "    }\n",
       "\n",
       "    .dataframe thead th {\n",
       "        text-align: right;\n",
       "    }\n",
       "</style>\n",
       "<table border=\"1\" class=\"dataframe\">\n",
       "  <thead>\n",
       "    <tr style=\"text-align: right;\">\n",
       "      <th></th>\n",
       "      <th>Team</th>\n",
       "      <th>Games</th>\n",
       "      <th>Win</th>\n",
       "      <th>Loss</th>\n",
       "      <th>Off.Rank</th>\n",
       "      <th>Off.Plays</th>\n",
       "      <th>Off.Yards</th>\n",
       "      <th>Off.Yards.Play</th>\n",
       "      <th>Off.TDs</th>\n",
       "      <th>Total.TDs</th>\n",
       "      <th>...</th>\n",
       "      <th>Turnover.Margin</th>\n",
       "      <th>Avg.Turnover.Margin.per.Game</th>\n",
       "      <th>Year</th>\n",
       "      <th>...40</th>\n",
       "      <th>Kickoff.Return.Def.Rank</th>\n",
       "      <th>Opp.Kickoff.Returns</th>\n",
       "      <th>Kickoff.Touchbacks</th>\n",
       "      <th>Opponent.Kickoff.Return.Yards</th>\n",
       "      <th>Opp.Kickoff.Return.Touchdowns.Allowed</th>\n",
       "      <th>Avg.Yards.per.Kickoff.Return.Allowed</th>\n",
       "    </tr>\n",
       "  </thead>\n",
       "  <tbody>\n",
       "    <tr>\n",
       "      <th>0</th>\n",
       "      <td>Akron (MAC)</td>\n",
       "      <td>12</td>\n",
       "      <td>5</td>\n",
       "      <td>7</td>\n",
       "      <td>106</td>\n",
       "      <td>837</td>\n",
       "      <td>4104</td>\n",
       "      <td>4.90</td>\n",
       "      <td>30</td>\n",
       "      <td>31.0</td>\n",
       "      <td>...</td>\n",
       "      <td>-2</td>\n",
       "      <td>-0.17</td>\n",
       "      <td>2013</td>\n",
       "      <td>NaN</td>\n",
       "      <td>NaN</td>\n",
       "      <td>NaN</td>\n",
       "      <td>NaN</td>\n",
       "      <td>NaN</td>\n",
       "      <td>NaN</td>\n",
       "      <td>NaN</td>\n",
       "    </tr>\n",
       "    <tr>\n",
       "      <th>1</th>\n",
       "      <td>Alabama (SEC)</td>\n",
       "      <td>13</td>\n",
       "      <td>11</td>\n",
       "      <td>2</td>\n",
       "      <td>33</td>\n",
       "      <td>826</td>\n",
       "      <td>5903</td>\n",
       "      <td>7.15</td>\n",
       "      <td>58</td>\n",
       "      <td>65.0</td>\n",
       "      <td>...</td>\n",
       "      <td>2</td>\n",
       "      <td>0.15</td>\n",
       "      <td>2013</td>\n",
       "      <td>NaN</td>\n",
       "      <td>NaN</td>\n",
       "      <td>NaN</td>\n",
       "      <td>NaN</td>\n",
       "      <td>NaN</td>\n",
       "      <td>NaN</td>\n",
       "      <td>NaN</td>\n",
       "    </tr>\n",
       "    <tr>\n",
       "      <th>2</th>\n",
       "      <td>Arizona (Pac-12)</td>\n",
       "      <td>13</td>\n",
       "      <td>8</td>\n",
       "      <td>5</td>\n",
       "      <td>31</td>\n",
       "      <td>1030</td>\n",
       "      <td>5960</td>\n",
       "      <td>5.79</td>\n",
       "      <td>52</td>\n",
       "      <td>57.0</td>\n",
       "      <td>...</td>\n",
       "      <td>4</td>\n",
       "      <td>0.31</td>\n",
       "      <td>2013</td>\n",
       "      <td>NaN</td>\n",
       "      <td>NaN</td>\n",
       "      <td>NaN</td>\n",
       "      <td>NaN</td>\n",
       "      <td>NaN</td>\n",
       "      <td>NaN</td>\n",
       "      <td>NaN</td>\n",
       "    </tr>\n",
       "    <tr>\n",
       "      <th>3</th>\n",
       "      <td>Arizona St. (Pac-12)</td>\n",
       "      <td>14</td>\n",
       "      <td>10</td>\n",
       "      <td>4</td>\n",
       "      <td>32</td>\n",
       "      <td>1102</td>\n",
       "      <td>6402</td>\n",
       "      <td>5.81</td>\n",
       "      <td>64</td>\n",
       "      <td>69.0</td>\n",
       "      <td>...</td>\n",
       "      <td>15</td>\n",
       "      <td>1.07</td>\n",
       "      <td>2013</td>\n",
       "      <td>NaN</td>\n",
       "      <td>NaN</td>\n",
       "      <td>NaN</td>\n",
       "      <td>NaN</td>\n",
       "      <td>NaN</td>\n",
       "      <td>NaN</td>\n",
       "      <td>NaN</td>\n",
       "    </tr>\n",
       "    <tr>\n",
       "      <th>4</th>\n",
       "      <td>Arkansas (SEC)</td>\n",
       "      <td>12</td>\n",
       "      <td>3</td>\n",
       "      <td>9</td>\n",
       "      <td>99</td>\n",
       "      <td>775</td>\n",
       "      <td>4286</td>\n",
       "      <td>5.53</td>\n",
       "      <td>29</td>\n",
       "      <td>30.0</td>\n",
       "      <td>...</td>\n",
       "      <td>-9</td>\n",
       "      <td>-0.75</td>\n",
       "      <td>2013</td>\n",
       "      <td>NaN</td>\n",
       "      <td>NaN</td>\n",
       "      <td>NaN</td>\n",
       "      <td>NaN</td>\n",
       "      <td>NaN</td>\n",
       "      <td>NaN</td>\n",
       "      <td>NaN</td>\n",
       "    </tr>\n",
       "    <tr>\n",
       "      <th>...</th>\n",
       "      <td>...</td>\n",
       "      <td>...</td>\n",
       "      <td>...</td>\n",
       "      <td>...</td>\n",
       "      <td>...</td>\n",
       "      <td>...</td>\n",
       "      <td>...</td>\n",
       "      <td>...</td>\n",
       "      <td>...</td>\n",
       "      <td>...</td>\n",
       "      <td>...</td>\n",
       "      <td>...</td>\n",
       "      <td>...</td>\n",
       "      <td>...</td>\n",
       "      <td>...</td>\n",
       "      <td>...</td>\n",
       "      <td>...</td>\n",
       "      <td>...</td>\n",
       "      <td>...</td>\n",
       "      <td>...</td>\n",
       "      <td>...</td>\n",
       "    </tr>\n",
       "    <tr>\n",
       "      <th>965</th>\n",
       "      <td>West Virginia (Big 12)</td>\n",
       "      <td>9</td>\n",
       "      <td>5</td>\n",
       "      <td>4</td>\n",
       "      <td>42</td>\n",
       "      <td>690</td>\n",
       "      <td>3804</td>\n",
       "      <td>5.51</td>\n",
       "      <td>28</td>\n",
       "      <td>NaN</td>\n",
       "      <td>...</td>\n",
       "      <td>3</td>\n",
       "      <td>0.33</td>\n",
       "      <td>2020</td>\n",
       "      <td>19.06</td>\n",
       "      <td>41.0</td>\n",
       "      <td>34.0</td>\n",
       "      <td>7.0</td>\n",
       "      <td>648.0</td>\n",
       "      <td>1.0</td>\n",
       "      <td>19.06</td>\n",
       "    </tr>\n",
       "    <tr>\n",
       "      <th>966</th>\n",
       "      <td>Western Ky. (C-USA)</td>\n",
       "      <td>11</td>\n",
       "      <td>5</td>\n",
       "      <td>6</td>\n",
       "      <td>120</td>\n",
       "      <td>699</td>\n",
       "      <td>3200</td>\n",
       "      <td>4.58</td>\n",
       "      <td>21</td>\n",
       "      <td>NaN</td>\n",
       "      <td>...</td>\n",
       "      <td>-3</td>\n",
       "      <td>-0.27</td>\n",
       "      <td>2020</td>\n",
       "      <td>21.10</td>\n",
       "      <td>66.0</td>\n",
       "      <td>21.0</td>\n",
       "      <td>18.0</td>\n",
       "      <td>443.0</td>\n",
       "      <td>1.0</td>\n",
       "      <td>21.10</td>\n",
       "    </tr>\n",
       "    <tr>\n",
       "      <th>967</th>\n",
       "      <td>Western Mich. (MAC)</td>\n",
       "      <td>6</td>\n",
       "      <td>4</td>\n",
       "      <td>2</td>\n",
       "      <td>15</td>\n",
       "      <td>392</td>\n",
       "      <td>2878</td>\n",
       "      <td>7.34</td>\n",
       "      <td>32</td>\n",
       "      <td>NaN</td>\n",
       "      <td>...</td>\n",
       "      <td>-3</td>\n",
       "      <td>-0.50</td>\n",
       "      <td>2020</td>\n",
       "      <td>19.95</td>\n",
       "      <td>49.0</td>\n",
       "      <td>22.0</td>\n",
       "      <td>15.0</td>\n",
       "      <td>439.0</td>\n",
       "      <td>0.0</td>\n",
       "      <td>19.95</td>\n",
       "    </tr>\n",
       "    <tr>\n",
       "      <th>968</th>\n",
       "      <td>Wisconsin (Big Ten)</td>\n",
       "      <td>6</td>\n",
       "      <td>3</td>\n",
       "      <td>3</td>\n",
       "      <td>93</td>\n",
       "      <td>431</td>\n",
       "      <td>2153</td>\n",
       "      <td>5.00</td>\n",
       "      <td>17</td>\n",
       "      <td>NaN</td>\n",
       "      <td>...</td>\n",
       "      <td>-3</td>\n",
       "      <td>-0.50</td>\n",
       "      <td>2020</td>\n",
       "      <td>21.08</td>\n",
       "      <td>63.0</td>\n",
       "      <td>13.0</td>\n",
       "      <td>11.0</td>\n",
       "      <td>274.0</td>\n",
       "      <td>0.0</td>\n",
       "      <td>21.08</td>\n",
       "    </tr>\n",
       "    <tr>\n",
       "      <th>969</th>\n",
       "      <td>Wyoming (Mountain West)</td>\n",
       "      <td>6</td>\n",
       "      <td>2</td>\n",
       "      <td>4</td>\n",
       "      <td>82</td>\n",
       "      <td>409</td>\n",
       "      <td>2237</td>\n",
       "      <td>5.47</td>\n",
       "      <td>17</td>\n",
       "      <td>NaN</td>\n",
       "      <td>...</td>\n",
       "      <td>1</td>\n",
       "      <td>0.17</td>\n",
       "      <td>2020</td>\n",
       "      <td>23.94</td>\n",
       "      <td>102.0</td>\n",
       "      <td>17.0</td>\n",
       "      <td>14.0</td>\n",
       "      <td>407.0</td>\n",
       "      <td>0.0</td>\n",
       "      <td>23.94</td>\n",
       "    </tr>\n",
       "  </tbody>\n",
       "</table>\n",
       "<p>970 rows × 154 columns</p>\n",
       "</div>"
      ],
      "text/plain": [
       "                        Team  Games  Win  Loss  Off.Rank  Off.Plays  \\\n",
       "0                Akron (MAC)     12    5     7       106        837   \n",
       "1              Alabama (SEC)     13   11     2        33        826   \n",
       "2           Arizona (Pac-12)     13    8     5        31       1030   \n",
       "3       Arizona St. (Pac-12)     14   10     4        32       1102   \n",
       "4             Arkansas (SEC)     12    3     9        99        775   \n",
       "..                       ...    ...  ...   ...       ...        ...   \n",
       "965   West Virginia (Big 12)      9    5     4        42        690   \n",
       "966      Western Ky. (C-USA)     11    5     6       120        699   \n",
       "967      Western Mich. (MAC)      6    4     2        15        392   \n",
       "968      Wisconsin (Big Ten)      6    3     3        93        431   \n",
       "969  Wyoming (Mountain West)      6    2     4        82        409   \n",
       "\n",
       "     Off.Yards  Off.Yards.Play  Off.TDs  Total.TDs  ...  Turnover.Margin  \\\n",
       "0         4104            4.90       30       31.0  ...               -2   \n",
       "1         5903            7.15       58       65.0  ...                2   \n",
       "2         5960            5.79       52       57.0  ...                4   \n",
       "3         6402            5.81       64       69.0  ...               15   \n",
       "4         4286            5.53       29       30.0  ...               -9   \n",
       "..         ...             ...      ...        ...  ...              ...   \n",
       "965       3804            5.51       28        NaN  ...                3   \n",
       "966       3200            4.58       21        NaN  ...               -3   \n",
       "967       2878            7.34       32        NaN  ...               -3   \n",
       "968       2153            5.00       17        NaN  ...               -3   \n",
       "969       2237            5.47       17        NaN  ...                1   \n",
       "\n",
       "     Avg.Turnover.Margin.per.Game  Year  ...40  Kickoff.Return.Def.Rank  \\\n",
       "0                           -0.17  2013    NaN                      NaN   \n",
       "1                            0.15  2013    NaN                      NaN   \n",
       "2                            0.31  2013    NaN                      NaN   \n",
       "3                            1.07  2013    NaN                      NaN   \n",
       "4                           -0.75  2013    NaN                      NaN   \n",
       "..                            ...   ...    ...                      ...   \n",
       "965                          0.33  2020  19.06                     41.0   \n",
       "966                         -0.27  2020  21.10                     66.0   \n",
       "967                         -0.50  2020  19.95                     49.0   \n",
       "968                         -0.50  2020  21.08                     63.0   \n",
       "969                          0.17  2020  23.94                    102.0   \n",
       "\n",
       "     Opp.Kickoff.Returns  Kickoff.Touchbacks  Opponent.Kickoff.Return.Yards  \\\n",
       "0                    NaN                 NaN                            NaN   \n",
       "1                    NaN                 NaN                            NaN   \n",
       "2                    NaN                 NaN                            NaN   \n",
       "3                    NaN                 NaN                            NaN   \n",
       "4                    NaN                 NaN                            NaN   \n",
       "..                   ...                 ...                            ...   \n",
       "965                 34.0                 7.0                          648.0   \n",
       "966                 21.0                18.0                          443.0   \n",
       "967                 22.0                15.0                          439.0   \n",
       "968                 13.0                11.0                          274.0   \n",
       "969                 17.0                14.0                          407.0   \n",
       "\n",
       "     Opp.Kickoff.Return.Touchdowns.Allowed  \\\n",
       "0                                      NaN   \n",
       "1                                      NaN   \n",
       "2                                      NaN   \n",
       "3                                      NaN   \n",
       "4                                      NaN   \n",
       "..                                     ...   \n",
       "965                                    1.0   \n",
       "966                                    1.0   \n",
       "967                                    0.0   \n",
       "968                                    0.0   \n",
       "969                                    0.0   \n",
       "\n",
       "     Avg.Yards.per.Kickoff.Return.Allowed  \n",
       "0                                     NaN  \n",
       "1                                     NaN  \n",
       "2                                     NaN  \n",
       "3                                     NaN  \n",
       "4                                     NaN  \n",
       "..                                    ...  \n",
       "965                                 19.06  \n",
       "966                                 21.10  \n",
       "967                                 19.95  \n",
       "968                                 21.08  \n",
       "969                                 23.94  \n",
       "\n",
       "[970 rows x 154 columns]"
      ]
     },
     "execution_count": 55,
     "metadata": {},
     "output_type": "execute_result"
    }
   ],
   "source": [
    "dfreal = pd.concat([df13, df14, df15, df16, df17, df18, df19, df20], ignore_index=True, sort=False)\n",
    "dfreal"
   ]
  },
  {
   "cell_type": "code",
   "execution_count": 63,
   "id": "7e71ecd5",
   "metadata": {},
   "outputs": [
    {
     "name": "stdout",
     "output_type": "stream",
     "text": [
      "[False, False, False, False, False, False, False, False, False, True, False, False, False, False, False, False, False, False, False, False, False, False, False, False, False, False, False, False, False, False, False, False, False, False, False, False, False, False, False, False, False, False, False, False, False, False, False, False, False, False, False, False, False, False, False, False, False, False, False, False, False, False, False, False, False, False, False, False, False, False, False, False, False, False, False, False, False, False, False, False, False, False, False, False, False, False, False, False, False, False, False, False, False, False, False, False, False, False, False, False, False, False, False, False, False, False, False, False, False, False, False, False, False, False, False, False, False, False, False, False, False, False, False, False, False, False, False, False, False, False, False, False, False, False, False, False, False, False, False, False, False, False, False, False, False, False, False, True, True, True, True, True, True, True]\n"
     ]
    }
   ],
   "source": [
    "print(list(dfreal.isna().sum()>0))"
   ]
  },
  {
   "cell_type": "code",
   "execution_count": 65,
   "id": "b699ff11",
   "metadata": {},
   "outputs": [
    {
     "name": "stdout",
     "output_type": "stream",
     "text": [
      "Index(['Team', 'Games', 'Win', 'Loss', 'Off.Rank', 'Off.Plays', 'Off.Yards',\n",
      "       'Off.Yards.Play', 'Off.TDs', 'Total.TDs',\n",
      "       ...\n",
      "       'Turnover.Margin', 'Avg.Turnover.Margin.per.Game', 'Year', '...40',\n",
      "       'Kickoff.Return.Def.Rank', 'Opp.Kickoff.Returns', 'Kickoff.Touchbacks',\n",
      "       'Opponent.Kickoff.Return.Yards',\n",
      "       'Opp.Kickoff.Return.Touchdowns.Allowed',\n",
      "       'Avg.Yards.per.Kickoff.Return.Allowed'],\n",
      "      dtype='object', length=154)\n"
     ]
    }
   ],
   "source": [
    "print(dfreal.columns)"
   ]
  },
  {
   "cell_type": "markdown",
   "id": "9069d9bd",
   "metadata": {},
   "source": [
    "we have decided to drop the last 7 columns '...40',\n",
    "       'Kickoff.Return.Def.Rank', 'Opp.Kickoff.Returns', 'Kickoff.Touchbacks',\n",
    "       'Opponent.Kickoff.Return.Yards',\n",
    "       'Opp.Kickoff.Return.Touchdowns.Allowed',\n",
    "       'Avg.Yards.per.Kickoff.Return.Allowed'\n",
    "as these all had null values throughout our dataset, and we are not wanting to focus on kickoffs in our analysis"
   ]
  },
  {
   "cell_type": "code",
   "execution_count": 66,
   "id": "75f9213b",
   "metadata": {},
   "outputs": [],
   "source": [
    "dfreal.drop(['...40',\n",
    "       'Kickoff.Return.Def.Rank', 'Opp.Kickoff.Returns', 'Kickoff.Touchbacks',\n",
    "       'Opponent.Kickoff.Return.Yards',\n",
    "       'Opp.Kickoff.Return.Touchdowns.Allowed',\n",
    "       'Avg.Yards.per.Kickoff.Return.Allowed'], axis=1, inplace=True)"
   ]
  },
  {
   "cell_type": "code",
   "execution_count": 67,
   "id": "086d791e",
   "metadata": {
    "scrolled": true
   },
   "outputs": [
    {
     "data": {
      "text/html": [
       "<div>\n",
       "<style scoped>\n",
       "    .dataframe tbody tr th:only-of-type {\n",
       "        vertical-align: middle;\n",
       "    }\n",
       "\n",
       "    .dataframe tbody tr th {\n",
       "        vertical-align: top;\n",
       "    }\n",
       "\n",
       "    .dataframe thead th {\n",
       "        text-align: right;\n",
       "    }\n",
       "</style>\n",
       "<table border=\"1\" class=\"dataframe\">\n",
       "  <thead>\n",
       "    <tr style=\"text-align: right;\">\n",
       "      <th></th>\n",
       "      <th>Team</th>\n",
       "      <th>Games</th>\n",
       "      <th>Win</th>\n",
       "      <th>Loss</th>\n",
       "      <th>Off.Rank</th>\n",
       "      <th>Off.Plays</th>\n",
       "      <th>Off.Yards</th>\n",
       "      <th>Off.Yards.Play</th>\n",
       "      <th>Off.TDs</th>\n",
       "      <th>Total.TDs</th>\n",
       "      <th>...</th>\n",
       "      <th>Turnover.Rank</th>\n",
       "      <th>Fumbles.Recovered</th>\n",
       "      <th>Opponents.Intercepted</th>\n",
       "      <th>Turnovers.Gain</th>\n",
       "      <th>Fumbles.Lost</th>\n",
       "      <th>Interceptions.Thrown.y</th>\n",
       "      <th>Turnovers.Lost</th>\n",
       "      <th>Turnover.Margin</th>\n",
       "      <th>Avg.Turnover.Margin.per.Game</th>\n",
       "      <th>Year</th>\n",
       "    </tr>\n",
       "  </thead>\n",
       "  <tbody>\n",
       "    <tr>\n",
       "      <th>0</th>\n",
       "      <td>Akron (MAC)</td>\n",
       "      <td>12</td>\n",
       "      <td>5</td>\n",
       "      <td>7</td>\n",
       "      <td>106</td>\n",
       "      <td>837</td>\n",
       "      <td>4104</td>\n",
       "      <td>4.9</td>\n",
       "      <td>30</td>\n",
       "      <td>31.0</td>\n",
       "      <td>...</td>\n",
       "      <td>74</td>\n",
       "      <td>6</td>\n",
       "      <td>13</td>\n",
       "      <td>19</td>\n",
       "      <td>11</td>\n",
       "      <td>10</td>\n",
       "      <td>21</td>\n",
       "      <td>-2</td>\n",
       "      <td>-0.17</td>\n",
       "      <td>2013</td>\n",
       "    </tr>\n",
       "  </tbody>\n",
       "</table>\n",
       "<p>1 rows × 147 columns</p>\n",
       "</div>"
      ],
      "text/plain": [
       "          Team  Games  Win  Loss  Off.Rank  Off.Plays  Off.Yards  \\\n",
       "0  Akron (MAC)     12    5     7       106        837       4104   \n",
       "\n",
       "   Off.Yards.Play  Off.TDs  Total.TDs  ...  Turnover.Rank  Fumbles.Recovered  \\\n",
       "0             4.9       30       31.0  ...             74                  6   \n",
       "\n",
       "   Opponents.Intercepted  Turnovers.Gain  Fumbles.Lost  \\\n",
       "0                     13              19            11   \n",
       "\n",
       "   Interceptions.Thrown.y  Turnovers.Lost  Turnover.Margin  \\\n",
       "0                      10              21               -2   \n",
       "\n",
       "   Avg.Turnover.Margin.per.Game  Year  \n",
       "0                         -0.17  2013  \n",
       "\n",
       "[1 rows x 147 columns]"
      ]
     },
     "execution_count": 67,
     "metadata": {},
     "output_type": "execute_result"
    }
   ],
   "source": [
    "dfreal.head(1)"
   ]
  },
  {
   "cell_type": "code",
   "execution_count": 68,
   "id": "fd50693a",
   "metadata": {},
   "outputs": [
    {
     "name": "stdout",
     "output_type": "stream",
     "text": [
      "[False, False, False, False, False, False, False, False, False, True, False, False, False, False, False, False, False, False, False, False, False, False, False, False, False, False, False, False, False, False, False, False, False, False, False, False, False, False, False, False, False, False, False, False, False, False, False, False, False, False, False, False, False, False, False, False, False, False, False, False, False, False, False, False, False, False, False, False, False, False, False, False, False, False, False, False, False, False, False, False, False, False, False, False, False, False, False, False, False, False, False, False, False, False, False, False, False, False, False, False, False, False, False, False, False, False, False, False, False, False, False, False, False, False, False, False, False, False, False, False, False, False, False, False, False, False, False, False, False, False, False, False, False, False, False, False, False, False, False, False, False, False, False, False, False, False, False]\n"
     ]
    }
   ],
   "source": [
    "print(list(dfreal.isna().sum()>0))"
   ]
  },
  {
   "cell_type": "code",
   "execution_count": 83,
   "id": "34dd97c3",
   "metadata": {},
   "outputs": [
    {
     "name": "stdout",
     "output_type": "stream",
     "text": [
      "['Team', 'Games', 'Win', 'Loss', 'Off.Rank', 'Off.Plays', 'Off.Yards', 'Off.Yards.Play', 'Off.TDs', 'Total.TDs', 'Off.Yards.per.Game', 'Def.Rank', 'Def.Plays', 'Yards.Allowed', 'Yards.Play.Allowed', 'Off.TDs.Allowed', 'Total.TDs.Allowed', 'Yards.Per.Game.Allowed', 'First.Down.Rank', 'First.Down.Runs', 'First.Down.Passes', 'First.Down.Penalties', 'First.Downs', 'First.Down.Def.Rank', 'Opp.First.Down.Runs', 'Opp.First.Down.Passes', 'Opp.First.Down.Penalties', 'Opp.First.Downs', 'X4th.Down.Rank', 'X4th.Attempts', 'X4th.Conversions', 'X4th.Percent', 'X4rd.Down.Def.Rank', 'Opp.4th.Conversion', 'Opp.4th.Attempt', 'Opponent.4th.Percent', 'Kickoff.Return.Rank', 'Kickoffs.Returned', 'Kickoff.Return.Yards', 'Kickoff.Return.Touchdowns', 'Avg.Yard.per.Kickoff.Return', 'Passing.Off.Rank', 'Pass.Attempts', 'Pass.Completions', 'Interceptions.Thrown.x', 'Pass.Yards', 'Pass.Yards.Attempt', 'Yards.Completion', 'Pass.Touchdowns', 'Pass.Yards.Per.Game', 'Pass.Def.Rank', 'Opp.Completions.Allowed', 'Opp.Pass.Attempts', 'Opp.Pass.Yds.Allowed', 'Opp.Pass.TDs.Allowed', 'Yards.Attempt.Allowed', 'Yards.Completion.Allowed', 'Pass.Yards.Per.Game.Allowed', 'Penalty.Rank', 'Penalties', 'Penalty.Yards', 'Penalty.Yards.Per.Game', 'Punt.Return.Rank', 'Punt.Returns', 'Net.Punt.Return.Yards', 'Punt.Return.Touchdowns', 'Avg.Yards.Per.Punt.Return', 'Punt.Return.Def.Rank', 'Opp.Punt.Returns', 'Opp.Net.Punt.Return.Yards', 'Opp.Punt.Return.Touchdowns.Allowed', 'Avg.Yards.Allowed.per.Punt.Return', 'Redzone.Off.Rank', 'Redzone.Attempts', 'Redzone.Rush.TD', 'Redzone.Pass.TD', 'Redzone.Field.Goals.Made', 'Redzone.Scores', 'Redzone.Points', 'Redzone.Def.Rank', 'Opp.Redzone.Attempts', 'Opp.Redzone.Rush.TD.Allowed', 'Opp.Redzone.Pass.Touchdowns.Allowed', 'Opp.Redzone.Field.Goals.Made', 'Opp.Redzone.Scores', 'Redzone.Points.Allowed', 'Rushing.Off.Rank', 'Rush.Attempts', 'Rush.Yds', 'Yards.Rush', 'Rushing.TD', 'Rushing.Yards.per.Game', 'Rushing.Def.Rank', 'Opp.Rush.Attempts', 'Opp.Rush.Yards.Alloweed', 'Yds.Rush.Allowed', 'Opp.Rush.Touchdowns.Allowed', 'Rush.Yards.Per.Game.Allowed', 'Sack.Rank', 'Sacks', 'Sack.Yards', 'Average.Sacks.per.Game', 'Scoring.Def.Rank', 'Touchdowns.Allowed', 'Opponent.Extra.Points', 'X2.Point.Conversions.Allowed', 'Opp.Deflected.Extra.Points', 'Opp.Feild.Goals.Made', 'Opp.Safety', 'Points.Allowed', 'Avg.Points.per.Game.Allowed', 'Scoring.Off.Rank', 'Touchdowns', 'PAT', 'X2.Point.Conversions', 'Defensive.Points', 'Feild.Goals', 'Safety', 'Total.Points', 'Points.Per.Game', 'Tackle.for.Loss.Rank', 'Solo.Tackle.For.Loss', 'Assist.Tackle.For.Loss', 'Tackle.for.Loss.Yards', 'Total.Tackle.For.Loss', 'Tackle.For.Loss.Per.Game', 'X3rd.Down.Rank', 'X3rd.Attempts', 'X3rd.Conversions', 'X3rd.Percent', 'X3rd.Down.Def.Rank', 'Opp.3rd.Conversion', 'Opp.3rd.Attempt', 'Opponent.3rd.Percent', 'Time.of.Possession.Rank', 'Time.of.Possession', 'Average.Time.of.Possession.per.Game', 'Turnover.Rank', 'Fumbles.Recovered', 'Opponents.Intercepted', 'Turnovers.Gain', 'Fumbles.Lost', 'Interceptions.Thrown.y', 'Turnovers.Lost', 'Turnover.Margin', 'Avg.Turnover.Margin.per.Game', 'Year']\n"
     ]
    }
   ],
   "source": [
    "print(list(dfreal.columns))"
   ]
  },
  {
   "cell_type": "markdown",
   "id": "7f52d39c",
   "metadata": {},
   "source": [
    "we now have no columns with null values"
   ]
  },
  {
   "cell_type": "code",
   "execution_count": 71,
   "id": "fe1ff9c2",
   "metadata": {
    "scrolled": true
   },
   "outputs": [
    {
     "data": {
      "text/html": [
       "<div>\n",
       "<style scoped>\n",
       "    .dataframe tbody tr th:only-of-type {\n",
       "        vertical-align: middle;\n",
       "    }\n",
       "\n",
       "    .dataframe tbody tr th {\n",
       "        vertical-align: top;\n",
       "    }\n",
       "\n",
       "    .dataframe thead th {\n",
       "        text-align: right;\n",
       "    }\n",
       "</style>\n",
       "<table border=\"1\" class=\"dataframe\">\n",
       "  <thead>\n",
       "    <tr style=\"text-align: right;\">\n",
       "      <th>Year</th>\n",
       "      <th>2013</th>\n",
       "      <th>2014</th>\n",
       "      <th>2015</th>\n",
       "      <th>2016</th>\n",
       "      <th>2017</th>\n",
       "      <th>2018</th>\n",
       "      <th>2019</th>\n",
       "      <th>2020</th>\n",
       "    </tr>\n",
       "    <tr>\n",
       "      <th>Win</th>\n",
       "      <th></th>\n",
       "      <th></th>\n",
       "      <th></th>\n",
       "      <th></th>\n",
       "      <th></th>\n",
       "      <th></th>\n",
       "      <th></th>\n",
       "      <th></th>\n",
       "    </tr>\n",
       "  </thead>\n",
       "  <tbody>\n",
       "    <tr>\n",
       "      <th>0</th>\n",
       "      <td>79.000000</td>\n",
       "      <td>NaN</td>\n",
       "      <td>115.500000</td>\n",
       "      <td>NaN</td>\n",
       "      <td>103.000000</td>\n",
       "      <td>NaN</td>\n",
       "      <td>128.000000</td>\n",
       "      <td>108.444444</td>\n",
       "    </tr>\n",
       "    <tr>\n",
       "      <th>1</th>\n",
       "      <td>105.714286</td>\n",
       "      <td>119.666667</td>\n",
       "      <td>112.500000</td>\n",
       "      <td>NaN</td>\n",
       "      <td>123.200000</td>\n",
       "      <td>108.400000</td>\n",
       "      <td>73.666667</td>\n",
       "      <td>81.125000</td>\n",
       "    </tr>\n",
       "    <tr>\n",
       "      <th>2</th>\n",
       "      <td>93.625000</td>\n",
       "      <td>97.875000</td>\n",
       "      <td>109.000000</td>\n",
       "      <td>114.500000</td>\n",
       "      <td>97.375000</td>\n",
       "      <td>107.428571</td>\n",
       "      <td>115.833333</td>\n",
       "      <td>61.555556</td>\n",
       "    </tr>\n",
       "    <tr>\n",
       "      <th>3</th>\n",
       "      <td>81.875000</td>\n",
       "      <td>83.545455</td>\n",
       "      <td>84.933333</td>\n",
       "      <td>88.538462</td>\n",
       "      <td>100.500000</td>\n",
       "      <td>81.153846</td>\n",
       "      <td>104.625000</td>\n",
       "      <td>74.590909</td>\n",
       "    </tr>\n",
       "    <tr>\n",
       "      <th>4</th>\n",
       "      <td>83.000000</td>\n",
       "      <td>65.375000</td>\n",
       "      <td>84.625000</td>\n",
       "      <td>82.666667</td>\n",
       "      <td>83.692308</td>\n",
       "      <td>88.571429</td>\n",
       "      <td>79.111111</td>\n",
       "      <td>81.000000</td>\n",
       "    </tr>\n",
       "    <tr>\n",
       "      <th>5</th>\n",
       "      <td>77.500000</td>\n",
       "      <td>57.888889</td>\n",
       "      <td>74.636364</td>\n",
       "      <td>74.500000</td>\n",
       "      <td>74.785714</td>\n",
       "      <td>74.800000</td>\n",
       "      <td>58.214286</td>\n",
       "      <td>62.153846</td>\n",
       "    </tr>\n",
       "    <tr>\n",
       "      <th>6</th>\n",
       "      <td>82.000000</td>\n",
       "      <td>79.200000</td>\n",
       "      <td>62.500000</td>\n",
       "      <td>65.416667</td>\n",
       "      <td>61.000000</td>\n",
       "      <td>62.428571</td>\n",
       "      <td>58.600000</td>\n",
       "      <td>29.600000</td>\n",
       "    </tr>\n",
       "    <tr>\n",
       "      <th>7</th>\n",
       "      <td>53.153846</td>\n",
       "      <td>65.600000</td>\n",
       "      <td>58.800000</td>\n",
       "      <td>64.666667</td>\n",
       "      <td>64.208333</td>\n",
       "      <td>68.095238</td>\n",
       "      <td>65.428571</td>\n",
       "      <td>47.714286</td>\n",
       "    </tr>\n",
       "    <tr>\n",
       "      <th>8</th>\n",
       "      <td>50.333333</td>\n",
       "      <td>54.166667</td>\n",
       "      <td>44.333333</td>\n",
       "      <td>49.153846</td>\n",
       "      <td>52.230769</td>\n",
       "      <td>56.705882</td>\n",
       "      <td>62.173913</td>\n",
       "      <td>51.333333</td>\n",
       "    </tr>\n",
       "    <tr>\n",
       "      <th>9</th>\n",
       "      <td>50.909091</td>\n",
       "      <td>41.583333</td>\n",
       "      <td>47.090909</td>\n",
       "      <td>46.666667</td>\n",
       "      <td>46.100000</td>\n",
       "      <td>49.416667</td>\n",
       "      <td>76.400000</td>\n",
       "      <td>37.600000</td>\n",
       "    </tr>\n",
       "    <tr>\n",
       "      <th>10</th>\n",
       "      <td>28.272727</td>\n",
       "      <td>28.285714</td>\n",
       "      <td>46.266667</td>\n",
       "      <td>35.923077</td>\n",
       "      <td>28.666667</td>\n",
       "      <td>22.090909</td>\n",
       "      <td>41.000000</td>\n",
       "      <td>21.000000</td>\n",
       "    </tr>\n",
       "    <tr>\n",
       "      <th>11</th>\n",
       "      <td>27.428571</td>\n",
       "      <td>27.000000</td>\n",
       "      <td>33.000000</td>\n",
       "      <td>34.833333</td>\n",
       "      <td>35.714286</td>\n",
       "      <td>36.000000</td>\n",
       "      <td>25.083333</td>\n",
       "      <td>13.333333</td>\n",
       "    </tr>\n",
       "    <tr>\n",
       "      <th>12</th>\n",
       "      <td>24.333333</td>\n",
       "      <td>37.000000</td>\n",
       "      <td>26.400000</td>\n",
       "      <td>1.000000</td>\n",
       "      <td>37.666667</td>\n",
       "      <td>33.500000</td>\n",
       "      <td>58.600000</td>\n",
       "      <td>NaN</td>\n",
       "    </tr>\n",
       "    <tr>\n",
       "      <th>13</th>\n",
       "      <td>10.000000</td>\n",
       "      <td>57.666667</td>\n",
       "      <td>2.000000</td>\n",
       "      <td>1.000000</td>\n",
       "      <td>21.500000</td>\n",
       "      <td>32.000000</td>\n",
       "      <td>12.000000</td>\n",
       "      <td>NaN</td>\n",
       "    </tr>\n",
       "    <tr>\n",
       "      <th>14</th>\n",
       "      <td>3.000000</td>\n",
       "      <td>32.000000</td>\n",
       "      <td>52.000000</td>\n",
       "      <td>44.000000</td>\n",
       "      <td>NaN</td>\n",
       "      <td>34.000000</td>\n",
       "      <td>8.000000</td>\n",
       "      <td>NaN</td>\n",
       "    </tr>\n",
       "    <tr>\n",
       "      <th>15</th>\n",
       "      <td>NaN</td>\n",
       "      <td>NaN</td>\n",
       "      <td>NaN</td>\n",
       "      <td>NaN</td>\n",
       "      <td>NaN</td>\n",
       "      <td>29.000000</td>\n",
       "      <td>15.000000</td>\n",
       "      <td>NaN</td>\n",
       "    </tr>\n",
       "  </tbody>\n",
       "</table>\n",
       "</div>"
      ],
      "text/plain": [
       "Year        2013        2014        2015        2016        2017        2018  \\\n",
       "Win                                                                            \n",
       "0      79.000000         NaN  115.500000         NaN  103.000000         NaN   \n",
       "1     105.714286  119.666667  112.500000         NaN  123.200000  108.400000   \n",
       "2      93.625000   97.875000  109.000000  114.500000   97.375000  107.428571   \n",
       "3      81.875000   83.545455   84.933333   88.538462  100.500000   81.153846   \n",
       "4      83.000000   65.375000   84.625000   82.666667   83.692308   88.571429   \n",
       "5      77.500000   57.888889   74.636364   74.500000   74.785714   74.800000   \n",
       "6      82.000000   79.200000   62.500000   65.416667   61.000000   62.428571   \n",
       "7      53.153846   65.600000   58.800000   64.666667   64.208333   68.095238   \n",
       "8      50.333333   54.166667   44.333333   49.153846   52.230769   56.705882   \n",
       "9      50.909091   41.583333   47.090909   46.666667   46.100000   49.416667   \n",
       "10     28.272727   28.285714   46.266667   35.923077   28.666667   22.090909   \n",
       "11     27.428571   27.000000   33.000000   34.833333   35.714286   36.000000   \n",
       "12     24.333333   37.000000   26.400000    1.000000   37.666667   33.500000   \n",
       "13     10.000000   57.666667    2.000000    1.000000   21.500000   32.000000   \n",
       "14      3.000000   32.000000   52.000000   44.000000         NaN   34.000000   \n",
       "15           NaN         NaN         NaN         NaN         NaN   29.000000   \n",
       "\n",
       "Year        2019        2020  \n",
       "Win                           \n",
       "0     128.000000  108.444444  \n",
       "1      73.666667   81.125000  \n",
       "2     115.833333   61.555556  \n",
       "3     104.625000   74.590909  \n",
       "4      79.111111   81.000000  \n",
       "5      58.214286   62.153846  \n",
       "6      58.600000   29.600000  \n",
       "7      65.428571   47.714286  \n",
       "8      62.173913   51.333333  \n",
       "9      76.400000   37.600000  \n",
       "10     41.000000   21.000000  \n",
       "11     25.083333   13.333333  \n",
       "12     58.600000         NaN  \n",
       "13     12.000000         NaN  \n",
       "14      8.000000         NaN  \n",
       "15     15.000000         NaN  "
      ]
     },
     "execution_count": 71,
     "metadata": {},
     "output_type": "execute_result"
    }
   ],
   "source": [
    "pd.pivot_table(dfreal, values='Turnover.Rank', index=['Win'], columns=['Year'], aggfunc=np.mean)"
   ]
  },
  {
   "cell_type": "markdown",
   "id": "92014b4f",
   "metadata": {},
   "source": [
    "This shows that ranking higher in turnovers (having a better turnover margin, more takeaways than giveaways), is very important to winning. You can see that as the number of wins goes up in every year, for the most part the turnover rank also goes up"
   ]
  },
  {
   "cell_type": "code",
   "execution_count": 77,
   "id": "767a9a2d",
   "metadata": {},
   "outputs": [
    {
     "data": {
      "text/html": [
       "<div>\n",
       "<style scoped>\n",
       "    .dataframe tbody tr th:only-of-type {\n",
       "        vertical-align: middle;\n",
       "    }\n",
       "\n",
       "    .dataframe tbody tr th {\n",
       "        vertical-align: top;\n",
       "    }\n",
       "\n",
       "    .dataframe thead th {\n",
       "        text-align: right;\n",
       "    }\n",
       "</style>\n",
       "<table border=\"1\" class=\"dataframe\">\n",
       "  <thead>\n",
       "    <tr style=\"text-align: right;\">\n",
       "      <th></th>\n",
       "      <th>Games</th>\n",
       "      <th>Win</th>\n",
       "      <th>Loss</th>\n",
       "      <th>Off.Rank</th>\n",
       "      <th>Off.Plays</th>\n",
       "      <th>Off.Yards</th>\n",
       "      <th>Off.Yards.Play</th>\n",
       "      <th>Off.TDs</th>\n",
       "      <th>Total.TDs</th>\n",
       "      <th>Off.Yards.per.Game</th>\n",
       "      <th>...</th>\n",
       "      <th>Turnover.Rank</th>\n",
       "      <th>Fumbles.Recovered</th>\n",
       "      <th>Opponents.Intercepted</th>\n",
       "      <th>Turnovers.Gain</th>\n",
       "      <th>Fumbles.Lost</th>\n",
       "      <th>Interceptions.Thrown.y</th>\n",
       "      <th>Turnovers.Lost</th>\n",
       "      <th>Turnover.Margin</th>\n",
       "      <th>Avg.Turnover.Margin.per.Game</th>\n",
       "      <th>Year</th>\n",
       "    </tr>\n",
       "  </thead>\n",
       "  <tbody>\n",
       "    <tr>\n",
       "      <th>Games</th>\n",
       "      <td>1.000000</td>\n",
       "      <td>0.572981</td>\n",
       "      <td>0.006188</td>\n",
       "      <td>-0.172457</td>\n",
       "      <td>0.903381</td>\n",
       "      <td>0.757213</td>\n",
       "      <td>0.194910</td>\n",
       "      <td>0.598112</td>\n",
       "      <td>0.429018</td>\n",
       "      <td>0.210847</td>\n",
       "      <td>...</td>\n",
       "      <td>-0.161701</td>\n",
       "      <td>0.403781</td>\n",
       "      <td>0.495695</td>\n",
       "      <td>0.583035</td>\n",
       "      <td>0.340910</td>\n",
       "      <td>0.271553</td>\n",
       "      <td>0.396909</td>\n",
       "      <td>0.177655</td>\n",
       "      <td>0.159837</td>\n",
       "      <td>-0.454284</td>\n",
       "    </tr>\n",
       "    <tr>\n",
       "      <th>Win</th>\n",
       "      <td>0.572981</td>\n",
       "      <td>1.000000</td>\n",
       "      <td>-0.816007</td>\n",
       "      <td>-0.551086</td>\n",
       "      <td>0.566026</td>\n",
       "      <td>0.740957</td>\n",
       "      <td>0.617060</td>\n",
       "      <td>0.787186</td>\n",
       "      <td>0.444665</td>\n",
       "      <td>0.572521</td>\n",
       "      <td>...</td>\n",
       "      <td>-0.558189</td>\n",
       "      <td>0.271989</td>\n",
       "      <td>0.582645</td>\n",
       "      <td>0.577831</td>\n",
       "      <td>0.016267</td>\n",
       "      <td>-0.203538</td>\n",
       "      <td>-0.140187</td>\n",
       "      <td>0.578778</td>\n",
       "      <td>0.562373</td>\n",
       "      <td>-0.150414</td>\n",
       "    </tr>\n",
       "    <tr>\n",
       "      <th>Loss</th>\n",
       "      <td>0.006188</td>\n",
       "      <td>-0.816007</td>\n",
       "      <td>1.000000</td>\n",
       "      <td>0.550762</td>\n",
       "      <td>-0.053471</td>\n",
       "      <td>-0.370003</td>\n",
       "      <td>-0.615424</td>\n",
       "      <td>-0.538621</td>\n",
       "      <td>-0.424070</td>\n",
       "      <td>-0.549840</td>\n",
       "      <td>...</td>\n",
       "      <td>0.567016</td>\n",
       "      <td>-0.047075</td>\n",
       "      <td>-0.361290</td>\n",
       "      <td>-0.293815</td>\n",
       "      <td>0.220596</td>\n",
       "      <td>0.439869</td>\n",
       "      <td>0.450986</td>\n",
       "      <td>-0.580885</td>\n",
       "      <td>-0.573436</td>\n",
       "      <td>-0.136881</td>\n",
       "    </tr>\n",
       "    <tr>\n",
       "      <th>Off.Rank</th>\n",
       "      <td>-0.172457</td>\n",
       "      <td>-0.551086</td>\n",
       "      <td>0.550762</td>\n",
       "      <td>1.000000</td>\n",
       "      <td>-0.398265</td>\n",
       "      <td>-0.742835</td>\n",
       "      <td>-0.855544</td>\n",
       "      <td>-0.777667</td>\n",
       "      <td>-0.629812</td>\n",
       "      <td>-0.960775</td>\n",
       "      <td>...</td>\n",
       "      <td>0.240072</td>\n",
       "      <td>-0.023068</td>\n",
       "      <td>-0.241897</td>\n",
       "      <td>-0.192237</td>\n",
       "      <td>0.012139</td>\n",
       "      <td>0.151870</td>\n",
       "      <td>0.118651</td>\n",
       "      <td>-0.246905</td>\n",
       "      <td>-0.250965</td>\n",
       "      <td>0.012947</td>\n",
       "    </tr>\n",
       "    <tr>\n",
       "      <th>Off.Plays</th>\n",
       "      <td>0.903381</td>\n",
       "      <td>0.566026</td>\n",
       "      <td>-0.053471</td>\n",
       "      <td>-0.398265</td>\n",
       "      <td>1.000000</td>\n",
       "      <td>0.851929</td>\n",
       "      <td>0.244245</td>\n",
       "      <td>0.673372</td>\n",
       "      <td>0.523829</td>\n",
       "      <td>0.441210</td>\n",
       "      <td>...</td>\n",
       "      <td>-0.154076</td>\n",
       "      <td>0.384898</td>\n",
       "      <td>0.505599</td>\n",
       "      <td>0.580390</td>\n",
       "      <td>0.328048</td>\n",
       "      <td>0.300762</td>\n",
       "      <td>0.410933</td>\n",
       "      <td>0.164905</td>\n",
       "      <td>0.150296</td>\n",
       "      <td>-0.466405</td>\n",
       "    </tr>\n",
       "    <tr>\n",
       "      <th>...</th>\n",
       "      <td>...</td>\n",
       "      <td>...</td>\n",
       "      <td>...</td>\n",
       "      <td>...</td>\n",
       "      <td>...</td>\n",
       "      <td>...</td>\n",
       "      <td>...</td>\n",
       "      <td>...</td>\n",
       "      <td>...</td>\n",
       "      <td>...</td>\n",
       "      <td>...</td>\n",
       "      <td>...</td>\n",
       "      <td>...</td>\n",
       "      <td>...</td>\n",
       "      <td>...</td>\n",
       "      <td>...</td>\n",
       "      <td>...</td>\n",
       "      <td>...</td>\n",
       "      <td>...</td>\n",
       "      <td>...</td>\n",
       "      <td>...</td>\n",
       "    </tr>\n",
       "    <tr>\n",
       "      <th>Interceptions.Thrown.y</th>\n",
       "      <td>0.271553</td>\n",
       "      <td>-0.203538</td>\n",
       "      <td>0.439869</td>\n",
       "      <td>0.151870</td>\n",
       "      <td>0.300762</td>\n",
       "      <td>0.069149</td>\n",
       "      <td>-0.270854</td>\n",
       "      <td>-0.108579</td>\n",
       "      <td>-0.170638</td>\n",
       "      <td>-0.140657</td>\n",
       "      <td>...</td>\n",
       "      <td>0.512282</td>\n",
       "      <td>0.170334</td>\n",
       "      <td>0.019129</td>\n",
       "      <td>0.104584</td>\n",
       "      <td>0.146640</td>\n",
       "      <td>1.000000</td>\n",
       "      <td>0.819880</td>\n",
       "      <td>-0.533215</td>\n",
       "      <td>-0.528556</td>\n",
       "      <td>-0.314774</td>\n",
       "    </tr>\n",
       "    <tr>\n",
       "      <th>Turnovers.Lost</th>\n",
       "      <td>0.396909</td>\n",
       "      <td>-0.140187</td>\n",
       "      <td>0.450986</td>\n",
       "      <td>0.118651</td>\n",
       "      <td>0.410933</td>\n",
       "      <td>0.174105</td>\n",
       "      <td>-0.225667</td>\n",
       "      <td>-0.019726</td>\n",
       "      <td>-0.136916</td>\n",
       "      <td>-0.101031</td>\n",
       "      <td>...</td>\n",
       "      <td>0.571352</td>\n",
       "      <td>0.201259</td>\n",
       "      <td>0.117199</td>\n",
       "      <td>0.193964</td>\n",
       "      <td>0.686574</td>\n",
       "      <td>0.819880</td>\n",
       "      <td>1.000000</td>\n",
       "      <td>-0.596004</td>\n",
       "      <td>-0.589269</td>\n",
       "      <td>-0.398119</td>\n",
       "    </tr>\n",
       "    <tr>\n",
       "      <th>Turnover.Margin</th>\n",
       "      <td>0.177655</td>\n",
       "      <td>0.578778</td>\n",
       "      <td>-0.580885</td>\n",
       "      <td>-0.246905</td>\n",
       "      <td>0.164905</td>\n",
       "      <td>0.283030</td>\n",
       "      <td>0.305658</td>\n",
       "      <td>0.408653</td>\n",
       "      <td>0.286672</td>\n",
       "      <td>0.257503</td>\n",
       "      <td>...</td>\n",
       "      <td>-0.964762</td>\n",
       "      <td>0.409517</td>\n",
       "      <td>0.611334</td>\n",
       "      <td>0.672128</td>\n",
       "      <td>-0.352611</td>\n",
       "      <td>-0.533215</td>\n",
       "      <td>-0.596004</td>\n",
       "      <td>1.000000</td>\n",
       "      <td>0.981580</td>\n",
       "      <td>-0.017482</td>\n",
       "    </tr>\n",
       "    <tr>\n",
       "      <th>Avg.Turnover.Margin.per.Game</th>\n",
       "      <td>0.159837</td>\n",
       "      <td>0.562373</td>\n",
       "      <td>-0.573436</td>\n",
       "      <td>-0.250965</td>\n",
       "      <td>0.150296</td>\n",
       "      <td>0.268445</td>\n",
       "      <td>0.310874</td>\n",
       "      <td>0.393397</td>\n",
       "      <td>0.280544</td>\n",
       "      <td>0.262349</td>\n",
       "      <td>...</td>\n",
       "      <td>-0.968970</td>\n",
       "      <td>0.399623</td>\n",
       "      <td>0.596490</td>\n",
       "      <td>0.655834</td>\n",
       "      <td>-0.346890</td>\n",
       "      <td>-0.528556</td>\n",
       "      <td>-0.589269</td>\n",
       "      <td>0.981580</td>\n",
       "      <td>1.000000</td>\n",
       "      <td>-0.009825</td>\n",
       "    </tr>\n",
       "    <tr>\n",
       "      <th>Year</th>\n",
       "      <td>-0.454284</td>\n",
       "      <td>-0.150414</td>\n",
       "      <td>-0.136881</td>\n",
       "      <td>0.012947</td>\n",
       "      <td>-0.466405</td>\n",
       "      <td>-0.313571</td>\n",
       "      <td>0.042062</td>\n",
       "      <td>-0.191957</td>\n",
       "      <td>-0.089430</td>\n",
       "      <td>-0.047852</td>\n",
       "      <td>...</td>\n",
       "      <td>0.027451</td>\n",
       "      <td>-0.297254</td>\n",
       "      <td>-0.310156</td>\n",
       "      <td>-0.388467</td>\n",
       "      <td>-0.288115</td>\n",
       "      <td>-0.314774</td>\n",
       "      <td>-0.398119</td>\n",
       "      <td>-0.017482</td>\n",
       "      <td>-0.009825</td>\n",
       "      <td>1.000000</td>\n",
       "    </tr>\n",
       "  </tbody>\n",
       "</table>\n",
       "<p>144 rows × 144 columns</p>\n",
       "</div>"
      ],
      "text/plain": [
       "                                 Games       Win      Loss  Off.Rank  \\\n",
       "Games                         1.000000  0.572981  0.006188 -0.172457   \n",
       "Win                           0.572981  1.000000 -0.816007 -0.551086   \n",
       "Loss                          0.006188 -0.816007  1.000000  0.550762   \n",
       "Off.Rank                     -0.172457 -0.551086  0.550762  1.000000   \n",
       "Off.Plays                     0.903381  0.566026 -0.053471 -0.398265   \n",
       "...                                ...       ...       ...       ...   \n",
       "Interceptions.Thrown.y        0.271553 -0.203538  0.439869  0.151870   \n",
       "Turnovers.Lost                0.396909 -0.140187  0.450986  0.118651   \n",
       "Turnover.Margin               0.177655  0.578778 -0.580885 -0.246905   \n",
       "Avg.Turnover.Margin.per.Game  0.159837  0.562373 -0.573436 -0.250965   \n",
       "Year                         -0.454284 -0.150414 -0.136881  0.012947   \n",
       "\n",
       "                              Off.Plays  Off.Yards  Off.Yards.Play   Off.TDs  \\\n",
       "Games                          0.903381   0.757213        0.194910  0.598112   \n",
       "Win                            0.566026   0.740957        0.617060  0.787186   \n",
       "Loss                          -0.053471  -0.370003       -0.615424 -0.538621   \n",
       "Off.Rank                      -0.398265  -0.742835       -0.855544 -0.777667   \n",
       "Off.Plays                      1.000000   0.851929        0.244245  0.673372   \n",
       "...                                 ...        ...             ...       ...   \n",
       "Interceptions.Thrown.y         0.300762   0.069149       -0.270854 -0.108579   \n",
       "Turnovers.Lost                 0.410933   0.174105       -0.225667 -0.019726   \n",
       "Turnover.Margin                0.164905   0.283030        0.305658  0.408653   \n",
       "Avg.Turnover.Margin.per.Game   0.150296   0.268445        0.310874  0.393397   \n",
       "Year                          -0.466405  -0.313571        0.042062 -0.191957   \n",
       "\n",
       "                              Total.TDs  Off.Yards.per.Game  ...  \\\n",
       "Games                          0.429018            0.210847  ...   \n",
       "Win                            0.444665            0.572521  ...   \n",
       "Loss                          -0.424070           -0.549840  ...   \n",
       "Off.Rank                      -0.629812           -0.960775  ...   \n",
       "Off.Plays                      0.523829            0.441210  ...   \n",
       "...                                 ...                 ...  ...   \n",
       "Interceptions.Thrown.y        -0.170638           -0.140657  ...   \n",
       "Turnovers.Lost                -0.136916           -0.101031  ...   \n",
       "Turnover.Margin                0.286672            0.257503  ...   \n",
       "Avg.Turnover.Margin.per.Game   0.280544            0.262349  ...   \n",
       "Year                          -0.089430           -0.047852  ...   \n",
       "\n",
       "                              Turnover.Rank  Fumbles.Recovered  \\\n",
       "Games                             -0.161701           0.403781   \n",
       "Win                               -0.558189           0.271989   \n",
       "Loss                               0.567016          -0.047075   \n",
       "Off.Rank                           0.240072          -0.023068   \n",
       "Off.Plays                         -0.154076           0.384898   \n",
       "...                                     ...                ...   \n",
       "Interceptions.Thrown.y             0.512282           0.170334   \n",
       "Turnovers.Lost                     0.571352           0.201259   \n",
       "Turnover.Margin                   -0.964762           0.409517   \n",
       "Avg.Turnover.Margin.per.Game      -0.968970           0.399623   \n",
       "Year                               0.027451          -0.297254   \n",
       "\n",
       "                              Opponents.Intercepted  Turnovers.Gain  \\\n",
       "Games                                      0.495695        0.583035   \n",
       "Win                                        0.582645        0.577831   \n",
       "Loss                                      -0.361290       -0.293815   \n",
       "Off.Rank                                  -0.241897       -0.192237   \n",
       "Off.Plays                                  0.505599        0.580390   \n",
       "...                                             ...             ...   \n",
       "Interceptions.Thrown.y                     0.019129        0.104584   \n",
       "Turnovers.Lost                             0.117199        0.193964   \n",
       "Turnover.Margin                            0.611334        0.672128   \n",
       "Avg.Turnover.Margin.per.Game               0.596490        0.655834   \n",
       "Year                                      -0.310156       -0.388467   \n",
       "\n",
       "                              Fumbles.Lost  Interceptions.Thrown.y  \\\n",
       "Games                             0.340910                0.271553   \n",
       "Win                               0.016267               -0.203538   \n",
       "Loss                              0.220596                0.439869   \n",
       "Off.Rank                          0.012139                0.151870   \n",
       "Off.Plays                         0.328048                0.300762   \n",
       "...                                    ...                     ...   \n",
       "Interceptions.Thrown.y            0.146640                1.000000   \n",
       "Turnovers.Lost                    0.686574                0.819880   \n",
       "Turnover.Margin                  -0.352611               -0.533215   \n",
       "Avg.Turnover.Margin.per.Game     -0.346890               -0.528556   \n",
       "Year                             -0.288115               -0.314774   \n",
       "\n",
       "                              Turnovers.Lost  Turnover.Margin  \\\n",
       "Games                               0.396909         0.177655   \n",
       "Win                                -0.140187         0.578778   \n",
       "Loss                                0.450986        -0.580885   \n",
       "Off.Rank                            0.118651        -0.246905   \n",
       "Off.Plays                           0.410933         0.164905   \n",
       "...                                      ...              ...   \n",
       "Interceptions.Thrown.y              0.819880        -0.533215   \n",
       "Turnovers.Lost                      1.000000        -0.596004   \n",
       "Turnover.Margin                    -0.596004         1.000000   \n",
       "Avg.Turnover.Margin.per.Game       -0.589269         0.981580   \n",
       "Year                               -0.398119        -0.017482   \n",
       "\n",
       "                              Avg.Turnover.Margin.per.Game      Year  \n",
       "Games                                             0.159837 -0.454284  \n",
       "Win                                               0.562373 -0.150414  \n",
       "Loss                                             -0.573436 -0.136881  \n",
       "Off.Rank                                         -0.250965  0.012947  \n",
       "Off.Plays                                         0.150296 -0.466405  \n",
       "...                                                    ...       ...  \n",
       "Interceptions.Thrown.y                           -0.528556 -0.314774  \n",
       "Turnovers.Lost                                   -0.589269 -0.398119  \n",
       "Turnover.Margin                                   0.981580 -0.017482  \n",
       "Avg.Turnover.Margin.per.Game                      1.000000 -0.009825  \n",
       "Year                                             -0.009825  1.000000  \n",
       "\n",
       "[144 rows x 144 columns]"
      ]
     },
     "execution_count": 77,
     "metadata": {},
     "output_type": "execute_result"
    }
   ],
   "source": [
    "dfreal.corr()"
   ]
  },
  {
   "cell_type": "code",
   "execution_count": 81,
   "id": "d736a8ee",
   "metadata": {},
   "outputs": [
    {
     "data": {
      "text/plain": [
       "Win                             1.000000\n",
       "Total.Points                    0.829175\n",
       "Loss                            0.816007\n",
       "PAT                             0.815484\n",
       "Touchdowns                      0.806012\n",
       "Redzone.Scores                  0.790856\n",
       "Off.TDs                         0.787186\n",
       "Redzone.Attempts                0.768215\n",
       "Off.Yards                       0.740957\n",
       "Points.Per.Game                 0.713409\n",
       "Scoring.Off.Rank                0.705054\n",
       "Avg.Points.per.Game.Allowed     0.698439\n",
       "Rushing.TD                      0.688141\n",
       "Scoring.Def.Rank                0.684632\n",
       "Redzone.Rush.TD                 0.670896\n",
       "Tackle.for.Loss.Yards           0.643492\n",
       "X3rd.Conversions                0.617549\n",
       "Off.Yards.Play                  0.617060\n",
       "Rush.Yds                        0.604091\n",
       "Yards.Play.Allowed              0.601105\n",
       "Total.Tackle.For.Loss           0.594770\n",
       "Rushing.Def.Rank                0.587629\n",
       "Rush.Yards.Per.Game.Allowed     0.584630\n",
       "Opponents.Intercepted           0.582645\n",
       "Opp.Pass.Attempts               0.581741\n",
       "Solo.Tackle.For.Loss            0.580568\n",
       "Turnover.Margin                 0.578778\n",
       "Opp.3rd.Attempt                 0.578351\n",
       "Turnovers.Gain                  0.577831\n",
       "X3rd.Down.Rank                  0.574700\n",
       "Games                           0.572981\n",
       "Off.Yards.per.Game              0.572521\n",
       "X3rd.Percent                    0.570970\n",
       "Pass.Yards.Attempt              0.568569\n",
       "Off.Plays                       0.566026\n",
       "Rush.Attempts                   0.564369\n",
       "Yards.Per.Game.Allowed          0.563136\n",
       "Yds.Rush.Allowed                0.562946\n",
       "Avg.Turnover.Margin.per.Game    0.562373\n",
       "Def.Rank                        0.558718\n",
       "Turnover.Rank                   0.558189\n",
       "Pass.Touchdowns                 0.553775\n",
       "Off.Rank                        0.551086\n",
       "Yards.Attempt.Allowed           0.547062\n",
       "Opponent.3rd.Percent            0.529475\n",
       "X3rd.Down.Def.Rank              0.512924\n",
       "Opp.4th.Attempt                 0.497046\n",
       "Pass.Yards                      0.476044\n",
       "Kickoffs.Returned               0.466237\n",
       "Yards.Rush                      0.466102\n",
       "Redzone.Pass.TD                 0.464601\n",
       "Name: Win, dtype: float64"
      ]
     },
     "execution_count": 81,
     "metadata": {},
     "output_type": "execute_result"
    }
   ],
   "source": [
    "dfreal.corr()['Win'].abs().nlargest(n=51)"
   ]
  },
  {
   "cell_type": "markdown",
   "id": "492ccb82",
   "metadata": {},
   "source": [
    "Out of our 147 columns in our dataset, here are our 50 highest coorelated with winning more games. The top 2 correlations, 'total.points' and 'loss' make sense that they are so highly coorelated as scoring more points and losing less games leads to a lot more wins. We want to find out what other less known statistics play a large role. "
   ]
  },
  {
   "cell_type": "markdown",
   "id": "10504272",
   "metadata": {},
   "source": [
    "One thing that we noticed right away was that 'points.per.game' is slightly more coorelated to winning than  'avg.points.per.game.allowed'. This means that scoring more offensive points may be a bit more important than giving up less points on defense. "
   ]
  },
  {
   "cell_type": "code",
   "execution_count": 90,
   "id": "880d21a9",
   "metadata": {
    "scrolled": false
   },
   "outputs": [
    {
     "data": {
      "text/html": [
       "<div>\n",
       "<style scoped>\n",
       "    .dataframe tbody tr th:only-of-type {\n",
       "        vertical-align: middle;\n",
       "    }\n",
       "\n",
       "    .dataframe tbody tr th {\n",
       "        vertical-align: top;\n",
       "    }\n",
       "\n",
       "    .dataframe thead th {\n",
       "        text-align: right;\n",
       "    }\n",
       "</style>\n",
       "<table border=\"1\" class=\"dataframe\">\n",
       "  <thead>\n",
       "    <tr style=\"text-align: right;\">\n",
       "      <th></th>\n",
       "      <th>Team</th>\n",
       "      <th>Time.of.Possession</th>\n",
       "      <th>Average.Time.of.Possession.per.Game</th>\n",
       "    </tr>\n",
       "  </thead>\n",
       "  <tbody>\n",
       "    <tr>\n",
       "      <th>0</th>\n",
       "      <td>Akron (MAC)</td>\n",
       "      <td>352:08</td>\n",
       "      <td>29:20</td>\n",
       "    </tr>\n",
       "    <tr>\n",
       "      <th>1</th>\n",
       "      <td>Alabama (SEC)</td>\n",
       "      <td>416:04</td>\n",
       "      <td>32:00</td>\n",
       "    </tr>\n",
       "    <tr>\n",
       "      <th>2</th>\n",
       "      <td>Arizona (Pac-12)</td>\n",
       "      <td>370:31</td>\n",
       "      <td>28:30</td>\n",
       "    </tr>\n",
       "    <tr>\n",
       "      <th>3</th>\n",
       "      <td>Arizona St. (Pac-12)</td>\n",
       "      <td>424:56</td>\n",
       "      <td>30:21</td>\n",
       "    </tr>\n",
       "    <tr>\n",
       "      <th>4</th>\n",
       "      <td>Arkansas (SEC)</td>\n",
       "      <td>365:17</td>\n",
       "      <td>30:26</td>\n",
       "    </tr>\n",
       "    <tr>\n",
       "      <th>...</th>\n",
       "      <td>...</td>\n",
       "      <td>...</td>\n",
       "      <td>...</td>\n",
       "    </tr>\n",
       "    <tr>\n",
       "      <th>965</th>\n",
       "      <td>West Virginia (Big 12)</td>\n",
       "      <td>293:40</td>\n",
       "      <td>32:38</td>\n",
       "    </tr>\n",
       "    <tr>\n",
       "      <th>966</th>\n",
       "      <td>Western Ky. (C-USA)</td>\n",
       "      <td>323:17</td>\n",
       "      <td>29:23</td>\n",
       "    </tr>\n",
       "    <tr>\n",
       "      <th>967</th>\n",
       "      <td>Western Mich. (MAC)</td>\n",
       "      <td>169:31</td>\n",
       "      <td>28:15</td>\n",
       "    </tr>\n",
       "    <tr>\n",
       "      <th>968</th>\n",
       "      <td>Wisconsin (Big Ten)</td>\n",
       "      <td>220:31</td>\n",
       "      <td>36:45</td>\n",
       "    </tr>\n",
       "    <tr>\n",
       "      <th>969</th>\n",
       "      <td>Wyoming (Mountain West)</td>\n",
       "      <td>184:07</td>\n",
       "      <td>30:41</td>\n",
       "    </tr>\n",
       "  </tbody>\n",
       "</table>\n",
       "<p>970 rows × 3 columns</p>\n",
       "</div>"
      ],
      "text/plain": [
       "                        Team Time.of.Possession  \\\n",
       "0                Akron (MAC)             352:08   \n",
       "1              Alabama (SEC)             416:04   \n",
       "2           Arizona (Pac-12)             370:31   \n",
       "3       Arizona St. (Pac-12)             424:56   \n",
       "4             Arkansas (SEC)             365:17   \n",
       "..                       ...                ...   \n",
       "965   West Virginia (Big 12)             293:40   \n",
       "966      Western Ky. (C-USA)             323:17   \n",
       "967      Western Mich. (MAC)             169:31   \n",
       "968      Wisconsin (Big Ten)             220:31   \n",
       "969  Wyoming (Mountain West)             184:07   \n",
       "\n",
       "    Average.Time.of.Possession.per.Game  \n",
       "0                                 29:20  \n",
       "1                                 32:00  \n",
       "2                                 28:30  \n",
       "3                                 30:21  \n",
       "4                                 30:26  \n",
       "..                                  ...  \n",
       "965                               32:38  \n",
       "966                               29:23  \n",
       "967                               28:15  \n",
       "968                               36:45  \n",
       "969                               30:41  \n",
       "\n",
       "[970 rows x 3 columns]"
      ]
     },
     "execution_count": 90,
     "metadata": {},
     "output_type": "execute_result"
    }
   ],
   "source": [
    "dfreal.select_dtypes(include=[object])"
   ]
  },
  {
   "cell_type": "code",
   "execution_count": 99,
   "id": "f6f1e348",
   "metadata": {},
   "outputs": [],
   "source": [
    "dfreal['Time.of.Possession']=dfreal[\"Time.of.Possession\"].str[:-3]"
   ]
  },
  {
   "cell_type": "code",
   "execution_count": 101,
   "id": "6935ebee",
   "metadata": {
    "scrolled": true
   },
   "outputs": [],
   "source": [
    "dfreal['Average.Time.of.Possession.per.Game']=dfreal[\"Average.Time.of.Possession.per.Game\"].str[:-3]"
   ]
  },
  {
   "cell_type": "markdown",
   "id": "33322255",
   "metadata": {},
   "source": [
    "we have decided to make time of possession and average time of possession integers so that they would be easier to work with in our data."
   ]
  },
  {
   "cell_type": "code",
   "execution_count": 137,
   "id": "850e9734",
   "metadata": {},
   "outputs": [],
   "source": [
    "cols1=[ 'Games', 'Loss', 'Off.Rank', 'Off.Plays', 'Off.Yards', 'Off.Yards.Play', 'Off.TDs', 'Total.TDs', 'Off.Yards.per.Game', 'Def.Rank', 'Def.Plays', 'Yards.Allowed', 'Yards.Play.Allowed', 'Off.TDs.Allowed', 'Total.TDs.Allowed', 'Yards.Per.Game.Allowed', 'First.Down.Rank', 'First.Down.Runs', 'First.Down.Passes', 'First.Down.Penalties', 'First.Downs', 'First.Down.Def.Rank', 'Opp.First.Down.Runs', 'Opp.First.Down.Passes', 'Opp.First.Down.Penalties', 'Opp.First.Downs', 'X4th.Down.Rank', 'X4th.Attempts', 'X4th.Conversions', 'X4th.Percent', 'X4rd.Down.Def.Rank', 'Opp.4th.Conversion', 'Opp.4th.Attempt', 'Opponent.4th.Percent', 'Kickoff.Return.Rank', 'Kickoffs.Returned', 'Kickoff.Return.Yards', 'Kickoff.Return.Touchdowns', 'Avg.Yard.per.Kickoff.Return', 'Passing.Off.Rank', 'Pass.Attempts', 'Pass.Completions', 'Interceptions.Thrown.x', 'Pass.Yards', 'Pass.Yards.Attempt', 'Yards.Completion', 'Pass.Touchdowns', 'Pass.Yards.Per.Game', 'Pass.Def.Rank', 'Opp.Completions.Allowed', 'Opp.Pass.Attempts', 'Opp.Pass.Yds.Allowed', 'Opp.Pass.TDs.Allowed', 'Yards.Attempt.Allowed', 'Yards.Completion.Allowed', 'Pass.Yards.Per.Game.Allowed', 'Penalty.Rank', 'Penalties', 'Penalty.Yards', 'Penalty.Yards.Per.Game', 'Punt.Return.Rank', 'Punt.Returns', 'Net.Punt.Return.Yards', 'Punt.Return.Touchdowns', 'Avg.Yards.Per.Punt.Return', 'Punt.Return.Def.Rank', 'Opp.Punt.Returns', 'Opp.Net.Punt.Return.Yards', 'Opp.Punt.Return.Touchdowns.Allowed', 'Avg.Yards.Allowed.per.Punt.Return', 'Redzone.Off.Rank', 'Redzone.Attempts', 'Redzone.Rush.TD', 'Redzone.Pass.TD', 'Redzone.Field.Goals.Made', 'Redzone.Scores', 'Redzone.Points', 'Redzone.Def.Rank', 'Opp.Redzone.Attempts', 'Opp.Redzone.Rush.TD.Allowed', 'Opp.Redzone.Pass.Touchdowns.Allowed', 'Opp.Redzone.Field.Goals.Made', 'Opp.Redzone.Scores', 'Redzone.Points.Allowed', 'Rushing.Off.Rank', 'Rush.Attempts', 'Rush.Yds', 'Yards.Rush', 'Rushing.TD', 'Rushing.Yards.per.Game', 'Rushing.Def.Rank', 'Opp.Rush.Attempts', 'Opp.Rush.Yards.Alloweed', 'Yds.Rush.Allowed', 'Opp.Rush.Touchdowns.Allowed', 'Rush.Yards.Per.Game.Allowed', 'Sack.Rank', 'Sacks', 'Sack.Yards', 'Average.Sacks.per.Game', 'Scoring.Def.Rank', 'Touchdowns.Allowed', 'Opponent.Extra.Points', 'X2.Point.Conversions.Allowed', 'Opp.Deflected.Extra.Points', 'Opp.Feild.Goals.Made', 'Opp.Safety', 'Points.Allowed', 'Avg.Points.per.Game.Allowed', 'Scoring.Off.Rank', 'Touchdowns', 'PAT', 'X2.Point.Conversions', 'Defensive.Points', 'Feild.Goals', 'Safety', 'Total.Points', 'Points.Per.Game', 'Tackle.for.Loss.Rank', 'Solo.Tackle.For.Loss', 'Assist.Tackle.For.Loss', 'Tackle.for.Loss.Yards', 'Total.Tackle.For.Loss', 'Tackle.For.Loss.Per.Game', 'X3rd.Down.Rank', 'X3rd.Attempts', 'X3rd.Conversions', 'X3rd.Percent', 'X3rd.Down.Def.Rank', 'Opp.3rd.Conversion', 'Opp.3rd.Attempt', 'Opponent.3rd.Percent', 'Time.of.Possession.Rank', 'Time.of.Possession', 'Average.Time.of.Possession.per.Game', 'Turnover.Rank', 'Fumbles.Recovered', 'Opponents.Intercepted', 'Turnovers.Gain', 'Fumbles.Lost', 'Interceptions.Thrown.y', 'Turnovers.Lost', 'Turnover.Margin', 'Avg.Turnover.Margin.per.Game', 'Year']\n",
    "x1= dfreal[cols1]"
   ]
  },
  {
   "cell_type": "code",
   "execution_count": 139,
   "id": "5408a3fc",
   "metadata": {},
   "outputs": [
    {
     "name": "stdout",
     "output_type": "stream",
     "text": [
      "                         Features        Score\n",
      "116                  Total.Points  2129.906600\n",
      "1                            Loss  1929.058791\n",
      "111                           PAT  1921.676091\n",
      "110                    Touchdowns  1794.996803\n",
      "75                 Redzone.Scores  1616.460320\n",
      "6                         Off.TDs  1577.102676\n",
      "71               Redzone.Attempts  1393.867719\n",
      "4                       Off.Yards  1178.424277\n",
      "117               Points.Per.Game  1003.298260\n",
      "109              Scoring.Off.Rank   956.842312\n",
      "108   Avg.Points.per.Game.Allowed   921.950392\n",
      "88                     Rushing.TD   870.687202\n",
      "100              Scoring.Def.Rank   854.019324\n",
      "72                Redzone.Rush.TD   792.324122\n",
      "121         Tackle.for.Loss.Yards   684.108154\n",
      "126              X3rd.Conversions   596.739975\n",
      "5                  Off.Yards.Play   595.214638\n",
      "133            Time.of.Possession   585.799097\n",
      "86                       Rush.Yds   556.231467\n",
      "12             Yards.Play.Allowed   547.642949\n",
      "122         Total.Tackle.For.Loss   529.874827\n",
      "90               Rushing.Def.Rank   510.556355\n",
      "95    Rush.Yards.Per.Game.Allowed   502.659840\n",
      "137         Opponents.Intercepted   497.502318\n",
      "50              Opp.Pass.Attempts   495.169457\n",
      "119          Solo.Tackle.For.Loss   492.160603\n",
      "142               Turnover.Margin   487.604990\n",
      "130               Opp.3rd.Attempt   486.524523\n",
      "138                Turnovers.Gain   485.210572\n",
      "124                X3rd.Down.Rank   477.380012\n",
      "0                           Games   473.134655\n",
      "8              Off.Yards.per.Game   472.005710\n",
      "127                  X3rd.Percent   468.215085\n",
      "44             Pass.Yards.Attempt   462.410214\n",
      "3                       Off.Plays   456.336155\n",
      "85                  Rush.Attempts   452.423006\n",
      "15         Yards.Per.Game.Allowed   449.529826\n",
      "93               Yds.Rush.Allowed   449.085449\n",
      "143  Avg.Turnover.Margin.per.Game   447.750539\n",
      "9                        Def.Rank   439.315148\n",
      "135                 Turnover.Rank   438.108541\n",
      "46                Pass.Touchdowns   428.154494\n",
      "2                        Off.Rank   422.196283\n",
      "53          Yards.Attempt.Allowed   413.429664\n",
      "131          Opponent.3rd.Percent   377.085949\n",
      "128            X3rd.Down.Def.Rank   345.595684\n",
      "32                Opp.4th.Attempt   317.617687\n",
      "43                     Pass.Yards   283.645527\n",
      "35              Kickoffs.Returned   268.866732\n",
      "87                     Yards.Rush   268.667869\n"
     ]
    }
   ],
   "source": [
    "y = dfreal['Win']   \n",
    "bestfeatures = SelectKBest(score_func=f_regression,k=50)\n",
    "fit = bestfeatures.fit(x1,y)\n",
    "dfscores = pd.DataFrame(fit.scores_)\n",
    "dfcolumns = pd.DataFrame(x1.columns)\n",
    "\n",
    "featureScores = pd.concat([dfcolumns,dfscores],axis=1)\n",
    "featureScores.columns = ['Features','Score']  \n",
    "print(featureScores.nlargest(50,'Score'))  "
   ]
  },
  {
   "cell_type": "markdown",
   "id": "4c298ac0",
   "metadata": {},
   "source": [
    "Here are our top 50 columns from this selectKbest function. They appear to be pretty similar to what we had earlier with just the plain correlation function "
   ]
  },
  {
   "cell_type": "markdown",
   "id": "8d1ee7eb",
   "metadata": {},
   "source": [
    "Again total points and loss are the two highest in terms of this score. We are going to disregard loss as one of our columns as it is obvious to casual fans that if you don't lose you have a much higher chance of winning."
   ]
  },
  {
   "cell_type": "code",
   "execution_count": 142,
   "id": "0cd4b4bd",
   "metadata": {},
   "outputs": [],
   "source": [
    "scoringcolumns=[ 'Off.TDs', 'Total.TDs', 'Off.TDs.Allowed', 'Total.TDs.Allowed', 'Scoring.Def.Rank',  'Points.Allowed', 'Avg.Points.per.Game.Allowed', 'Scoring.Off.Rank', 'Defensive.Points', 'Total.Points', 'Points.Per.Game']\n",
    "dfscoring= dfreal[scoringcolumns]"
   ]
  },
  {
   "cell_type": "markdown",
   "id": "96f28aa2",
   "metadata": {},
   "source": [
    "we have decided to just look at total scoring in general to figure out what type of offensive scoring or defensive scoring allowed is most important to winning."
   ]
  },
  {
   "cell_type": "code",
   "execution_count": 147,
   "id": "52efa89d",
   "metadata": {
    "scrolled": true
   },
   "outputs": [
    {
     "name": "stdout",
     "output_type": "stream",
     "text": [
      "                       Features        Score\n",
      "9                  Total.Points  2129.906600\n",
      "0                       Off.TDs  1577.102676\n",
      "10              Points.Per.Game  1003.298260\n",
      "7              Scoring.Off.Rank   956.842312\n",
      "6   Avg.Points.per.Game.Allowed   921.950392\n",
      "4              Scoring.Def.Rank   854.019324\n",
      "3             Total.TDs.Allowed   157.192588\n",
      "2               Off.TDs.Allowed   135.537484\n",
      "5                Points.Allowed   135.118505\n",
      "1                     Total.TDs    73.360577\n",
      "8              Defensive.Points     2.204182\n"
     ]
    }
   ],
   "source": [
    "y = dfreal['Win']   \n",
    "bestfeatures = SelectKBest(score_func=f_regression,k=11)\n",
    "fit = bestfeatures.fit(dfscoring,y)\n",
    "dfscores = pd.DataFrame(fit.scores_)\n",
    "dfcolumns = pd.DataFrame(dfscoring.columns)\n",
    "\n",
    "featureScores = pd.concat([dfcolumns,dfscores],axis=1)\n",
    "featureScores.columns = ['Features','Score']  \n",
    "print(featureScores.nlargest(11,'Score'))  "
   ]
  },
  {
   "cell_type": "markdown",
   "id": "8b1ca9df",
   "metadata": {},
   "source": [
    "As you can see from this score. Offensive point rankings, are scored much more highly than defensive scoring rankings when correlating to wins. "
   ]
  },
  {
   "cell_type": "code",
   "execution_count": 164,
   "id": "a4944006",
   "metadata": {},
   "outputs": [],
   "source": [
    "scoringcolumnsnew=[ 'Total.Points', 'Points.Allowed', 'Avg.Points.per.Game.Allowed', 'Points.Per.Game']\n",
    "dfscoringnew= dfreal[scoringcolumnsnew]"
   ]
  },
  {
   "cell_type": "markdown",
   "id": "9dfbdfaa",
   "metadata": {},
   "source": [
    "We have decided to simplify the columns we use in our below model even more, that way we do not have as much multicollinearity going on. We chose these four columns as they showcase the same statistics for both offense and defense "
   ]
  },
  {
   "cell_type": "code",
   "execution_count": 165,
   "id": "28a64a96",
   "metadata": {},
   "outputs": [],
   "source": [
    "from sklearn.model_selection import train_test_split"
   ]
  },
  {
   "cell_type": "code",
   "execution_count": 166,
   "id": "c3c0781e",
   "metadata": {},
   "outputs": [],
   "source": [
    "xtrainscoring, xtestscoring, ytrainscoring, ytestscoring = train_test_split(dfscoringnew, y, test_size=0.2, random_state = 6)"
   ]
  },
  {
   "cell_type": "code",
   "execution_count": 167,
   "id": "19270787",
   "metadata": {},
   "outputs": [
    {
     "data": {
      "text/html": [
       "<table class=\"simpletable\">\n",
       "<caption>OLS Regression Results</caption>\n",
       "<tr>\n",
       "  <th>Dep. Variable:</th>           <td>Win</td>       <th>  R-squared:         </th> <td>   0.887</td>\n",
       "</tr>\n",
       "<tr>\n",
       "  <th>Model:</th>                   <td>OLS</td>       <th>  Adj. R-squared:    </th> <td>   0.886</td>\n",
       "</tr>\n",
       "<tr>\n",
       "  <th>Method:</th>             <td>Least Squares</td>  <th>  F-statistic:       </th> <td>   1513.</td>\n",
       "</tr>\n",
       "<tr>\n",
       "  <th>Date:</th>             <td>Mon, 29 Nov 2021</td> <th>  Prob (F-statistic):</th>  <td>  0.00</td> \n",
       "</tr>\n",
       "<tr>\n",
       "  <th>Time:</th>                 <td>10:26:04</td>     <th>  Log-Likelihood:    </th> <td> -1159.1</td>\n",
       "</tr>\n",
       "<tr>\n",
       "  <th>No. Observations:</th>      <td>   776</td>      <th>  AIC:               </th> <td>   2328.</td>\n",
       "</tr>\n",
       "<tr>\n",
       "  <th>Df Residuals:</th>          <td>   771</td>      <th>  BIC:               </th> <td>   2352.</td>\n",
       "</tr>\n",
       "<tr>\n",
       "  <th>Df Model:</th>              <td>     4</td>      <th>                     </th>     <td> </td>   \n",
       "</tr>\n",
       "<tr>\n",
       "  <th>Covariance Type:</th>      <td>nonrobust</td>    <th>                     </th>     <td> </td>   \n",
       "</tr>\n",
       "</table>\n",
       "<table class=\"simpletable\">\n",
       "<tr>\n",
       "               <td></td>                  <th>coef</th>     <th>std err</th>      <th>t</th>      <th>P>|t|</th>  <th>[0.025</th>    <th>0.975]</th>  \n",
       "</tr>\n",
       "<tr>\n",
       "  <th>const</th>                       <td>    6.0493</td> <td>    0.260</td> <td>   23.276</td> <td> 0.000</td> <td>    5.539</td> <td>    6.559</td>\n",
       "</tr>\n",
       "<tr>\n",
       "  <th>Total.Points</th>                <td>    0.0256</td> <td>    0.002</td> <td>   17.057</td> <td> 0.000</td> <td>    0.023</td> <td>    0.029</td>\n",
       "</tr>\n",
       "<tr>\n",
       "  <th>Points.Allowed</th>              <td>   -0.0062</td> <td>    0.002</td> <td>   -3.901</td> <td> 0.000</td> <td>   -0.009</td> <td>   -0.003</td>\n",
       "</tr>\n",
       "<tr>\n",
       "  <th>Avg.Points.per.Game.Allowed</th> <td>   -0.1414</td> <td>    0.020</td> <td>   -7.248</td> <td> 0.000</td> <td>   -0.180</td> <td>   -0.103</td>\n",
       "</tr>\n",
       "<tr>\n",
       "  <th>Points.Per.Game</th>             <td>   -0.0952</td> <td>    0.019</td> <td>   -5.013</td> <td> 0.000</td> <td>   -0.132</td> <td>   -0.058</td>\n",
       "</tr>\n",
       "</table>\n",
       "<table class=\"simpletable\">\n",
       "<tr>\n",
       "  <th>Omnibus:</th>       <td> 0.212</td> <th>  Durbin-Watson:     </th> <td>   2.052</td>\n",
       "</tr>\n",
       "<tr>\n",
       "  <th>Prob(Omnibus):</th> <td> 0.899</td> <th>  Jarque-Bera (JB):  </th> <td>   0.301</td>\n",
       "</tr>\n",
       "<tr>\n",
       "  <th>Skew:</th>          <td>-0.020</td> <th>  Prob(JB):          </th> <td>   0.860</td>\n",
       "</tr>\n",
       "<tr>\n",
       "  <th>Kurtosis:</th>      <td> 2.912</td> <th>  Cond. No.          </th> <td>3.36e+03</td>\n",
       "</tr>\n",
       "</table><br/><br/>Notes:<br/>[1] Standard Errors assume that the covariance matrix of the errors is correctly specified.<br/>[2] The condition number is large, 3.36e+03. This might indicate that there are<br/>strong multicollinearity or other numerical problems."
      ],
      "text/plain": [
       "<class 'statsmodels.iolib.summary.Summary'>\n",
       "\"\"\"\n",
       "                            OLS Regression Results                            \n",
       "==============================================================================\n",
       "Dep. Variable:                    Win   R-squared:                       0.887\n",
       "Model:                            OLS   Adj. R-squared:                  0.886\n",
       "Method:                 Least Squares   F-statistic:                     1513.\n",
       "Date:                Mon, 29 Nov 2021   Prob (F-statistic):               0.00\n",
       "Time:                        10:26:04   Log-Likelihood:                -1159.1\n",
       "No. Observations:                 776   AIC:                             2328.\n",
       "Df Residuals:                     771   BIC:                             2352.\n",
       "Df Model:                           4                                         \n",
       "Covariance Type:            nonrobust                                         \n",
       "===============================================================================================\n",
       "                                  coef    std err          t      P>|t|      [0.025      0.975]\n",
       "-----------------------------------------------------------------------------------------------\n",
       "const                           6.0493      0.260     23.276      0.000       5.539       6.559\n",
       "Total.Points                    0.0256      0.002     17.057      0.000       0.023       0.029\n",
       "Points.Allowed                 -0.0062      0.002     -3.901      0.000      -0.009      -0.003\n",
       "Avg.Points.per.Game.Allowed    -0.1414      0.020     -7.248      0.000      -0.180      -0.103\n",
       "Points.Per.Game                -0.0952      0.019     -5.013      0.000      -0.132      -0.058\n",
       "==============================================================================\n",
       "Omnibus:                        0.212   Durbin-Watson:                   2.052\n",
       "Prob(Omnibus):                  0.899   Jarque-Bera (JB):                0.301\n",
       "Skew:                          -0.020   Prob(JB):                        0.860\n",
       "Kurtosis:                       2.912   Cond. No.                     3.36e+03\n",
       "==============================================================================\n",
       "\n",
       "Notes:\n",
       "[1] Standard Errors assume that the covariance matrix of the errors is correctly specified.\n",
       "[2] The condition number is large, 3.36e+03. This might indicate that there are\n",
       "strong multicollinearity or other numerical problems.\n",
       "\"\"\""
      ]
     },
     "execution_count": 167,
     "metadata": {},
     "output_type": "execute_result"
    }
   ],
   "source": [
    "xtrainscoringmodel=sm.add_constant(xtrainscoring)\n",
    "multipleregscoring=sm.OLS(ytrainscoring,xtrainscoringmodel).fit()\n",
    "multipleregscoring.summary()"
   ]
  },
  {
   "cell_type": "code",
   "execution_count": 168,
   "id": "fad3938f",
   "metadata": {},
   "outputs": [],
   "source": [
    "ypredscoring =multipleregscoring.predict(sm.add_constant(xtestscoring))"
   ]
  },
  {
   "cell_type": "code",
   "execution_count": 169,
   "id": "3f4c53b2",
   "metadata": {},
   "outputs": [
    {
     "data": {
      "text/plain": [
       "0.877065830278236"
      ]
     },
     "execution_count": 169,
     "metadata": {},
     "output_type": "execute_result"
    }
   ],
   "source": [
    "from sklearn.metrics import r2_score\n",
    "r2_score(ytestscoring, ypredscoring)"
   ]
  },
  {
   "cell_type": "code",
   "execution_count": 170,
   "id": "0b4c13b0",
   "metadata": {},
   "outputs": [],
   "source": [
    "ypredtrainscoring =multipleregscoring.predict(sm.add_constant(xtrainscoring))"
   ]
  },
  {
   "cell_type": "code",
   "execution_count": 171,
   "id": "f5655669",
   "metadata": {},
   "outputs": [
    {
     "data": {
      "text/plain": [
       "0.8870049674430671"
      ]
     },
     "execution_count": 171,
     "metadata": {},
     "output_type": "execute_result"
    }
   ],
   "source": [
    "r2_score(ytrainscoring, ypredtrainscoring)"
   ]
  },
  {
   "cell_type": "markdown",
   "id": "1550db57",
   "metadata": {},
   "source": [
    "these two R Squares are very close, showing that this model is doind a pretty good job of predicting on the test data. From the above model, we can see that the total.points (an offensive statistics) has the highest t score of our variables which indicates that it is most important in predicting wins in our model. This goes along with what we were seeing on our selectkbest function earlier with offensive scoring being more important to winning than defensive points given up. From this we can infer that it may be more important for college football teams to have a good offense that can score rather than a good defense that prevents other teams from scoring. "
   ]
  },
  {
   "cell_type": "markdown",
   "id": "fe1d67b7",
   "metadata": {},
   "source": [
    "One interesting thing we have noticed is that rushing stats seem to be higher correlated and higher on the selectkbest score function above than passing stats are, both offensive and defensive wise. We want to specifcially look into rushing yards vs passing yards for both offense and defense to look more into which seems to be more important in a model now.  "
   ]
  },
  {
   "cell_type": "code",
   "execution_count": 179,
   "id": "8512830a",
   "metadata": {},
   "outputs": [],
   "source": [
    "runvspasscolumns= ['Passing.Off.Rank', 'Pass.Def.Rank', 'Rushing.Off.Rank', 'Rushing.Def.Rank' ]\n",
    "dfrunvspass= dfreal[runvspasscolumns]"
   ]
  },
  {
   "cell_type": "code",
   "execution_count": 182,
   "id": "5fe6f628",
   "metadata": {},
   "outputs": [],
   "source": [
    "xtrainrunvspass, xtestrunvspass, ytrainrunvspass, ytestrunvspass = train_test_split(dfrunvspass, y, test_size=0.2, random_state = 6)"
   ]
  },
  {
   "cell_type": "code",
   "execution_count": 184,
   "id": "fc5febbe",
   "metadata": {},
   "outputs": [
    {
     "data": {
      "text/html": [
       "<table class=\"simpletable\">\n",
       "<caption>OLS Regression Results</caption>\n",
       "<tr>\n",
       "  <th>Dep. Variable:</th>           <td>Win</td>       <th>  R-squared:         </th> <td>   0.624</td> \n",
       "</tr>\n",
       "<tr>\n",
       "  <th>Model:</th>                   <td>OLS</td>       <th>  Adj. R-squared:    </th> <td>   0.622</td> \n",
       "</tr>\n",
       "<tr>\n",
       "  <th>Method:</th>             <td>Least Squares</td>  <th>  F-statistic:       </th> <td>   320.1</td> \n",
       "</tr>\n",
       "<tr>\n",
       "  <th>Date:</th>             <td>Mon, 29 Nov 2021</td> <th>  Prob (F-statistic):</th> <td>3.53e-162</td>\n",
       "</tr>\n",
       "<tr>\n",
       "  <th>Time:</th>                 <td>10:40:53</td>     <th>  Log-Likelihood:    </th> <td> -1625.4</td> \n",
       "</tr>\n",
       "<tr>\n",
       "  <th>No. Observations:</th>      <td>   776</td>      <th>  AIC:               </th> <td>   3261.</td> \n",
       "</tr>\n",
       "<tr>\n",
       "  <th>Df Residuals:</th>          <td>   771</td>      <th>  BIC:               </th> <td>   3284.</td> \n",
       "</tr>\n",
       "<tr>\n",
       "  <th>Df Model:</th>              <td>     4</td>      <th>                     </th>     <td> </td>    \n",
       "</tr>\n",
       "<tr>\n",
       "  <th>Covariance Type:</th>      <td>nonrobust</td>    <th>                     </th>     <td> </td>    \n",
       "</tr>\n",
       "</table>\n",
       "<table class=\"simpletable\">\n",
       "<tr>\n",
       "          <td></td>            <th>coef</th>     <th>std err</th>      <th>t</th>      <th>P>|t|</th>  <th>[0.025</th>    <th>0.975]</th>  \n",
       "</tr>\n",
       "<tr>\n",
       "  <th>const</th>            <td>   15.0910</td> <td>    0.276</td> <td>   54.699</td> <td> 0.000</td> <td>   14.549</td> <td>   15.633</td>\n",
       "</tr>\n",
       "<tr>\n",
       "  <th>Passing.Off.Rank</th> <td>   -0.0377</td> <td>    0.002</td> <td>  -18.188</td> <td> 0.000</td> <td>   -0.042</td> <td>   -0.034</td>\n",
       "</tr>\n",
       "<tr>\n",
       "  <th>Pass.Def.Rank</th>    <td>   -0.0196</td> <td>    0.002</td> <td>   -9.704</td> <td> 0.000</td> <td>   -0.024</td> <td>   -0.016</td>\n",
       "</tr>\n",
       "<tr>\n",
       "  <th>Rushing.Off.Rank</th> <td>   -0.0363</td> <td>    0.002</td> <td>  -17.823</td> <td> 0.000</td> <td>   -0.040</td> <td>   -0.032</td>\n",
       "</tr>\n",
       "<tr>\n",
       "  <th>Rushing.Def.Rank</th> <td>   -0.0413</td> <td>    0.002</td> <td>  -20.627</td> <td> 0.000</td> <td>   -0.045</td> <td>   -0.037</td>\n",
       "</tr>\n",
       "</table>\n",
       "<table class=\"simpletable\">\n",
       "<tr>\n",
       "  <th>Omnibus:</th>       <td> 6.086</td> <th>  Durbin-Watson:     </th> <td>   2.141</td>\n",
       "</tr>\n",
       "<tr>\n",
       "  <th>Prob(Omnibus):</th> <td> 0.048</td> <th>  Jarque-Bera (JB):  </th> <td>   5.967</td>\n",
       "</tr>\n",
       "<tr>\n",
       "  <th>Skew:</th>          <td>-0.192</td> <th>  Prob(JB):          </th> <td>  0.0506</td>\n",
       "</tr>\n",
       "<tr>\n",
       "  <th>Kurtosis:</th>      <td> 3.191</td> <th>  Cond. No.          </th> <td>    522.</td>\n",
       "</tr>\n",
       "</table><br/><br/>Notes:<br/>[1] Standard Errors assume that the covariance matrix of the errors is correctly specified."
      ],
      "text/plain": [
       "<class 'statsmodels.iolib.summary.Summary'>\n",
       "\"\"\"\n",
       "                            OLS Regression Results                            \n",
       "==============================================================================\n",
       "Dep. Variable:                    Win   R-squared:                       0.624\n",
       "Model:                            OLS   Adj. R-squared:                  0.622\n",
       "Method:                 Least Squares   F-statistic:                     320.1\n",
       "Date:                Mon, 29 Nov 2021   Prob (F-statistic):          3.53e-162\n",
       "Time:                        10:40:53   Log-Likelihood:                -1625.4\n",
       "No. Observations:                 776   AIC:                             3261.\n",
       "Df Residuals:                     771   BIC:                             3284.\n",
       "Df Model:                           4                                         \n",
       "Covariance Type:            nonrobust                                         \n",
       "====================================================================================\n",
       "                       coef    std err          t      P>|t|      [0.025      0.975]\n",
       "------------------------------------------------------------------------------------\n",
       "const               15.0910      0.276     54.699      0.000      14.549      15.633\n",
       "Passing.Off.Rank    -0.0377      0.002    -18.188      0.000      -0.042      -0.034\n",
       "Pass.Def.Rank       -0.0196      0.002     -9.704      0.000      -0.024      -0.016\n",
       "Rushing.Off.Rank    -0.0363      0.002    -17.823      0.000      -0.040      -0.032\n",
       "Rushing.Def.Rank    -0.0413      0.002    -20.627      0.000      -0.045      -0.037\n",
       "==============================================================================\n",
       "Omnibus:                        6.086   Durbin-Watson:                   2.141\n",
       "Prob(Omnibus):                  0.048   Jarque-Bera (JB):                5.967\n",
       "Skew:                          -0.192   Prob(JB):                       0.0506\n",
       "Kurtosis:                       3.191   Cond. No.                         522.\n",
       "==============================================================================\n",
       "\n",
       "Notes:\n",
       "[1] Standard Errors assume that the covariance matrix of the errors is correctly specified.\n",
       "\"\"\""
      ]
     },
     "execution_count": 184,
     "metadata": {},
     "output_type": "execute_result"
    }
   ],
   "source": [
    "xtrainrunvspassmodel=sm.add_constant(xtrainrunvspass)\n",
    "multipleregrunvspass=sm.OLS(ytrainrunvspass,xtrainrunvspassmodel).fit()\n",
    "multipleregrunvspass.summary()"
   ]
  },
  {
   "cell_type": "code",
   "execution_count": 186,
   "id": "edd9f299",
   "metadata": {},
   "outputs": [],
   "source": [
    "ypredrunvspass =multipleregrunvspass.predict(sm.add_constant(xtestrunvspass))"
   ]
  },
  {
   "cell_type": "code",
   "execution_count": 187,
   "id": "f56c0bbe",
   "metadata": {},
   "outputs": [
    {
     "data": {
      "text/plain": [
       "0.5836977143594407"
      ]
     },
     "execution_count": 187,
     "metadata": {},
     "output_type": "execute_result"
    }
   ],
   "source": [
    "r2_score(ytestrunvspass, ypredrunvspass)"
   ]
  },
  {
   "cell_type": "code",
   "execution_count": 188,
   "id": "4c366618",
   "metadata": {},
   "outputs": [],
   "source": [
    "ypredtrainrunvspass =multipleregrunvspass.predict(sm.add_constant(xtrainrunvspass))"
   ]
  },
  {
   "cell_type": "code",
   "execution_count": 189,
   "id": "cc988d0d",
   "metadata": {},
   "outputs": [
    {
     "data": {
      "text/plain": [
       "0.624158931043236"
      ]
     },
     "execution_count": 189,
     "metadata": {},
     "output_type": "execute_result"
    }
   ],
   "source": [
    "r2_score(ytrainrunvspass, ypredtrainrunvspass)"
   ]
  },
  {
   "cell_type": "markdown",
   "id": "5f34ce9a",
   "metadata": {},
   "source": [
    "these R squared scores are pretty similar, but not super high overall in terms of predicting winning. This is not surprising as we are only using the passing and running ranks which only incorporates yards and not scoring. Overall, the rushing offensive and defensive rank seems to be more important to winning than the passing rank as the t scores are higher for the rushing stats overall. This agrees with what we saw earlier on our kbest score and also our correlation. Because of this we believe it is more important to overall have a team that is good at getting rushing yards and also defending rushing yards rather than a team that is very good offensively and defensively at passing in terms of yards."
   ]
  },
  {
   "cell_type": "markdown",
   "id": "5ba9559e",
   "metadata": {},
   "source": [
    "One of the things we discussed in our proposal and what we would like to look at now is whether it is more important to prevent turnovers offensively, or create turnovers defensively in terms of getting more wins. "
   ]
  },
  {
   "cell_type": "code",
   "execution_count": 190,
   "id": "0a0a9186",
   "metadata": {},
   "outputs": [],
   "source": [
    "turnovercolumns=[ 'Turnover.Rank', 'Fumbles.Recovered', 'Opponents.Intercepted', 'Turnovers.Gain', 'Fumbles.Lost', 'Interceptions.Thrown.y', 'Turnovers.Lost', 'Turnover.Margin', 'Avg.Turnover.Margin.per.Game']\n",
    "dfturnovers= dfreal[turnovercolumns]"
   ]
  },
  {
   "cell_type": "code",
   "execution_count": 192,
   "id": "ad032df7",
   "metadata": {},
   "outputs": [
    {
     "name": "stdout",
     "output_type": "stream",
     "text": [
      "                       Features       Score\n",
      "2         Opponents.Intercepted  497.502318\n",
      "7               Turnover.Margin  487.604990\n",
      "3                Turnovers.Gain  485.210572\n",
      "8  Avg.Turnover.Margin.per.Game  447.750539\n",
      "0                 Turnover.Rank  438.108541\n",
      "1             Fumbles.Recovered   77.331250\n",
      "5        Interceptions.Thrown.y   41.835351\n",
      "6                Turnovers.Lost   19.404755\n",
      "4                  Fumbles.Lost    0.256219\n"
     ]
    }
   ],
   "source": [
    "y = dfreal['Win']   \n",
    "bestfeatures = SelectKBest(score_func=f_regression,k=9)\n",
    "fit = bestfeatures.fit(dfturnovers,y)\n",
    "dfscores = pd.DataFrame(fit.scores_)\n",
    "dfcolumns = pd.DataFrame(dfturnovers.columns)\n",
    "\n",
    "featureScores = pd.concat([dfcolumns,dfscores],axis=1)\n",
    "featureScores.columns = ['Features','Score']  \n",
    "print(featureScores.nlargest(9,'Score'))  "
   ]
  },
  {
   "cell_type": "markdown",
   "id": "997d11f8",
   "metadata": {},
   "source": [
    "From this you can see that it seems like turnovers gained (getting a turnover on defense) is more important to winning than turnovers lost giving up a turnovers lost (giving up a turnover on offense). We have decided to get rid of turnover.margin avg.turnover.margin.per.game and turnover.rank to prevent some multicollinearity and also look more into whether fumbles or interceptions are more important."
   ]
  },
  {
   "cell_type": "code",
   "execution_count": 198,
   "id": "b59aa95a",
   "metadata": {},
   "outputs": [],
   "source": [
    "turnovercolumnsnew=[ 'Fumbles.Recovered', 'Opponents.Intercepted', 'Turnovers.Gain', 'Fumbles.Lost', 'Interceptions.Thrown.y', 'Turnovers.Lost']\n",
    "dfturnoversnew= dfreal[turnovercolumnsnew]"
   ]
  },
  {
   "cell_type": "code",
   "execution_count": 199,
   "id": "6f4adfa7",
   "metadata": {},
   "outputs": [],
   "source": [
    "xtrainturnovers, xtestturnovers, ytrainturnovers, ytestturnovers = train_test_split(dfturnoversnew, y, test_size=0.2, random_state = 6)"
   ]
  },
  {
   "cell_type": "code",
   "execution_count": 200,
   "id": "71bf803a",
   "metadata": {},
   "outputs": [
    {
     "data": {
      "text/html": [
       "<table class=\"simpletable\">\n",
       "<caption>OLS Regression Results</caption>\n",
       "<tr>\n",
       "  <th>Dep. Variable:</th>           <td>Win</td>       <th>  R-squared:         </th> <td>   0.466</td> \n",
       "</tr>\n",
       "<tr>\n",
       "  <th>Model:</th>                   <td>OLS</td>       <th>  Adj. R-squared:    </th> <td>   0.463</td> \n",
       "</tr>\n",
       "<tr>\n",
       "  <th>Method:</th>             <td>Least Squares</td>  <th>  F-statistic:       </th> <td>   168.1</td> \n",
       "</tr>\n",
       "<tr>\n",
       "  <th>Date:</th>             <td>Mon, 29 Nov 2021</td> <th>  Prob (F-statistic):</th> <td>1.92e-103</td>\n",
       "</tr>\n",
       "<tr>\n",
       "  <th>Time:</th>                 <td>10:56:18</td>     <th>  Log-Likelihood:    </th> <td> -1761.8</td> \n",
       "</tr>\n",
       "<tr>\n",
       "  <th>No. Observations:</th>      <td>   776</td>      <th>  AIC:               </th> <td>   3534.</td> \n",
       "</tr>\n",
       "<tr>\n",
       "  <th>Df Residuals:</th>          <td>   771</td>      <th>  BIC:               </th> <td>   3557.</td> \n",
       "</tr>\n",
       "<tr>\n",
       "  <th>Df Model:</th>              <td>     4</td>      <th>                     </th>     <td> </td>    \n",
       "</tr>\n",
       "<tr>\n",
       "  <th>Covariance Type:</th>      <td>nonrobust</td>    <th>                     </th>     <td> </td>    \n",
       "</tr>\n",
       "</table>\n",
       "<table class=\"simpletable\">\n",
       "<tr>\n",
       "             <td></td>               <th>coef</th>     <th>std err</th>      <th>t</th>      <th>P>|t|</th>  <th>[0.025</th>    <th>0.975]</th>  \n",
       "</tr>\n",
       "<tr>\n",
       "  <th>const</th>                  <td>    2.7378</td> <td>    0.367</td> <td>    7.464</td> <td> 0.000</td> <td>    2.018</td> <td>    3.458</td>\n",
       "</tr>\n",
       "<tr>\n",
       "  <th>Fumbles.Recovered</th>      <td>   -0.0080</td> <td>    0.020</td> <td>   -0.393</td> <td> 0.695</td> <td>   -0.048</td> <td>    0.032</td>\n",
       "</tr>\n",
       "<tr>\n",
       "  <th>Opponents.Intercepted</th>  <td>    0.2103</td> <td>    0.017</td> <td>   12.305</td> <td> 0.000</td> <td>    0.177</td> <td>    0.244</td>\n",
       "</tr>\n",
       "<tr>\n",
       "  <th>Turnovers.Gain</th>         <td>    0.2022</td> <td>    0.010</td> <td>   20.146</td> <td> 0.000</td> <td>    0.183</td> <td>    0.222</td>\n",
       "</tr>\n",
       "<tr>\n",
       "  <th>Fumbles.Lost</th>           <td>    0.0222</td> <td>    0.020</td> <td>    1.125</td> <td> 0.261</td> <td>   -0.017</td> <td>    0.061</td>\n",
       "</tr>\n",
       "<tr>\n",
       "  <th>Interceptions.Thrown.y</th> <td>   -0.1030</td> <td>    0.017</td> <td>   -5.923</td> <td> 0.000</td> <td>   -0.137</td> <td>   -0.069</td>\n",
       "</tr>\n",
       "<tr>\n",
       "  <th>Turnovers.Lost</th>         <td>   -0.0808</td> <td>    0.010</td> <td>   -7.889</td> <td> 0.000</td> <td>   -0.101</td> <td>   -0.061</td>\n",
       "</tr>\n",
       "</table>\n",
       "<table class=\"simpletable\">\n",
       "<tr>\n",
       "  <th>Omnibus:</th>       <td> 9.175</td> <th>  Durbin-Watson:     </th> <td>   1.995</td>\n",
       "</tr>\n",
       "<tr>\n",
       "  <th>Prob(Omnibus):</th> <td> 0.010</td> <th>  Jarque-Bera (JB):  </th> <td>   9.151</td>\n",
       "</tr>\n",
       "<tr>\n",
       "  <th>Skew:</th>          <td> 0.261</td> <th>  Prob(JB):          </th> <td>  0.0103</td>\n",
       "</tr>\n",
       "<tr>\n",
       "  <th>Kurtosis:</th>      <td> 3.103</td> <th>  Cond. No.          </th> <td>4.32e+16</td>\n",
       "</tr>\n",
       "</table><br/><br/>Notes:<br/>[1] Standard Errors assume that the covariance matrix of the errors is correctly specified.<br/>[2] The smallest eigenvalue is 4.79e-28. This might indicate that there are<br/>strong multicollinearity problems or that the design matrix is singular."
      ],
      "text/plain": [
       "<class 'statsmodels.iolib.summary.Summary'>\n",
       "\"\"\"\n",
       "                            OLS Regression Results                            \n",
       "==============================================================================\n",
       "Dep. Variable:                    Win   R-squared:                       0.466\n",
       "Model:                            OLS   Adj. R-squared:                  0.463\n",
       "Method:                 Least Squares   F-statistic:                     168.1\n",
       "Date:                Mon, 29 Nov 2021   Prob (F-statistic):          1.92e-103\n",
       "Time:                        10:56:18   Log-Likelihood:                -1761.8\n",
       "No. Observations:                 776   AIC:                             3534.\n",
       "Df Residuals:                     771   BIC:                             3557.\n",
       "Df Model:                           4                                         \n",
       "Covariance Type:            nonrobust                                         \n",
       "==========================================================================================\n",
       "                             coef    std err          t      P>|t|      [0.025      0.975]\n",
       "------------------------------------------------------------------------------------------\n",
       "const                      2.7378      0.367      7.464      0.000       2.018       3.458\n",
       "Fumbles.Recovered         -0.0080      0.020     -0.393      0.695      -0.048       0.032\n",
       "Opponents.Intercepted      0.2103      0.017     12.305      0.000       0.177       0.244\n",
       "Turnovers.Gain             0.2022      0.010     20.146      0.000       0.183       0.222\n",
       "Fumbles.Lost               0.0222      0.020      1.125      0.261      -0.017       0.061\n",
       "Interceptions.Thrown.y    -0.1030      0.017     -5.923      0.000      -0.137      -0.069\n",
       "Turnovers.Lost            -0.0808      0.010     -7.889      0.000      -0.101      -0.061\n",
       "==============================================================================\n",
       "Omnibus:                        9.175   Durbin-Watson:                   1.995\n",
       "Prob(Omnibus):                  0.010   Jarque-Bera (JB):                9.151\n",
       "Skew:                           0.261   Prob(JB):                       0.0103\n",
       "Kurtosis:                       3.103   Cond. No.                     4.32e+16\n",
       "==============================================================================\n",
       "\n",
       "Notes:\n",
       "[1] Standard Errors assume that the covariance matrix of the errors is correctly specified.\n",
       "[2] The smallest eigenvalue is 4.79e-28. This might indicate that there are\n",
       "strong multicollinearity problems or that the design matrix is singular.\n",
       "\"\"\""
      ]
     },
     "execution_count": 200,
     "metadata": {},
     "output_type": "execute_result"
    }
   ],
   "source": [
    "xtrainturnoversmodel=sm.add_constant(xtrainturnovers)\n",
    "multipleregturnovers=sm.OLS(ytrainturnovers,xtrainturnoversmodel).fit()\n",
    "multipleregturnovers.summary()"
   ]
  },
  {
   "cell_type": "code",
   "execution_count": 201,
   "id": "f52c6f42",
   "metadata": {},
   "outputs": [],
   "source": [
    "ypredturnovers =multipleregturnovers.predict(sm.add_constant(xtestturnovers))"
   ]
  },
  {
   "cell_type": "code",
   "execution_count": 202,
   "id": "e582c07e",
   "metadata": {},
   "outputs": [
    {
     "data": {
      "text/plain": [
       "0.23854536719588137"
      ]
     },
     "execution_count": 202,
     "metadata": {},
     "output_type": "execute_result"
    }
   ],
   "source": [
    "r2_score(ytestturnovers, ypredturnovers)"
   ]
  },
  {
   "cell_type": "markdown",
   "id": "b06d56fa",
   "metadata": {},
   "source": [
    "This is concerning that the test R squared is much lower than the train r squared from our model. From our model it at least looks like turnovers gained are more important to winning than turnovers lost (higher t score). It also appears that interceptions thrown on offense and taken on defense are more important than fumbles gained or lost. "
   ]
  },
  {
   "cell_type": "markdown",
   "id": "5b12a57f",
   "metadata": {},
   "source": [
    "While it is concerning that the test R Squared score is lower than the train R squared score, we still believe that there is some evidence that gaining turnovers (defensive) is more important than turnovers lost (offensive). We also believe that teams should focus more on throwing less interceptions and gaining more interceptions rather than focusing on fumbles, as interceptions seem to be more correlated to winning than fumbles do from what we have found in our model and selectkbest score. "
   ]
  },
  {
   "cell_type": "code",
   "execution_count": 208,
   "id": "55912c8d",
   "metadata": {},
   "outputs": [],
   "source": [
    "thirddowncolumns=['X3rd.Down.Rank', 'X3rd.Percent', 'X3rd.Down.Def.Rank', 'Opponent.3rd.Percent']\n",
    "dfthirddownnew= dfreal[thirddowncolumns]"
   ]
  },
  {
   "cell_type": "markdown",
   "id": "7628fa55",
   "metadata": {},
   "source": [
    "One other thing that we wanted to look more into is whether it is more important for a team to be good at third downs offensively or defensively. This is similar to when we look at offense vs defense as a whole, but we have decided to split it into just this third down data because as many fans know third downs can play a huge role in close games. We decided to focus it down to third down offense and defense rank and third down percent as we believe that these columns show which teams are better at converting when they actually get themselves into third down situations."
   ]
  },
  {
   "cell_type": "code",
   "execution_count": 226,
   "id": "7a005eac",
   "metadata": {},
   "outputs": [
    {
     "name": "stdout",
     "output_type": "stream",
     "text": [
      "               Features       Score\n",
      "0        X3rd.Down.Rank  477.380012\n",
      "1          X3rd.Percent  468.215085\n",
      "3  Opponent.3rd.Percent  377.085949\n",
      "2    X3rd.Down.Def.Rank  345.595684\n"
     ]
    }
   ],
   "source": [
    "  bestfeatures = SelectKBest(score_func=f_regression,k=4)\n",
    "fit = bestfeatures.fit(dfthirddown,y)\n",
    "dfscores = pd.DataFrame(fit.scores_)\n",
    "dfcolumns = pd.DataFrame(dfthirddown.columns)\n",
    "\n",
    "featureScores = pd.concat([dfcolumns,dfscores],axis=1)\n",
    "featureScores.columns = ['Features','Score']  \n",
    "print(featureScores.nlargest(4,'Score'))  "
   ]
  },
  {
   "cell_type": "code",
   "execution_count": 209,
   "id": "db1b663b",
   "metadata": {},
   "outputs": [],
   "source": [
    "xtrainthirddown, xtestthirddown, ytrainthirddown, ytestthirddown = train_test_split(dfthirddownnew, y, test_size=0.2, random_state = 6)"
   ]
  },
  {
   "cell_type": "code",
   "execution_count": 210,
   "id": "704e8540",
   "metadata": {
    "scrolled": true
   },
   "outputs": [
    {
     "data": {
      "text/html": [
       "<table class=\"simpletable\">\n",
       "<caption>OLS Regression Results</caption>\n",
       "<tr>\n",
       "  <th>Dep. Variable:</th>           <td>Win</td>       <th>  R-squared:         </th> <td>   0.529</td> \n",
       "</tr>\n",
       "<tr>\n",
       "  <th>Model:</th>                   <td>OLS</td>       <th>  Adj. R-squared:    </th> <td>   0.526</td> \n",
       "</tr>\n",
       "<tr>\n",
       "  <th>Method:</th>             <td>Least Squares</td>  <th>  F-statistic:       </th> <td>   216.1</td> \n",
       "</tr>\n",
       "<tr>\n",
       "  <th>Date:</th>             <td>Tue, 30 Nov 2021</td> <th>  Prob (F-statistic):</th> <td>2.59e-124</td>\n",
       "</tr>\n",
       "<tr>\n",
       "  <th>Time:</th>                 <td>15:52:56</td>     <th>  Log-Likelihood:    </th> <td> -1713.3</td> \n",
       "</tr>\n",
       "<tr>\n",
       "  <th>No. Observations:</th>      <td>   776</td>      <th>  AIC:               </th> <td>   3437.</td> \n",
       "</tr>\n",
       "<tr>\n",
       "  <th>Df Residuals:</th>          <td>   771</td>      <th>  BIC:               </th> <td>   3460.</td> \n",
       "</tr>\n",
       "<tr>\n",
       "  <th>Df Model:</th>              <td>     4</td>      <th>                     </th>     <td> </td>    \n",
       "</tr>\n",
       "<tr>\n",
       "  <th>Covariance Type:</th>      <td>nonrobust</td>    <th>                     </th>     <td> </td>    \n",
       "</tr>\n",
       "</table>\n",
       "<table class=\"simpletable\">\n",
       "<tr>\n",
       "            <td></td>              <th>coef</th>     <th>std err</th>      <th>t</th>      <th>P>|t|</th>  <th>[0.025</th>    <th>0.975]</th>  \n",
       "</tr>\n",
       "<tr>\n",
       "  <th>const</th>                <td>   11.5813</td> <td>    3.081</td> <td>    3.758</td> <td> 0.000</td> <td>    5.532</td> <td>   17.630</td>\n",
       "</tr>\n",
       "<tr>\n",
       "  <th>X3rd.Down.Rank</th>       <td>   -0.0265</td> <td>    0.008</td> <td>   -3.184</td> <td> 0.002</td> <td>   -0.043</td> <td>   -0.010</td>\n",
       "</tr>\n",
       "<tr>\n",
       "  <th>X3rd.Percent</th>         <td>   11.4587</td> <td>    5.227</td> <td>    2.192</td> <td> 0.029</td> <td>    1.198</td> <td>   21.719</td>\n",
       "</tr>\n",
       "<tr>\n",
       "  <th>X3rd.Down.Def.Rank</th>   <td>   -0.0090</td> <td>    0.008</td> <td>   -1.081</td> <td> 0.280</td> <td>   -0.025</td> <td>    0.007</td>\n",
       "</tr>\n",
       "<tr>\n",
       "  <th>Opponent.3rd.Percent</th> <td>  -19.0562</td> <td>    5.525</td> <td>   -3.449</td> <td> 0.001</td> <td>  -29.903</td> <td>   -8.210</td>\n",
       "</tr>\n",
       "</table>\n",
       "<table class=\"simpletable\">\n",
       "<tr>\n",
       "  <th>Omnibus:</th>       <td> 2.852</td> <th>  Durbin-Watson:     </th> <td>   1.994</td>\n",
       "</tr>\n",
       "<tr>\n",
       "  <th>Prob(Omnibus):</th> <td> 0.240</td> <th>  Jarque-Bera (JB):  </th> <td>   2.846</td>\n",
       "</tr>\n",
       "<tr>\n",
       "  <th>Skew:</th>          <td>-0.116</td> <th>  Prob(JB):          </th> <td>   0.241</td>\n",
       "</tr>\n",
       "<tr>\n",
       "  <th>Kurtosis:</th>      <td> 2.814</td> <th>  Cond. No.          </th> <td>7.68e+03</td>\n",
       "</tr>\n",
       "</table><br/><br/>Notes:<br/>[1] Standard Errors assume that the covariance matrix of the errors is correctly specified.<br/>[2] The condition number is large, 7.68e+03. This might indicate that there are<br/>strong multicollinearity or other numerical problems."
      ],
      "text/plain": [
       "<class 'statsmodels.iolib.summary.Summary'>\n",
       "\"\"\"\n",
       "                            OLS Regression Results                            \n",
       "==============================================================================\n",
       "Dep. Variable:                    Win   R-squared:                       0.529\n",
       "Model:                            OLS   Adj. R-squared:                  0.526\n",
       "Method:                 Least Squares   F-statistic:                     216.1\n",
       "Date:                Tue, 30 Nov 2021   Prob (F-statistic):          2.59e-124\n",
       "Time:                        15:52:56   Log-Likelihood:                -1713.3\n",
       "No. Observations:                 776   AIC:                             3437.\n",
       "Df Residuals:                     771   BIC:                             3460.\n",
       "Df Model:                           4                                         \n",
       "Covariance Type:            nonrobust                                         \n",
       "========================================================================================\n",
       "                           coef    std err          t      P>|t|      [0.025      0.975]\n",
       "----------------------------------------------------------------------------------------\n",
       "const                   11.5813      3.081      3.758      0.000       5.532      17.630\n",
       "X3rd.Down.Rank          -0.0265      0.008     -3.184      0.002      -0.043      -0.010\n",
       "X3rd.Percent            11.4587      5.227      2.192      0.029       1.198      21.719\n",
       "X3rd.Down.Def.Rank      -0.0090      0.008     -1.081      0.280      -0.025       0.007\n",
       "Opponent.3rd.Percent   -19.0562      5.525     -3.449      0.001     -29.903      -8.210\n",
       "==============================================================================\n",
       "Omnibus:                        2.852   Durbin-Watson:                   1.994\n",
       "Prob(Omnibus):                  0.240   Jarque-Bera (JB):                2.846\n",
       "Skew:                          -0.116   Prob(JB):                        0.241\n",
       "Kurtosis:                       2.814   Cond. No.                     7.68e+03\n",
       "==============================================================================\n",
       "\n",
       "Notes:\n",
       "[1] Standard Errors assume that the covariance matrix of the errors is correctly specified.\n",
       "[2] The condition number is large, 7.68e+03. This might indicate that there are\n",
       "strong multicollinearity or other numerical problems.\n",
       "\"\"\""
      ]
     },
     "execution_count": 210,
     "metadata": {},
     "output_type": "execute_result"
    }
   ],
   "source": [
    "xtrainthirddownmodel=sm.add_constant(xtrainthirddown)\n",
    "multipleregthirddown=sm.OLS(ytrainthirddown,xtrainthirddownmodel).fit()\n",
    "multipleregthirddown.summary()"
   ]
  },
  {
   "cell_type": "code",
   "execution_count": 224,
   "id": "d5c8c807",
   "metadata": {},
   "outputs": [],
   "source": [
    "ypredthirddown =multipleregthirddown.predict(sm.add_constant(xtestthirddown))"
   ]
  },
  {
   "cell_type": "code",
   "execution_count": 225,
   "id": "9eb506d3",
   "metadata": {},
   "outputs": [
    {
     "data": {
      "text/plain": [
       "0.533750032388997"
      ]
     },
     "execution_count": 225,
     "metadata": {},
     "output_type": "execute_result"
    }
   ],
   "source": [
    "r2_score(ytestthirddown, ypredthirddown)"
   ]
  },
  {
   "cell_type": "markdown",
   "id": "d2025ff1",
   "metadata": {},
   "source": [
    "Pretty good that test R Squared lines up with our train model R Squared. From this model you can see that the offensive third down statistics (X3rd.Down.Rank and X3rd.Percent) have slightly lower p values overall than the two defensive variables. This along with our selectkbestfunction above with the two highest scores being offensive also leads us to believe that being good offensively on third down may be slightly more important than being good defensively. This also aligns with what we saw earlier for overall offensive and defensive statistics. Coaches may want to focus a bit more on the offense converting a third down to give themselves a better chance to win."
   ]
  },
  {
   "cell_type": "code",
   "execution_count": 227,
   "id": "fd14bcce",
   "metadata": {},
   "outputs": [],
   "source": [
    "from sklearn.cluster import KMeans"
   ]
  },
  {
   "cell_type": "markdown",
   "id": "cbd78837",
   "metadata": {},
   "source": [
    "using dataframe with all columns created earlier to make clusters"
   ]
  },
  {
   "cell_type": "code",
   "execution_count": 299,
   "id": "1fee6bea",
   "metadata": {},
   "outputs": [],
   "source": [
    "kmeans = KMeans(n_clusters=4)\n",
    "kmeans.fit(x1)\n",
    "y_kmeans = kmeans.predict(x1)"
   ]
  },
  {
   "cell_type": "code",
   "execution_count": 300,
   "id": "9f6c494d",
   "metadata": {},
   "outputs": [
    {
     "data": {
      "text/plain": [
       "[3,\n",
       " 1,\n",
       " 1,\n",
       " 2,\n",
       " 3,\n",
       " 1,\n",
       " 1,\n",
       " 2,\n",
       " 2,\n",
       " 2,\n",
       " 3,\n",
       " 2,\n",
       " 1,\n",
       " 2,\n",
       " 2,\n",
       " 3,\n",
       " 2,\n",
       " 2,\n",
       " 3,\n",
       " 2,\n",
       " 2,\n",
       " 3,\n",
       " 3,\n",
       " 1,\n",
       " 3,\n",
       " 2,\n",
       " 2,\n",
       " 1,\n",
       " 2,\n",
       " 3,\n",
       " 3,\n",
       " 2,\n",
       " 1,\n",
       " 3,\n",
       " 3,\n",
       " 1,\n",
       " 3,\n",
       " 3,\n",
       " 3,\n",
       " 1,\n",
       " 3,\n",
       " 1,\n",
       " 1,\n",
       " 2,\n",
       " 1,\n",
       " 3,\n",
       " 3,\n",
       " 2,\n",
       " 3,\n",
       " 3,\n",
       " 1,\n",
       " 1,\n",
       " 1,\n",
       " 1,\n",
       " 2,\n",
       " 1,\n",
       " 3,\n",
       " 1,\n",
       " 3,\n",
       " 2,\n",
       " 1,\n",
       " 2,\n",
       " 3,\n",
       " 1,\n",
       " 3,\n",
       " 2,\n",
       " 1,\n",
       " 2,\n",
       " 2,\n",
       " 2,\n",
       " 2,\n",
       " 1,\n",
       " 3,\n",
       " 3,\n",
       " 1,\n",
       " 3,\n",
       " 2,\n",
       " 1,\n",
       " 1,\n",
       " 3,\n",
       " 1,\n",
       " 3,\n",
       " 1,\n",
       " 1,\n",
       " 3,\n",
       " 3,\n",
       " 3,\n",
       " 1,\n",
       " 2,\n",
       " 3,\n",
       " 2,\n",
       " 1,\n",
       " 2,\n",
       " 3,\n",
       " 3,\n",
       " 3,\n",
       " 2,\n",
       " 2,\n",
       " 3,\n",
       " 1,\n",
       " 3,\n",
       " 3,\n",
       " 3,\n",
       " 1,\n",
       " 3,\n",
       " 2,\n",
       " 2,\n",
       " 3,\n",
       " 1,\n",
       " 3,\n",
       " 1,\n",
       " 3,\n",
       " 2,\n",
       " 2,\n",
       " 2,\n",
       " 1,\n",
       " 2,\n",
       " 1,\n",
       " 2,\n",
       " 3,\n",
       " 2,\n",
       " 1,\n",
       " 2,\n",
       " 1,\n",
       " 2,\n",
       " 2,\n",
       " 1,\n",
       " 2,\n",
       " 1,\n",
       " 2,\n",
       " 1,\n",
       " 2,\n",
       " 3,\n",
       " 3,\n",
       " 3,\n",
       " 1,\n",
       " 2,\n",
       " 1,\n",
       " 3,\n",
       " 2,\n",
       " 1,\n",
       " 3,\n",
       " 3,\n",
       " 1,\n",
       " 1,\n",
       " 3,\n",
       " 3,\n",
       " 2,\n",
       " 3,\n",
       " 3,\n",
       " 3,\n",
       " 1,\n",
       " 2,\n",
       " 1,\n",
       " 1,\n",
       " 2,\n",
       " 3,\n",
       " 3,\n",
       " 1,\n",
       " 1,\n",
       " 3,\n",
       " 1,\n",
       " 1,\n",
       " 1,\n",
       " 1,\n",
       " 2,\n",
       " 1,\n",
       " 1,\n",
       " 1,\n",
       " 1,\n",
       " 3,\n",
       " 2,\n",
       " 3,\n",
       " 2,\n",
       " 3,\n",
       " 2,\n",
       " 3,\n",
       " 2,\n",
       " 1,\n",
       " 3,\n",
       " 1,\n",
       " 2,\n",
       " 3,\n",
       " 1,\n",
       " 1,\n",
       " 3,\n",
       " 1,\n",
       " 3,\n",
       " 3,\n",
       " 3,\n",
       " 2,\n",
       " 3,\n",
       " 2,\n",
       " 3,\n",
       " 1,\n",
       " 3,\n",
       " 2,\n",
       " 3,\n",
       " 3,\n",
       " 3,\n",
       " 2,\n",
       " 1,\n",
       " 2,\n",
       " 2,\n",
       " 3,\n",
       " 3,\n",
       " 3,\n",
       " 1,\n",
       " 1,\n",
       " 2,\n",
       " 3,\n",
       " 1,\n",
       " 1,\n",
       " 3,\n",
       " 3,\n",
       " 1,\n",
       " 1,\n",
       " 3,\n",
       " 2,\n",
       " 2,\n",
       " 2,\n",
       " 2,\n",
       " 2,\n",
       " 1,\n",
       " 1,\n",
       " 1,\n",
       " 1,\n",
       " 2,\n",
       " 2,\n",
       " 2,\n",
       " 2,\n",
       " 1,\n",
       " 3,\n",
       " 3,\n",
       " 2,\n",
       " 0,\n",
       " 2,\n",
       " 3,\n",
       " 2,\n",
       " 2,\n",
       " 1,\n",
       " 2,\n",
       " 2,\n",
       " 3,\n",
       " 2,\n",
       " 3,\n",
       " 3,\n",
       " 3,\n",
       " 3,\n",
       " 1,\n",
       " 1,\n",
       " 1,\n",
       " 1,\n",
       " 2,\n",
       " 1,\n",
       " 2,\n",
       " 3,\n",
       " 3,\n",
       " 2,\n",
       " 1,\n",
       " 3,\n",
       " 3,\n",
       " 3,\n",
       " 3,\n",
       " 3,\n",
       " 3,\n",
       " 3,\n",
       " 2,\n",
       " 1,\n",
       " 1,\n",
       " 1,\n",
       " 3,\n",
       " 3,\n",
       " 2,\n",
       " 3,\n",
       " 3,\n",
       " 1,\n",
       " 1,\n",
       " 2,\n",
       " 3,\n",
       " 2,\n",
       " 0,\n",
       " 1,\n",
       " 1,\n",
       " 2,\n",
       " 3,\n",
       " 2,\n",
       " 3,\n",
       " 2,\n",
       " 1,\n",
       " 2,\n",
       " 1,\n",
       " 1,\n",
       " 2,\n",
       " 2,\n",
       " 3,\n",
       " 2,\n",
       " 2,\n",
       " 3,\n",
       " 3,\n",
       " 1,\n",
       " 3,\n",
       " 3,\n",
       " 3,\n",
       " 3,\n",
       " 3,\n",
       " 3,\n",
       " 1,\n",
       " 2,\n",
       " 2,\n",
       " 2,\n",
       " 3,\n",
       " 2,\n",
       " 1,\n",
       " 1,\n",
       " 3,\n",
       " 1,\n",
       " 3,\n",
       " 2,\n",
       " 1,\n",
       " 3,\n",
       " 3,\n",
       " 2,\n",
       " 3,\n",
       " 2,\n",
       " 3,\n",
       " 1,\n",
       " 3,\n",
       " 3,\n",
       " 3,\n",
       " 3,\n",
       " 1,\n",
       " 3,\n",
       " 1,\n",
       " 2,\n",
       " 2,\n",
       " 2,\n",
       " 2,\n",
       " 1,\n",
       " 3,\n",
       " 1,\n",
       " 1,\n",
       " 3,\n",
       " 3,\n",
       " 2,\n",
       " 1,\n",
       " 1,\n",
       " 1,\n",
       " 1,\n",
       " 2,\n",
       " 3,\n",
       " 3,\n",
       " 3,\n",
       " 1,\n",
       " 2,\n",
       " 3,\n",
       " 3,\n",
       " 3,\n",
       " 2,\n",
       " 2,\n",
       " 3,\n",
       " 2,\n",
       " 2,\n",
       " 3,\n",
       " 3,\n",
       " 1,\n",
       " 1,\n",
       " 1,\n",
       " 1,\n",
       " 3,\n",
       " 1,\n",
       " 1,\n",
       " 2,\n",
       " 3,\n",
       " 2,\n",
       " 3,\n",
       " 3,\n",
       " 3,\n",
       " 1,\n",
       " 3,\n",
       " 1,\n",
       " 3,\n",
       " 1,\n",
       " 2,\n",
       " 2,\n",
       " 1,\n",
       " 3,\n",
       " 3,\n",
       " 3,\n",
       " 2,\n",
       " 1,\n",
       " 3,\n",
       " 1,\n",
       " 1,\n",
       " 2,\n",
       " 1,\n",
       " 2,\n",
       " 2,\n",
       " 1,\n",
       " 1,\n",
       " 1,\n",
       " 3,\n",
       " 2,\n",
       " 3,\n",
       " 1,\n",
       " 1,\n",
       " 1,\n",
       " 1,\n",
       " 1,\n",
       " 2,\n",
       " 2,\n",
       " 1,\n",
       " 2,\n",
       " 2,\n",
       " 3,\n",
       " 2,\n",
       " 2,\n",
       " 3,\n",
       " 3,\n",
       " 3,\n",
       " 3,\n",
       " 3,\n",
       " 3,\n",
       " 2,\n",
       " 2,\n",
       " 2,\n",
       " 1,\n",
       " 2,\n",
       " 2,\n",
       " 1,\n",
       " 2,\n",
       " 2,\n",
       " 2,\n",
       " 3,\n",
       " 2,\n",
       " 2,\n",
       " 1,\n",
       " 1,\n",
       " 2,\n",
       " 3,\n",
       " 3,\n",
       " 3,\n",
       " 1,\n",
       " 3,\n",
       " 3,\n",
       " 3,\n",
       " 3,\n",
       " 2,\n",
       " 3,\n",
       " 2,\n",
       " 2,\n",
       " 2,\n",
       " 2,\n",
       " 2,\n",
       " 1,\n",
       " 1,\n",
       " 3,\n",
       " 1,\n",
       " 1,\n",
       " 2,\n",
       " 2,\n",
       " 3,\n",
       " 2,\n",
       " 1,\n",
       " 1,\n",
       " 3,\n",
       " 3,\n",
       " 2,\n",
       " 1,\n",
       " 3,\n",
       " 3,\n",
       " 3,\n",
       " 3,\n",
       " 3,\n",
       " 3,\n",
       " 3,\n",
       " 1,\n",
       " 3,\n",
       " 2,\n",
       " 1,\n",
       " 2,\n",
       " 3,\n",
       " 3,\n",
       " 2,\n",
       " 3,\n",
       " 1,\n",
       " 1,\n",
       " 3,\n",
       " 1,\n",
       " 3,\n",
       " 1,\n",
       " 3,\n",
       " 1,\n",
       " 3,\n",
       " 3,\n",
       " 1,\n",
       " 3,\n",
       " 3,\n",
       " 3,\n",
       " 1,\n",
       " 3,\n",
       " 3,\n",
       " 2,\n",
       " 3,\n",
       " 1,\n",
       " 2,\n",
       " 1,\n",
       " 1,\n",
       " 3,\n",
       " 3,\n",
       " 2,\n",
       " 1,\n",
       " 3,\n",
       " 1,\n",
       " 1,\n",
       " 1,\n",
       " 3,\n",
       " 1,\n",
       " 2,\n",
       " 1,\n",
       " 2,\n",
       " 3,\n",
       " 3,\n",
       " 1,\n",
       " 2,\n",
       " 3,\n",
       " 2,\n",
       " 1,\n",
       " 1,\n",
       " 1,\n",
       " 1,\n",
       " 2,\n",
       " 2,\n",
       " 2,\n",
       " 3,\n",
       " 2,\n",
       " 1,\n",
       " 3,\n",
       " 1,\n",
       " 3,\n",
       " 1,\n",
       " 3,\n",
       " 3,\n",
       " 1,\n",
       " 3,\n",
       " 2,\n",
       " 3,\n",
       " 3,\n",
       " 1,\n",
       " 2,\n",
       " 1,\n",
       " 1,\n",
       " 2,\n",
       " 1,\n",
       " 3,\n",
       " 3,\n",
       " 1,\n",
       " 2,\n",
       " 3,\n",
       " 2,\n",
       " 2,\n",
       " 1,\n",
       " 3,\n",
       " 3,\n",
       " 1,\n",
       " 2,\n",
       " 2,\n",
       " 3,\n",
       " 1,\n",
       " 1,\n",
       " 3,\n",
       " 3,\n",
       " 1,\n",
       " 3,\n",
       " 3,\n",
       " 1,\n",
       " 2,\n",
       " 1,\n",
       " 2,\n",
       " 2,\n",
       " 3,\n",
       " 1,\n",
       " 1,\n",
       " 3,\n",
       " 1,\n",
       " 3,\n",
       " 2,\n",
       " 1,\n",
       " 1,\n",
       " 1,\n",
       " 3,\n",
       " 2,\n",
       " 1,\n",
       " 1,\n",
       " 3,\n",
       " 2,\n",
       " 2,\n",
       " 1,\n",
       " 3,\n",
       " 1,\n",
       " 1,\n",
       " 1,\n",
       " 3,\n",
       " 1,\n",
       " 1,\n",
       " 2,\n",
       " 3,\n",
       " 3,\n",
       " 3,\n",
       " 3,\n",
       " 3,\n",
       " 3,\n",
       " 1,\n",
       " 1,\n",
       " 1,\n",
       " 3,\n",
       " 2,\n",
       " 1,\n",
       " 1,\n",
       " 3,\n",
       " 1,\n",
       " 2,\n",
       " 2,\n",
       " 3,\n",
       " 3,\n",
       " 1,\n",
       " 1,\n",
       " 3,\n",
       " 3,\n",
       " 3,\n",
       " 1,\n",
       " 3,\n",
       " 2,\n",
       " 1,\n",
       " 3,\n",
       " 1,\n",
       " 1,\n",
       " 1,\n",
       " 3,\n",
       " 2,\n",
       " 1,\n",
       " 3,\n",
       " 1,\n",
       " 1,\n",
       " 2,\n",
       " 1,\n",
       " 1,\n",
       " 2,\n",
       " 1,\n",
       " 2,\n",
       " 1,\n",
       " 2,\n",
       " 3,\n",
       " 3,\n",
       " 3,\n",
       " 2,\n",
       " 1,\n",
       " 3,\n",
       " 1,\n",
       " 1,\n",
       " 2,\n",
       " 2,\n",
       " 2,\n",
       " 3,\n",
       " 2,\n",
       " 1,\n",
       " 3,\n",
       " 1,\n",
       " 1,\n",
       " 2,\n",
       " 3,\n",
       " 3,\n",
       " 1,\n",
       " 3,\n",
       " 3,\n",
       " 3,\n",
       " 2,\n",
       " 2,\n",
       " 3,\n",
       " 0,\n",
       " 3,\n",
       " 2,\n",
       " 1,\n",
       " 1,\n",
       " 3,\n",
       " 2,\n",
       " 1,\n",
       " 3,\n",
       " 2,\n",
       " 2,\n",
       " 1,\n",
       " 1,\n",
       " 3,\n",
       " 1,\n",
       " 2,\n",
       " 3,\n",
       " 3,\n",
       " 3,\n",
       " 1,\n",
       " 2,\n",
       " 3,\n",
       " 3,\n",
       " 2,\n",
       " 1,\n",
       " 2,\n",
       " 2,\n",
       " 1,\n",
       " 2,\n",
       " 2,\n",
       " 3,\n",
       " 1,\n",
       " 1,\n",
       " 1,\n",
       " 1,\n",
       " 3,\n",
       " 2,\n",
       " 1,\n",
       " 2,\n",
       " 3,\n",
       " 3,\n",
       " 2,\n",
       " 1,\n",
       " 1,\n",
       " 1,\n",
       " 2,\n",
       " 2,\n",
       " 2,\n",
       " 3,\n",
       " 1,\n",
       " 2,\n",
       " 3,\n",
       " 2,\n",
       " 1,\n",
       " 1,\n",
       " 2,\n",
       " 1,\n",
       " 3,\n",
       " 1,\n",
       " 3,\n",
       " 3,\n",
       " 2,\n",
       " 3,\n",
       " 2,\n",
       " 1,\n",
       " 2,\n",
       " 3,\n",
       " 1,\n",
       " 1,\n",
       " 2,\n",
       " 3,\n",
       " 2,\n",
       " 3,\n",
       " 3,\n",
       " 2,\n",
       " 1,\n",
       " 2,\n",
       " 3,\n",
       " 1,\n",
       " 3,\n",
       " 1,\n",
       " 2,\n",
       " 2,\n",
       " 2,\n",
       " 2,\n",
       " 2,\n",
       " 2,\n",
       " 1,\n",
       " 3,\n",
       " 3,\n",
       " 2,\n",
       " 1,\n",
       " 3,\n",
       " 1,\n",
       " 1,\n",
       " 3,\n",
       " 1,\n",
       " 1,\n",
       " 1,\n",
       " 1,\n",
       " 3,\n",
       " 1,\n",
       " 3,\n",
       " 3,\n",
       " 3,\n",
       " 2,\n",
       " 3,\n",
       " 3,\n",
       " 3,\n",
       " 1,\n",
       " 1,\n",
       " 2,\n",
       " 2,\n",
       " 2,\n",
       " 3,\n",
       " 1,\n",
       " 2,\n",
       " 3,\n",
       " 1,\n",
       " 1,\n",
       " 3,\n",
       " 3,\n",
       " 3,\n",
       " 1,\n",
       " 3,\n",
       " 2,\n",
       " 3,\n",
       " 3,\n",
       " 3,\n",
       " 2,\n",
       " 1,\n",
       " 3,\n",
       " 3,\n",
       " 1,\n",
       " 3,\n",
       " 1,\n",
       " 2,\n",
       " 1,\n",
       " 3,\n",
       " 2,\n",
       " 3,\n",
       " 2,\n",
       " 1,\n",
       " 3,\n",
       " 1,\n",
       " 2,\n",
       " 3,\n",
       " 3,\n",
       " 3,\n",
       " 1,\n",
       " 2,\n",
       " 3,\n",
       " 3,\n",
       " 3,\n",
       " 2,\n",
       " 1,\n",
       " 2,\n",
       " 1,\n",
       " 2,\n",
       " 3,\n",
       " 1,\n",
       " 2,\n",
       " 1,\n",
       " 1,\n",
       " 0,\n",
       " 0,\n",
       " 1,\n",
       " 1,\n",
       " 0,\n",
       " 0,\n",
       " 3,\n",
       " 2,\n",
       " 0,\n",
       " 3,\n",
       " 0,\n",
       " 0,\n",
       " 0,\n",
       " 3,\n",
       " 0,\n",
       " 0,\n",
       " 1,\n",
       " 0,\n",
       " 0,\n",
       " 0,\n",
       " 0,\n",
       " 1,\n",
       " 1,\n",
       " 0,\n",
       " 0,\n",
       " 3,\n",
       " 3,\n",
       " 0,\n",
       " 0,\n",
       " 0,\n",
       " 2,\n",
       " 3,\n",
       " 0,\n",
       " 1,\n",
       " 0,\n",
       " 3,\n",
       " 3,\n",
       " 0,\n",
       " 0,\n",
       " 0,\n",
       " 0,\n",
       " 0,\n",
       " 1,\n",
       " 0,\n",
       " 3,\n",
       " 0,\n",
       " 0,\n",
       " 1,\n",
       " 1,\n",
       " 3,\n",
       " 1,\n",
       " 3,\n",
       " 0,\n",
       " 0,\n",
       " 0,\n",
       " 3,\n",
       " 3,\n",
       " 0,\n",
       " 0,\n",
       " 0,\n",
       " 0,\n",
       " 0,\n",
       " 3,\n",
       " 3,\n",
       " 0,\n",
       " 3,\n",
       " 0,\n",
       " 0,\n",
       " 0,\n",
       " 1,\n",
       " 3,\n",
       " 0,\n",
       " 0,\n",
       " 1,\n",
       " 0,\n",
       " 0,\n",
       " 1,\n",
       " 1,\n",
       " 1,\n",
       " 0,\n",
       " 0,\n",
       " 0,\n",
       " 1,\n",
       " 0,\n",
       " 0,\n",
       " 0,\n",
       " 0,\n",
       " 0,\n",
       " 1,\n",
       " 3,\n",
       " 3,\n",
       " 0,\n",
       " 0,\n",
       " 3,\n",
       " 0,\n",
       " 3,\n",
       " 1,\n",
       " 0,\n",
       " 3,\n",
       " 1,\n",
       " 0,\n",
       " 3,\n",
       " 3,\n",
       " 0,\n",
       " 3,\n",
       " 1,\n",
       " 0,\n",
       " 0,\n",
       " 2,\n",
       " 0,\n",
       " 3,\n",
       " 0,\n",
       " 0,\n",
       " 0,\n",
       " 0,\n",
       " 1,\n",
       " 3,\n",
       " 3,\n",
       " 1,\n",
       " 0,\n",
       " 0,\n",
       " 0,\n",
       " 0,\n",
       " 0,\n",
       " 0,\n",
       " 0,\n",
       " 0]"
      ]
     },
     "execution_count": 300,
     "metadata": {},
     "output_type": "execute_result"
    }
   ],
   "source": [
    "list(y_kmeans)"
   ]
  },
  {
   "cell_type": "code",
   "execution_count": 301,
   "id": "2883ddb7",
   "metadata": {},
   "outputs": [],
   "source": [
    "centers = kmeans.cluster_centers_"
   ]
  },
  {
   "cell_type": "code",
   "execution_count": 302,
   "id": "0ebb0621",
   "metadata": {},
   "outputs": [
    {
     "data": {
      "text/plain": [
       "array([3, 1, 1, 2, 3, 1, 1, 2, 2, 2, 3, 2, 1, 2, 2, 3, 2, 2, 3, 2, 2, 3,\n",
       "       3, 1, 3, 2, 2, 1, 2, 3, 3, 2, 1, 3, 3, 1, 3, 3, 3, 1, 3, 1, 1, 2,\n",
       "       1, 3, 3, 2, 3, 3, 1, 1, 1, 1, 2, 1, 3, 1, 3, 2, 1, 2, 3, 1, 3, 2,\n",
       "       1, 2, 2, 2, 2, 1, 3, 3, 1, 3, 2, 1, 1, 3, 1, 3, 1, 1, 3, 3, 3, 1,\n",
       "       2, 3, 2, 1, 2, 3, 3, 3, 2, 2, 3, 1, 3, 3, 3, 1, 3, 2, 2, 3, 1, 3,\n",
       "       1, 3, 2, 2, 2, 1, 2, 1, 2, 3, 2, 1, 2, 1, 2, 2, 1, 2, 1, 2, 1, 2,\n",
       "       3, 3, 3, 1, 2, 1, 3, 2, 1, 3, 3, 1, 1, 3, 3, 2, 3, 3, 3, 1, 2, 1,\n",
       "       1, 2, 3, 3, 1, 1, 3, 1, 1, 1, 1, 2, 1, 1, 1, 1, 3, 2, 3, 2, 3, 2,\n",
       "       3, 2, 1, 3, 1, 2, 3, 1, 1, 3, 1, 3, 3, 3, 2, 3, 2, 3, 1, 3, 2, 3,\n",
       "       3, 3, 2, 1, 2, 2, 3, 3, 3, 1, 1, 2, 3, 1, 1, 3, 3, 1, 1, 3, 2, 2,\n",
       "       2, 2, 2, 1, 1, 1, 1, 2, 2, 2, 2, 1, 3, 3, 2, 0, 2, 3, 2, 2, 1, 2,\n",
       "       2, 3, 2, 3, 3, 3, 3, 1, 1, 1, 1, 2, 1, 2, 3, 3, 2, 1, 3, 3, 3, 3,\n",
       "       3, 3, 3, 2, 1, 1, 1, 3, 3, 2, 3, 3, 1, 1, 2, 3, 2, 0, 1, 1, 2, 3,\n",
       "       2, 3, 2, 1, 2, 1, 1, 2, 2, 3, 2, 2, 3, 3, 1, 3, 3, 3, 3, 3, 3, 1,\n",
       "       2, 2, 2, 3, 2, 1, 1, 3, 1, 3, 2, 1, 3, 3, 2, 3, 2, 3, 1, 3, 3, 3,\n",
       "       3, 1, 3, 1, 2, 2, 2, 2, 1, 3, 1, 1, 3, 3, 2, 1, 1, 1, 1, 2, 3, 3,\n",
       "       3, 1, 2, 3, 3, 3, 2, 2, 3, 2, 2, 3, 3, 1, 1, 1, 1, 3, 1, 1, 2, 3,\n",
       "       2, 3, 3, 3, 1, 3, 1, 3, 1, 2, 2, 1, 3, 3, 3, 2, 1, 3, 1, 1, 2, 1,\n",
       "       2, 2, 1, 1, 1, 3, 2, 3, 1, 1, 1, 1, 1, 2, 2, 1, 2, 2, 3, 2, 2, 3,\n",
       "       3, 3, 3, 3, 3, 2, 2, 2, 1, 2, 2, 1, 2, 2, 2, 3, 2, 2, 1, 1, 2, 3,\n",
       "       3, 3, 1, 3, 3, 3, 3, 2, 3, 2, 2, 2, 2, 2, 1, 1, 3, 1, 1, 2, 2, 3,\n",
       "       2, 1, 1, 3, 3, 2, 1, 3, 3, 3, 3, 3, 3, 3, 1, 3, 2, 1, 2, 3, 3, 2,\n",
       "       3, 1, 1, 3, 1, 3, 1, 3, 1, 3, 3, 1, 3, 3, 3, 1, 3, 3, 2, 3, 1, 2,\n",
       "       1, 1, 3, 3, 2, 1, 3, 1, 1, 1, 3, 1, 2, 1, 2, 3, 3, 1, 2, 3, 2, 1,\n",
       "       1, 1, 1, 2, 2, 2, 3, 2, 1, 3, 1, 3, 1, 3, 3, 1, 3, 2, 3, 3, 1, 2,\n",
       "       1, 1, 2, 1, 3, 3, 1, 2, 3, 2, 2, 1, 3, 3, 1, 2, 2, 3, 1, 1, 3, 3,\n",
       "       1, 3, 3, 1, 2, 1, 2, 2, 3, 1, 1, 3, 1, 3, 2, 1, 1, 1, 3, 2, 1, 1,\n",
       "       3, 2, 2, 1, 3, 1, 1, 1, 3, 1, 1, 2, 3, 3, 3, 3, 3, 3, 1, 1, 1, 3,\n",
       "       2, 1, 1, 3, 1, 2, 2, 3, 3, 1, 1, 3, 3, 3, 1, 3, 2, 1, 3, 1, 1, 1,\n",
       "       3, 2, 1, 3, 1, 1, 2, 1, 1, 2, 1, 2, 1, 2, 3, 3, 3, 2, 1, 3, 1, 1,\n",
       "       2, 2, 2, 3, 2, 1, 3, 1, 1, 2, 3, 3, 1, 3, 3, 3, 2, 2, 3, 0, 3, 2,\n",
       "       1, 1, 3, 2, 1, 3, 2, 2, 1, 1, 3, 1, 2, 3, 3, 3, 1, 2, 3, 3, 2, 1,\n",
       "       2, 2, 1, 2, 2, 3, 1, 1, 1, 1, 3, 2, 1, 2, 3, 3, 2, 1, 1, 1, 2, 2,\n",
       "       2, 3, 1, 2, 3, 2, 1, 1, 2, 1, 3, 1, 3, 3, 2, 3, 2, 1, 2, 3, 1, 1,\n",
       "       2, 3, 2, 3, 3, 2, 1, 2, 3, 1, 3, 1, 2, 2, 2, 2, 2, 2, 1, 3, 3, 2,\n",
       "       1, 3, 1, 1, 3, 1, 1, 1, 1, 3, 1, 3, 3, 3, 2, 3, 3, 3, 1, 1, 2, 2,\n",
       "       2, 3, 1, 2, 3, 1, 1, 3, 3, 3, 1, 3, 2, 3, 3, 3, 2, 1, 3, 3, 1, 3,\n",
       "       1, 2, 1, 3, 2, 3, 2, 1, 3, 1, 2, 3, 3, 3, 1, 2, 3, 3, 3, 2, 1, 2,\n",
       "       1, 2, 3, 1, 2, 1, 1, 0, 0, 1, 1, 0, 0, 3, 2, 0, 3, 0, 0, 0, 3, 0,\n",
       "       0, 1, 0, 0, 0, 0, 1, 1, 0, 0, 3, 3, 0, 0, 0, 2, 3, 0, 1, 0, 3, 3,\n",
       "       0, 0, 0, 0, 0, 1, 0, 3, 0, 0, 1, 1, 3, 1, 3, 0, 0, 0, 3, 3, 0, 0,\n",
       "       0, 0, 0, 3, 3, 0, 3, 0, 0, 0, 1, 3, 0, 0, 1, 0, 0, 1, 1, 1, 0, 0,\n",
       "       0, 1, 0, 0, 0, 0, 0, 1, 3, 3, 0, 0, 3, 0, 3, 1, 0, 3, 1, 0, 3, 3,\n",
       "       0, 3, 1, 0, 0, 2, 0, 3, 0, 0, 0, 0, 1, 3, 3, 1, 0, 0, 0, 0, 0, 0,\n",
       "       0, 0], dtype=int32)"
      ]
     },
     "execution_count": 302,
     "metadata": {},
     "output_type": "execute_result"
    }
   ],
   "source": [
    "y_kmeans"
   ]
  },
  {
   "cell_type": "code",
   "execution_count": 303,
   "id": "9d81bda5",
   "metadata": {},
   "outputs": [
    {
     "data": {
      "text/html": [
       "<div>\n",
       "<style scoped>\n",
       "    .dataframe tbody tr th:only-of-type {\n",
       "        vertical-align: middle;\n",
       "    }\n",
       "\n",
       "    .dataframe tbody tr th {\n",
       "        vertical-align: top;\n",
       "    }\n",
       "\n",
       "    .dataframe thead th {\n",
       "        text-align: right;\n",
       "    }\n",
       "</style>\n",
       "<table border=\"1\" class=\"dataframe\">\n",
       "  <thead>\n",
       "    <tr style=\"text-align: right;\">\n",
       "      <th></th>\n",
       "      <th>Team</th>\n",
       "      <th>Games</th>\n",
       "      <th>Win</th>\n",
       "      <th>Loss</th>\n",
       "      <th>Off.Rank</th>\n",
       "      <th>Off.Plays</th>\n",
       "      <th>Off.Yards</th>\n",
       "      <th>Off.Yards.Play</th>\n",
       "      <th>Off.TDs</th>\n",
       "      <th>Total.TDs</th>\n",
       "      <th>...</th>\n",
       "      <th>Fumbles.Recovered</th>\n",
       "      <th>Opponents.Intercepted</th>\n",
       "      <th>Turnovers.Gain</th>\n",
       "      <th>Fumbles.Lost</th>\n",
       "      <th>Interceptions.Thrown.y</th>\n",
       "      <th>Turnovers.Lost</th>\n",
       "      <th>Turnover.Margin</th>\n",
       "      <th>Avg.Turnover.Margin.per.Game</th>\n",
       "      <th>Year</th>\n",
       "      <th>Clusters</th>\n",
       "    </tr>\n",
       "  </thead>\n",
       "  <tbody>\n",
       "    <tr>\n",
       "      <th>0</th>\n",
       "      <td>Akron (MAC)</td>\n",
       "      <td>12</td>\n",
       "      <td>5</td>\n",
       "      <td>7</td>\n",
       "      <td>106</td>\n",
       "      <td>837</td>\n",
       "      <td>4104</td>\n",
       "      <td>4.90</td>\n",
       "      <td>30</td>\n",
       "      <td>31.0</td>\n",
       "      <td>...</td>\n",
       "      <td>6</td>\n",
       "      <td>13</td>\n",
       "      <td>19</td>\n",
       "      <td>11</td>\n",
       "      <td>10</td>\n",
       "      <td>21</td>\n",
       "      <td>-2</td>\n",
       "      <td>-0.17</td>\n",
       "      <td>2013</td>\n",
       "      <td>3</td>\n",
       "    </tr>\n",
       "    <tr>\n",
       "      <th>1</th>\n",
       "      <td>Alabama (SEC)</td>\n",
       "      <td>13</td>\n",
       "      <td>11</td>\n",
       "      <td>2</td>\n",
       "      <td>33</td>\n",
       "      <td>826</td>\n",
       "      <td>5903</td>\n",
       "      <td>7.15</td>\n",
       "      <td>58</td>\n",
       "      <td>65.0</td>\n",
       "      <td>...</td>\n",
       "      <td>8</td>\n",
       "      <td>11</td>\n",
       "      <td>19</td>\n",
       "      <td>10</td>\n",
       "      <td>7</td>\n",
       "      <td>17</td>\n",
       "      <td>2</td>\n",
       "      <td>0.15</td>\n",
       "      <td>2013</td>\n",
       "      <td>1</td>\n",
       "    </tr>\n",
       "    <tr>\n",
       "      <th>2</th>\n",
       "      <td>Arizona (Pac-12)</td>\n",
       "      <td>13</td>\n",
       "      <td>8</td>\n",
       "      <td>5</td>\n",
       "      <td>31</td>\n",
       "      <td>1030</td>\n",
       "      <td>5960</td>\n",
       "      <td>5.79</td>\n",
       "      <td>52</td>\n",
       "      <td>57.0</td>\n",
       "      <td>...</td>\n",
       "      <td>4</td>\n",
       "      <td>18</td>\n",
       "      <td>22</td>\n",
       "      <td>11</td>\n",
       "      <td>7</td>\n",
       "      <td>18</td>\n",
       "      <td>4</td>\n",
       "      <td>0.31</td>\n",
       "      <td>2013</td>\n",
       "      <td>1</td>\n",
       "    </tr>\n",
       "  </tbody>\n",
       "</table>\n",
       "<p>3 rows × 148 columns</p>\n",
       "</div>"
      ],
      "text/plain": [
       "               Team  Games  Win  Loss  Off.Rank  Off.Plays  Off.Yards  \\\n",
       "0       Akron (MAC)     12    5     7       106        837       4104   \n",
       "1     Alabama (SEC)     13   11     2        33        826       5903   \n",
       "2  Arizona (Pac-12)     13    8     5        31       1030       5960   \n",
       "\n",
       "   Off.Yards.Play  Off.TDs  Total.TDs  ...  Fumbles.Recovered  \\\n",
       "0            4.90       30       31.0  ...                  6   \n",
       "1            7.15       58       65.0  ...                  8   \n",
       "2            5.79       52       57.0  ...                  4   \n",
       "\n",
       "   Opponents.Intercepted  Turnovers.Gain  Fumbles.Lost  \\\n",
       "0                     13              19            11   \n",
       "1                     11              19            10   \n",
       "2                     18              22            11   \n",
       "\n",
       "   Interceptions.Thrown.y  Turnovers.Lost  Turnover.Margin  \\\n",
       "0                      10              21               -2   \n",
       "1                       7              17                2   \n",
       "2                       7              18                4   \n",
       "\n",
       "   Avg.Turnover.Margin.per.Game  Year  Clusters  \n",
       "0                         -0.17  2013         3  \n",
       "1                          0.15  2013         1  \n",
       "2                          0.31  2013         1  \n",
       "\n",
       "[3 rows x 148 columns]"
      ]
     },
     "execution_count": 303,
     "metadata": {},
     "output_type": "execute_result"
    }
   ],
   "source": [
    "dfreal['Clusters'] = y_kmeans.tolist()\n",
    "dfreal.head(3)"
   ]
  },
  {
   "cell_type": "code",
   "execution_count": 304,
   "id": "449aea56",
   "metadata": {},
   "outputs": [
    {
     "data": {
      "text/plain": [
       "3    341\n",
       "1    304\n",
       "2    248\n",
       "0     77\n",
       "Name: Clusters, dtype: int64"
      ]
     },
     "execution_count": 304,
     "metadata": {},
     "output_type": "execute_result"
    }
   ],
   "source": [
    "dfreal['Clusters'].value_counts()"
   ]
  },
  {
   "cell_type": "code",
   "execution_count": 305,
   "id": "e465514f",
   "metadata": {},
   "outputs": [
    {
     "data": {
      "text/html": [
       "<div>\n",
       "<style scoped>\n",
       "    .dataframe tbody tr th:only-of-type {\n",
       "        vertical-align: middle;\n",
       "    }\n",
       "\n",
       "    .dataframe tbody tr th {\n",
       "        vertical-align: top;\n",
       "    }\n",
       "\n",
       "    .dataframe thead th {\n",
       "        text-align: right;\n",
       "    }\n",
       "</style>\n",
       "<table border=\"1\" class=\"dataframe\">\n",
       "  <thead>\n",
       "    <tr style=\"text-align: right;\">\n",
       "      <th></th>\n",
       "      <th>Team</th>\n",
       "      <th>Games</th>\n",
       "      <th>Win</th>\n",
       "      <th>Loss</th>\n",
       "      <th>Off.Rank</th>\n",
       "      <th>Off.Plays</th>\n",
       "      <th>Off.Yards</th>\n",
       "      <th>Off.Yards.Play</th>\n",
       "      <th>Off.TDs</th>\n",
       "      <th>Total.TDs</th>\n",
       "      <th>...</th>\n",
       "      <th>Fumbles.Recovered</th>\n",
       "      <th>Opponents.Intercepted</th>\n",
       "      <th>Turnovers.Gain</th>\n",
       "      <th>Fumbles.Lost</th>\n",
       "      <th>Interceptions.Thrown.y</th>\n",
       "      <th>Turnovers.Lost</th>\n",
       "      <th>Turnover.Margin</th>\n",
       "      <th>Avg.Turnover.Margin.per.Game</th>\n",
       "      <th>Year</th>\n",
       "      <th>Clusters</th>\n",
       "    </tr>\n",
       "  </thead>\n",
       "  <tbody>\n",
       "    <tr>\n",
       "      <th>235</th>\n",
       "      <td>Boston College (ACC)</td>\n",
       "      <td>12</td>\n",
       "      <td>3</td>\n",
       "      <td>9</td>\n",
       "      <td>125</td>\n",
       "      <td>751</td>\n",
       "      <td>3307</td>\n",
       "      <td>4.4</td>\n",
       "      <td>25</td>\n",
       "      <td>19.0</td>\n",
       "      <td>...</td>\n",
       "      <td>10</td>\n",
       "      <td>13</td>\n",
       "      <td>23</td>\n",
       "      <td>11</td>\n",
       "      <td>9</td>\n",
       "      <td>20</td>\n",
       "      <td>3</td>\n",
       "      <td>0.25</td>\n",
       "      <td>2015</td>\n",
       "      <td>0</td>\n",
       "    </tr>\n",
       "  </tbody>\n",
       "</table>\n",
       "<p>1 rows × 148 columns</p>\n",
       "</div>"
      ],
      "text/plain": [
       "                     Team  Games  Win  Loss  Off.Rank  Off.Plays  Off.Yards  \\\n",
       "235  Boston College (ACC)     12    3     9       125        751       3307   \n",
       "\n",
       "     Off.Yards.Play  Off.TDs  Total.TDs  ...  Fumbles.Recovered  \\\n",
       "235             4.4       25       19.0  ...                 10   \n",
       "\n",
       "     Opponents.Intercepted  Turnovers.Gain  Fumbles.Lost  \\\n",
       "235                     13              23            11   \n",
       "\n",
       "     Interceptions.Thrown.y  Turnovers.Lost  Turnover.Margin  \\\n",
       "235                       9              20                3   \n",
       "\n",
       "     Avg.Turnover.Margin.per.Game  Year  Clusters  \n",
       "235                          0.25  2015         0  \n",
       "\n",
       "[1 rows x 148 columns]"
      ]
     },
     "execution_count": 305,
     "metadata": {},
     "output_type": "execute_result"
    }
   ],
   "source": [
    "dfcluster0=dfreal.loc[dfreal['Clusters'] == 0]\n",
    "dfcluster0.head(1)"
   ]
  },
  {
   "cell_type": "code",
   "execution_count": 306,
   "id": "4d50fa90",
   "metadata": {},
   "outputs": [
    {
     "data": {
      "text/html": [
       "<div>\n",
       "<style scoped>\n",
       "    .dataframe tbody tr th:only-of-type {\n",
       "        vertical-align: middle;\n",
       "    }\n",
       "\n",
       "    .dataframe tbody tr th {\n",
       "        vertical-align: top;\n",
       "    }\n",
       "\n",
       "    .dataframe thead th {\n",
       "        text-align: right;\n",
       "    }\n",
       "</style>\n",
       "<table border=\"1\" class=\"dataframe\">\n",
       "  <thead>\n",
       "    <tr style=\"text-align: right;\">\n",
       "      <th></th>\n",
       "      <th>Team</th>\n",
       "      <th>Games</th>\n",
       "      <th>Win</th>\n",
       "      <th>Loss</th>\n",
       "      <th>Off.Rank</th>\n",
       "      <th>Off.Plays</th>\n",
       "      <th>Off.Yards</th>\n",
       "      <th>Off.Yards.Play</th>\n",
       "      <th>Off.TDs</th>\n",
       "      <th>Total.TDs</th>\n",
       "      <th>...</th>\n",
       "      <th>Fumbles.Recovered</th>\n",
       "      <th>Opponents.Intercepted</th>\n",
       "      <th>Turnovers.Gain</th>\n",
       "      <th>Fumbles.Lost</th>\n",
       "      <th>Interceptions.Thrown.y</th>\n",
       "      <th>Turnovers.Lost</th>\n",
       "      <th>Turnover.Margin</th>\n",
       "      <th>Avg.Turnover.Margin.per.Game</th>\n",
       "      <th>Year</th>\n",
       "      <th>Clusters</th>\n",
       "    </tr>\n",
       "  </thead>\n",
       "  <tbody>\n",
       "    <tr>\n",
       "      <th>1</th>\n",
       "      <td>Alabama (SEC)</td>\n",
       "      <td>13</td>\n",
       "      <td>11</td>\n",
       "      <td>2</td>\n",
       "      <td>33</td>\n",
       "      <td>826</td>\n",
       "      <td>5903</td>\n",
       "      <td>7.15</td>\n",
       "      <td>58</td>\n",
       "      <td>65.0</td>\n",
       "      <td>...</td>\n",
       "      <td>8</td>\n",
       "      <td>11</td>\n",
       "      <td>19</td>\n",
       "      <td>10</td>\n",
       "      <td>7</td>\n",
       "      <td>17</td>\n",
       "      <td>2</td>\n",
       "      <td>0.15</td>\n",
       "      <td>2013</td>\n",
       "      <td>1</td>\n",
       "    </tr>\n",
       "  </tbody>\n",
       "</table>\n",
       "<p>1 rows × 148 columns</p>\n",
       "</div>"
      ],
      "text/plain": [
       "            Team  Games  Win  Loss  Off.Rank  Off.Plays  Off.Yards  \\\n",
       "1  Alabama (SEC)     13   11     2        33        826       5903   \n",
       "\n",
       "   Off.Yards.Play  Off.TDs  Total.TDs  ...  Fumbles.Recovered  \\\n",
       "1            7.15       58       65.0  ...                  8   \n",
       "\n",
       "   Opponents.Intercepted  Turnovers.Gain  Fumbles.Lost  \\\n",
       "1                     11              19            10   \n",
       "\n",
       "   Interceptions.Thrown.y  Turnovers.Lost  Turnover.Margin  \\\n",
       "1                       7              17                2   \n",
       "\n",
       "   Avg.Turnover.Margin.per.Game  Year  Clusters  \n",
       "1                          0.15  2013         1  \n",
       "\n",
       "[1 rows x 148 columns]"
      ]
     },
     "execution_count": 306,
     "metadata": {},
     "output_type": "execute_result"
    }
   ],
   "source": [
    "dfcluster1=dfreal.loc[dfreal['Clusters'] == 1]\n",
    "dfcluster1.head(1)"
   ]
  },
  {
   "cell_type": "code",
   "execution_count": 307,
   "id": "a079ad03",
   "metadata": {},
   "outputs": [
    {
     "data": {
      "text/html": [
       "<div>\n",
       "<style scoped>\n",
       "    .dataframe tbody tr th:only-of-type {\n",
       "        vertical-align: middle;\n",
       "    }\n",
       "\n",
       "    .dataframe tbody tr th {\n",
       "        vertical-align: top;\n",
       "    }\n",
       "\n",
       "    .dataframe thead th {\n",
       "        text-align: right;\n",
       "    }\n",
       "</style>\n",
       "<table border=\"1\" class=\"dataframe\">\n",
       "  <thead>\n",
       "    <tr style=\"text-align: right;\">\n",
       "      <th></th>\n",
       "      <th>Team</th>\n",
       "      <th>Games</th>\n",
       "      <th>Win</th>\n",
       "      <th>Loss</th>\n",
       "      <th>Off.Rank</th>\n",
       "      <th>Off.Plays</th>\n",
       "      <th>Off.Yards</th>\n",
       "      <th>Off.Yards.Play</th>\n",
       "      <th>Off.TDs</th>\n",
       "      <th>Total.TDs</th>\n",
       "      <th>...</th>\n",
       "      <th>Fumbles.Recovered</th>\n",
       "      <th>Opponents.Intercepted</th>\n",
       "      <th>Turnovers.Gain</th>\n",
       "      <th>Fumbles.Lost</th>\n",
       "      <th>Interceptions.Thrown.y</th>\n",
       "      <th>Turnovers.Lost</th>\n",
       "      <th>Turnover.Margin</th>\n",
       "      <th>Avg.Turnover.Margin.per.Game</th>\n",
       "      <th>Year</th>\n",
       "      <th>Clusters</th>\n",
       "    </tr>\n",
       "  </thead>\n",
       "  <tbody>\n",
       "    <tr>\n",
       "      <th>3</th>\n",
       "      <td>Arizona St. (Pac-12)</td>\n",
       "      <td>14</td>\n",
       "      <td>10</td>\n",
       "      <td>4</td>\n",
       "      <td>32</td>\n",
       "      <td>1102</td>\n",
       "      <td>6402</td>\n",
       "      <td>5.81</td>\n",
       "      <td>64</td>\n",
       "      <td>69.0</td>\n",
       "      <td>...</td>\n",
       "      <td>12</td>\n",
       "      <td>21</td>\n",
       "      <td>33</td>\n",
       "      <td>6</td>\n",
       "      <td>12</td>\n",
       "      <td>18</td>\n",
       "      <td>15</td>\n",
       "      <td>1.07</td>\n",
       "      <td>2013</td>\n",
       "      <td>2</td>\n",
       "    </tr>\n",
       "  </tbody>\n",
       "</table>\n",
       "<p>1 rows × 148 columns</p>\n",
       "</div>"
      ],
      "text/plain": [
       "                   Team  Games  Win  Loss  Off.Rank  Off.Plays  Off.Yards  \\\n",
       "3  Arizona St. (Pac-12)     14   10     4        32       1102       6402   \n",
       "\n",
       "   Off.Yards.Play  Off.TDs  Total.TDs  ...  Fumbles.Recovered  \\\n",
       "3            5.81       64       69.0  ...                 12   \n",
       "\n",
       "   Opponents.Intercepted  Turnovers.Gain  Fumbles.Lost  \\\n",
       "3                     21              33             6   \n",
       "\n",
       "   Interceptions.Thrown.y  Turnovers.Lost  Turnover.Margin  \\\n",
       "3                      12              18               15   \n",
       "\n",
       "   Avg.Turnover.Margin.per.Game  Year  Clusters  \n",
       "3                          1.07  2013         2  \n",
       "\n",
       "[1 rows x 148 columns]"
      ]
     },
     "execution_count": 307,
     "metadata": {},
     "output_type": "execute_result"
    }
   ],
   "source": [
    "dfcluster2=dfreal.loc[dfreal['Clusters'] == 2]\n",
    "dfcluster2.head(1)"
   ]
  },
  {
   "cell_type": "code",
   "execution_count": 308,
   "id": "3e1086f1",
   "metadata": {},
   "outputs": [
    {
     "data": {
      "text/html": [
       "<div>\n",
       "<style scoped>\n",
       "    .dataframe tbody tr th:only-of-type {\n",
       "        vertical-align: middle;\n",
       "    }\n",
       "\n",
       "    .dataframe tbody tr th {\n",
       "        vertical-align: top;\n",
       "    }\n",
       "\n",
       "    .dataframe thead th {\n",
       "        text-align: right;\n",
       "    }\n",
       "</style>\n",
       "<table border=\"1\" class=\"dataframe\">\n",
       "  <thead>\n",
       "    <tr style=\"text-align: right;\">\n",
       "      <th></th>\n",
       "      <th>Team</th>\n",
       "      <th>Games</th>\n",
       "      <th>Win</th>\n",
       "      <th>Loss</th>\n",
       "      <th>Off.Rank</th>\n",
       "      <th>Off.Plays</th>\n",
       "      <th>Off.Yards</th>\n",
       "      <th>Off.Yards.Play</th>\n",
       "      <th>Off.TDs</th>\n",
       "      <th>Total.TDs</th>\n",
       "      <th>...</th>\n",
       "      <th>Fumbles.Recovered</th>\n",
       "      <th>Opponents.Intercepted</th>\n",
       "      <th>Turnovers.Gain</th>\n",
       "      <th>Fumbles.Lost</th>\n",
       "      <th>Interceptions.Thrown.y</th>\n",
       "      <th>Turnovers.Lost</th>\n",
       "      <th>Turnover.Margin</th>\n",
       "      <th>Avg.Turnover.Margin.per.Game</th>\n",
       "      <th>Year</th>\n",
       "      <th>Clusters</th>\n",
       "    </tr>\n",
       "  </thead>\n",
       "  <tbody>\n",
       "    <tr>\n",
       "      <th>0</th>\n",
       "      <td>Akron (MAC)</td>\n",
       "      <td>12</td>\n",
       "      <td>5</td>\n",
       "      <td>7</td>\n",
       "      <td>106</td>\n",
       "      <td>837</td>\n",
       "      <td>4104</td>\n",
       "      <td>4.9</td>\n",
       "      <td>30</td>\n",
       "      <td>31.0</td>\n",
       "      <td>...</td>\n",
       "      <td>6</td>\n",
       "      <td>13</td>\n",
       "      <td>19</td>\n",
       "      <td>11</td>\n",
       "      <td>10</td>\n",
       "      <td>21</td>\n",
       "      <td>-2</td>\n",
       "      <td>-0.17</td>\n",
       "      <td>2013</td>\n",
       "      <td>3</td>\n",
       "    </tr>\n",
       "  </tbody>\n",
       "</table>\n",
       "<p>1 rows × 148 columns</p>\n",
       "</div>"
      ],
      "text/plain": [
       "          Team  Games  Win  Loss  Off.Rank  Off.Plays  Off.Yards  \\\n",
       "0  Akron (MAC)     12    5     7       106        837       4104   \n",
       "\n",
       "   Off.Yards.Play  Off.TDs  Total.TDs  ...  Fumbles.Recovered  \\\n",
       "0             4.9       30       31.0  ...                  6   \n",
       "\n",
       "   Opponents.Intercepted  Turnovers.Gain  Fumbles.Lost  \\\n",
       "0                     13              19            11   \n",
       "\n",
       "   Interceptions.Thrown.y  Turnovers.Lost  Turnover.Margin  \\\n",
       "0                      10              21               -2   \n",
       "\n",
       "   Avg.Turnover.Margin.per.Game  Year  Clusters  \n",
       "0                         -0.17  2013         3  \n",
       "\n",
       "[1 rows x 148 columns]"
      ]
     },
     "execution_count": 308,
     "metadata": {},
     "output_type": "execute_result"
    }
   ],
   "source": [
    "dfcluster3=dfreal.loc[dfreal['Clusters'] == 3]\n",
    "dfcluster3.head(1)"
   ]
  },
  {
   "cell_type": "code",
   "execution_count": 310,
   "id": "78d375db",
   "metadata": {},
   "outputs": [
    {
     "data": {
      "text/plain": [
       "3.4285714285714284"
      ]
     },
     "execution_count": 310,
     "metadata": {},
     "output_type": "execute_result"
    }
   ],
   "source": [
    "dfcluster0['Win'].mean()"
   ]
  },
  {
   "cell_type": "code",
   "execution_count": 311,
   "id": "4a8a2e85",
   "metadata": {},
   "outputs": [
    {
     "data": {
      "text/plain": [
       "8.233552631578947"
      ]
     },
     "execution_count": 311,
     "metadata": {},
     "output_type": "execute_result"
    }
   ],
   "source": [
    "dfcluster1['Win'].mean()"
   ]
  },
  {
   "cell_type": "code",
   "execution_count": 312,
   "id": "c56b0799",
   "metadata": {},
   "outputs": [
    {
     "data": {
      "text/plain": [
       "8.608870967741936"
      ]
     },
     "execution_count": 312,
     "metadata": {},
     "output_type": "execute_result"
    }
   ],
   "source": [
    "dfcluster2['Win'].mean()"
   ]
  },
  {
   "cell_type": "code",
   "execution_count": 313,
   "id": "49399de1",
   "metadata": {},
   "outputs": [
    {
     "data": {
      "text/plain": [
       "3.9501466275659824"
      ]
     },
     "execution_count": 313,
     "metadata": {},
     "output_type": "execute_result"
    }
   ],
   "source": [
    "dfcluster3['Win'].mean()"
   ]
  },
  {
   "cell_type": "markdown",
   "id": "32416339",
   "metadata": {},
   "source": [
    "it looks like this created 2 clusters with lower # of wins and 2 with higher number of wins"
   ]
  },
  {
   "cell_type": "code",
   "execution_count": 326,
   "id": "b030135b",
   "metadata": {},
   "outputs": [
    {
     "data": {
      "text/plain": [
       "65.94805194805195"
      ]
     },
     "execution_count": 326,
     "metadata": {},
     "output_type": "execute_result"
    }
   ],
   "source": [
    "dfcluster0['Redzone.Off.Rank'].mean()"
   ]
  },
  {
   "cell_type": "code",
   "execution_count": 327,
   "id": "47c53c63",
   "metadata": {},
   "outputs": [
    {
     "data": {
      "text/plain": [
       "77.91788856304986"
      ]
     },
     "execution_count": 327,
     "metadata": {},
     "output_type": "execute_result"
    }
   ],
   "source": [
    "dfcluster3['Redzone.Off.Rank'].mean()"
   ]
  },
  {
   "cell_type": "code",
   "execution_count": 328,
   "id": "0fdec962",
   "metadata": {},
   "outputs": [
    {
     "data": {
      "text/plain": [
       "57.1546052631579"
      ]
     },
     "execution_count": 328,
     "metadata": {},
     "output_type": "execute_result"
    }
   ],
   "source": [
    "dfcluster1['Redzone.Off.Rank'].mean()"
   ]
  },
  {
   "cell_type": "code",
   "execution_count": 329,
   "id": "37403f14",
   "metadata": {
    "scrolled": true
   },
   "outputs": [
    {
     "data": {
      "text/plain": [
       "52.34274193548387"
      ]
     },
     "execution_count": 329,
     "metadata": {},
     "output_type": "execute_result"
    }
   ],
   "source": [
    "dfcluster2['Redzone.Off.Rank'].mean()"
   ]
  },
  {
   "cell_type": "markdown",
   "id": "019f4cd4",
   "metadata": {},
   "source": [
    "Both of the cluster which a much higher average mean of wins (cluster 1 and 2), have lower ranks for Redzone Offense Rank (this is good, rank 1 would be the best). This indicates that it is probably important to be good in the redzone offensively to get wins."
   ]
  },
  {
   "cell_type": "code",
   "execution_count": 331,
   "id": "e9e126ac",
   "metadata": {},
   "outputs": [
    {
     "data": {
      "text/plain": [
       "62.96103896103896"
      ]
     },
     "execution_count": 331,
     "metadata": {},
     "output_type": "execute_result"
    }
   ],
   "source": [
    "dfcluster0['Redzone.Def.Rank'].mean()"
   ]
  },
  {
   "cell_type": "code",
   "execution_count": 332,
   "id": "20b7b12a",
   "metadata": {},
   "outputs": [
    {
     "data": {
      "text/plain": [
       "69.23753665689149"
      ]
     },
     "execution_count": 332,
     "metadata": {},
     "output_type": "execute_result"
    }
   ],
   "source": [
    "dfcluster3['Redzone.Def.Rank'].mean()"
   ]
  },
  {
   "cell_type": "code",
   "execution_count": 333,
   "id": "1f5258e1",
   "metadata": {},
   "outputs": [
    {
     "data": {
      "text/plain": [
       "55.16776315789474"
      ]
     },
     "execution_count": 333,
     "metadata": {},
     "output_type": "execute_result"
    }
   ],
   "source": [
    "dfcluster1['Redzone.Def.Rank'].mean()"
   ]
  },
  {
   "cell_type": "code",
   "execution_count": 330,
   "id": "0505370b",
   "metadata": {},
   "outputs": [
    {
     "data": {
      "text/plain": [
       "64.72177419354838"
      ]
     },
     "execution_count": 330,
     "metadata": {},
     "output_type": "execute_result"
    }
   ],
   "source": [
    "dfcluster2['Redzone.Def.Rank'].mean()"
   ]
  },
  {
   "cell_type": "markdown",
   "id": "f2b1a8ec",
   "metadata": {},
   "source": [
    "These are a bit closer between the winning clusters (cluster 1 and 2) and the more often losing clusters (clusters 0 and 3). This could again be indicating that offense is more important than defense in winning"
   ]
  },
  {
   "cell_type": "code",
   "execution_count": 339,
   "id": "43e28bbd",
   "metadata": {},
   "outputs": [
    {
     "data": {
      "text/plain": [
       "2.2205194805194806"
      ]
     },
     "execution_count": 339,
     "metadata": {},
     "output_type": "execute_result"
    }
   ],
   "source": [
    "dfcluster0['Average.Sacks.per.Game'].mean()"
   ]
  },
  {
   "cell_type": "code",
   "execution_count": 340,
   "id": "35eb02a1",
   "metadata": {},
   "outputs": [
    {
     "data": {
      "text/plain": [
       "2.4437243401759545"
      ]
     },
     "execution_count": 340,
     "metadata": {},
     "output_type": "execute_result"
    }
   ],
   "source": [
    "dfcluster3['Average.Sacks.per.Game'].mean()"
   ]
  },
  {
   "cell_type": "code",
   "execution_count": 341,
   "id": "ab5ef426",
   "metadata": {},
   "outputs": [
    {
     "data": {
      "text/plain": [
       "1.7959539473684223"
      ]
     },
     "execution_count": 341,
     "metadata": {},
     "output_type": "execute_result"
    }
   ],
   "source": [
    "dfcluster1['Average.Sacks.per.Game'].mean()"
   ]
  },
  {
   "cell_type": "code",
   "execution_count": 342,
   "id": "e6de4cb5",
   "metadata": {},
   "outputs": [
    {
     "data": {
      "text/plain": [
       "1.9585080645161295"
      ]
     },
     "execution_count": 342,
     "metadata": {},
     "output_type": "execute_result"
    }
   ],
   "source": [
    "dfcluster2['Average.Sacks.per.Game'].mean()"
   ]
  },
  {
   "cell_type": "code",
   "execution_count": 343,
   "id": "9598f5cf",
   "metadata": {},
   "outputs": [
    {
     "data": {
      "text/plain": [
       "6.054545454545454"
      ]
     },
     "execution_count": 343,
     "metadata": {},
     "output_type": "execute_result"
    }
   ],
   "source": [
    "dfcluster0['Tackle.For.Loss.Per.Game'].mean()"
   ]
  },
  {
   "cell_type": "code",
   "execution_count": 344,
   "id": "d0bed1e8",
   "metadata": {},
   "outputs": [
    {
     "data": {
      "text/plain": [
       "5.645454545454543"
      ]
     },
     "execution_count": 344,
     "metadata": {},
     "output_type": "execute_result"
    }
   ],
   "source": [
    "dfcluster3['Tackle.For.Loss.Per.Game'].mean()"
   ]
  },
  {
   "cell_type": "code",
   "execution_count": 345,
   "id": "57643bbd",
   "metadata": {},
   "outputs": [
    {
     "data": {
      "text/plain": [
       "6.296381578947365"
      ]
     },
     "execution_count": 345,
     "metadata": {},
     "output_type": "execute_result"
    }
   ],
   "source": [
    "dfcluster1['Tackle.For.Loss.Per.Game'].mean()"
   ]
  },
  {
   "cell_type": "code",
   "execution_count": 346,
   "id": "a08ffb98",
   "metadata": {
    "scrolled": true
   },
   "outputs": [
    {
     "data": {
      "text/plain": [
       "6.304838709677427"
      ]
     },
     "execution_count": 346,
     "metadata": {},
     "output_type": "execute_result"
    }
   ],
   "source": [
    "dfcluster2['Tackle.For.Loss.Per.Game'].mean()"
   ]
  },
  {
   "cell_type": "code",
   "execution_count": 347,
   "id": "f0dad257",
   "metadata": {},
   "outputs": [
    {
     "data": {
      "image/png": "[encoded data removed]",
      "text/plain": [
       "<Figure size 432x288 with 1 Axes>"
      ]
     },
     "metadata": {
      "needs_background": "light"
     },
     "output_type": "display_data"
    }
   ],
   "source": [
    "x1array=np.array(x1)\n",
    "plt.scatter(x1array[:, 8], x1array[:, 1], c=y_kmeans, s=35, cmap='viridis')\n",
    "centers = kmeans.cluster_centers_\n",
    "plt.scatter(centers[:, 8], centers[:, 1], c='red', s=150, alpha=0.5);"
   ]
  },
  {
   "cell_type": "code",
   "execution_count": 360,
   "id": "08ebb4d6",
   "metadata": {},
   "outputs": [
    {
     "data": {
      "image/png": "[encoded data removed]",
      "text/plain": [
       "<Figure size 432x288 with 1 Axes>"
      ]
     },
     "metadata": {
      "needs_background": "light"
     },
     "output_type": "display_data"
    }
   ],
   "source": [
    "plt.plot(dfreal['Avg.Points.per.Game.Allowed'], dfreal['Win'], color='g', label='Line y')\n",
    "\n",
    "# Plot another line on the same chart/graph\n",
    "plt.plot(dfreal['Points.Per.Game'], dfreal['Win'], color='r', label='Line z')\n",
    "\n",
    "plt.legend()\n",
    "plt.show()"
   ]
  },
  {
   "cell_type": "code",
   "execution_count": 382,
   "id": "6f6209e8",
   "metadata": {},
   "outputs": [
    {
     "data": {
      "image/png": "[encoded data removed]",
      "text/plain": [
       "<Figure size 432x288 with 1 Axes>"
      ]
     },
     "metadata": {
      "needs_background": "light"
     },
     "output_type": "display_data"
    },
    {
     "data": {
      "text/plain": [
       "<Figure size 72x72 with 0 Axes>"
      ]
     },
     "metadata": {},
     "output_type": "display_data"
    }
   ],
   "source": [
    "# multiple line plots\n",
    "plt.plot( 'Passing.Off.Rank', 'Win', data=dfreal, marker='', color='blue', linewidth=1)\n",
    "plt.plot( 'Rushing.Off.Rank', 'Win', data=dfreal, marker='', color='olive', linewidth=1)\n",
    "\n",
    "# show legend\n",
    "plt.legend()\n",
    "\n",
    "plt.figure(figsize=(1, 1))\n",
    "# show graph\n",
    "plt.show()"
   ]
  },
  {
   "cell_type": "code",
   "execution_count": 407,
   "id": "7d47f289",
   "metadata": {},
   "outputs": [],
   "source": [
    "coorelation_columns=[ 'Win','Total.Points','Points.Allowed','Points.Per.Game',  'Avg.Points.per.Game.Allowed', 'Passing.Off.Rank', 'Pass.Def.Rank', 'Rushing.Off.Rank', 'Rushing.Def.Rank','Fumbles.Recovered', 'Fumbles.Lost','Opponents.Intercepted','Interceptions.Thrown.y', 'Turnovers.Gain', 'Turnovers.Lost']\n",
    "dfcoorelation_columns= dfreal[coorelation_columns]"
   ]
  },
  {
   "cell_type": "code",
   "execution_count": 457,
   "id": "c646b88b",
   "metadata": {},
   "outputs": [
    {
     "data": {
      "image/png": "[encoded data removed]",
      "text/plain": [
       "<Figure size 1440x648 with 2 Axes>"
      ]
     },
     "metadata": {
      "needs_background": "light"
     },
     "output_type": "display_data"
    }
   ],
   "source": [
    "corrMatrix = dfcoorelation_columns.corr()\n",
    "plt.figure(figsize = (20,9))\n",
    "sns.heatmap(corrMatrix, annot=True)\n",
    "plt.title('Colored Coorelation Matrix College Football Statistics')\n",
    "plt.show()"
   ]
  },
  {
   "cell_type": "code",
   "execution_count": 422,
   "id": "df7dbe34",
   "metadata": {},
   "outputs": [
    {
     "data": {
      "text/plain": [
       "Text(0.5, 1.0, 'Rushing Defense Rank')"
      ]
     },
     "execution_count": 422,
     "metadata": {},
     "output_type": "execute_result"
    },
    {
     "data": {
      "image/png": "[encoded data removed]",
      "text/plain": [
       "<Figure size 432x288 with 1 Axes>"
      ]
     },
     "metadata": {
      "needs_background": "light"
     },
     "output_type": "display_data"
    }
   ],
   "source": [
    "sns.regplot(x='Rushing.Def.Rank', y='Win', data=dfreal,line_kws={\"color\": \"red\"}).set_title('Rushing Defense Rank')"
   ]
  },
  {
   "cell_type": "code",
   "execution_count": 423,
   "id": "d2e03ba4",
   "metadata": {
    "scrolled": false
   },
   "outputs": [
    {
     "data": {
      "text/plain": [
       "Text(0.5, 1.0, 'Passing Defense Rank')"
      ]
     },
     "execution_count": 423,
     "metadata": {},
     "output_type": "execute_result"
    },
    {
     "data": {
      "image/png": "[encoded data removed]",
      "text/plain": [
       "<Figure size 432x288 with 1 Axes>"
      ]
     },
     "metadata": {
      "needs_background": "light"
     },
     "output_type": "display_data"
    }
   ],
   "source": [
    "sns.regplot(x='Pass.Def.Rank', y='Win', data=dfreal,line_kws={\"color\": \"red\"}).set_title('Passing Defense Rank')"
   ]
  },
  {
   "cell_type": "code",
   "execution_count": 445,
   "id": "0792972e",
   "metadata": {},
   "outputs": [
    {
     "data": {
      "text/plain": [
       "Text(0.5, 1.0, 'Rushing Offense Rank')"
      ]
     },
     "execution_count": 445,
     "metadata": {},
     "output_type": "execute_result"
    },
    {
     "data": {
      "image/png": "[encoded data removed]",
      "text/plain": [
       "<Figure size 432x288 with 1 Axes>"
      ]
     },
     "metadata": {
      "needs_background": "light"
     },
     "output_type": "display_data"
    }
   ],
   "source": [
    "sns.regplot(x='Rushing.Off.Rank', y='Win', data=dfreal,line_kws={\"color\": \"red\"}).set_title('Rushing Offense Rank')"
   ]
  },
  {
   "cell_type": "code",
   "execution_count": 448,
   "id": "857d476a",
   "metadata": {},
   "outputs": [
    {
     "data": {
      "text/plain": [
       "Text(0.5, 1.0, 'Passing Offense Rank')"
      ]
     },
     "execution_count": 448,
     "metadata": {},
     "output_type": "execute_result"
    },
    {
     "data": {
      "image/png": "[encoded data removed]",
      "text/plain": [
       "<Figure size 432x288 with 1 Axes>"
      ]
     },
     "metadata": {
      "needs_background": "light"
     },
     "output_type": "display_data"
    }
   ],
   "source": [
    "sns.regplot(x='Passing.Off.Rank', y='Win', data=dfreal,line_kws={\"color\": \"red\"}).set_title('Passing Offense Rank')"
   ]
  },
  {
   "cell_type": "code",
   "execution_count": 424,
   "id": "af93eb1d",
   "metadata": {},
   "outputs": [
    {
     "data": {
      "text/plain": [
       "Text(0.5, 1.0, 'Turnovers Gained Defensivly')"
      ]
     },
     "execution_count": 424,
     "metadata": {},
     "output_type": "execute_result"
    },
    {
     "data": {
      "image/png": "[encoded data removed]",
      "text/plain": [
       "<Figure size 432x288 with 1 Axes>"
      ]
     },
     "metadata": {
      "needs_background": "light"
     },
     "output_type": "display_data"
    }
   ],
   "source": [
    "sns.regplot(x='Turnovers.Gain', y='Win', data=dfreal,line_kws={\"color\": \"red\"}).set_title('Turnovers Gained Defensively')"
   ]
  },
  {
   "cell_type": "code",
   "execution_count": 425,
   "id": "87f3cc7f",
   "metadata": {
    "scrolled": true
   },
   "outputs": [
    {
     "data": {
      "text/plain": [
       "Text(0.5, 1.0, 'Turnovers Lost Offensivly')"
      ]
     },
     "execution_count": 425,
     "metadata": {},
     "output_type": "execute_result"
    },
    {
     "data": {
      "image/png": "[encoded data removed]",
      "text/plain": [
       "<Figure size 432x288 with 1 Axes>"
      ]
     },
     "metadata": {
      "needs_background": "light"
     },
     "output_type": "display_data"
    }
   ],
   "source": [
    "sns.regplot(x='Turnovers.Lost', y='Win', data=dfreal,line_kws={\"color\": \"red\"}).set_title('Turnovers Lost Offensively')"
   ]
  },
  {
   "cell_type": "code",
   "execution_count": 426,
   "id": "07080d60",
   "metadata": {},
   "outputs": [
    {
     "data": {
      "text/plain": [
       "Text(0.5, 1.0, 'Opponent Interceptions')"
      ]
     },
     "execution_count": 426,
     "metadata": {},
     "output_type": "execute_result"
    },
    {
     "data": {
      "image/png": "[encoded data removed]",
      "text/plain": [
       "<Figure size 432x288 with 1 Axes>"
      ]
     },
     "metadata": {
      "needs_background": "light"
     },
     "output_type": "display_data"
    }
   ],
   "source": [
    "sns.regplot(x='Opponents.Intercepted', y='Win', data=dfreal,line_kws={\"color\": \"red\"}).set_title('Opponent Interceptions')"
   ]
  },
  {
   "cell_type": "code",
   "execution_count": 427,
   "id": "c6e1b8ca",
   "metadata": {},
   "outputs": [
    {
     "data": {
      "text/plain": [
       "Text(0.5, 1.0, 'Fumbles Recovered')"
      ]
     },
     "execution_count": 427,
     "metadata": {},
     "output_type": "execute_result"
    },
    {
     "data": {
      "image/png": "[encoded data removed]",
      "text/plain": [
       "<Figure size 432x288 with 1 Axes>"
      ]
     },
     "metadata": {
      "needs_background": "light"
     },
     "output_type": "display_data"
    }
   ],
   "source": [
    "sns.regplot(x='Fumbles.Recovered', y='Win', data=dfreal,line_kws={\"color\": \"red\"}).set_title('Fumbles Recovered')"
   ]
  },
  {
   "cell_type": "code",
   "execution_count": 460,
   "id": "81bfe2cd",
   "metadata": {},
   "outputs": [
    {
     "data": {
      "image/png": "[encoded data removed]",
      "text/plain": [
       "<Figure size 432x288 with 1 Axes>"
      ]
     },
     "metadata": {
      "needs_background": "light"
     },
     "output_type": "display_data"
    }
   ],
   "source": [
    "ax = plt.gca()\n",
    "dfreal.plot(kind='line',x='Rushing.Def.Rank',y='Win',ax=ax)\n",
    "dfreal.plot(kind='line',x='Pass.Def.Rank',y='Win', color='red',ax=ax)\n",
    "\n",
    "plt.show()"
   ]
  },
  {
   "cell_type": "code",
   "execution_count": 452,
   "id": "f4de1531",
   "metadata": {},
   "outputs": [
    {
     "data": {
      "image/png": "[encoded data removed]",
      "text/plain": [
       "<Figure size 432x288 with 1 Axes>"
      ]
     },
     "metadata": {
      "needs_background": "light"
     },
     "output_type": "display_data"
    }
   ],
   "source": [
    "df_barplot=dfreal.groupby(['Win']).agg({'Total.Points':'mean'})\n",
    "plt.bar(df_barplot.index,df_barplot['Total.Points'])\n",
    "plt.title('Total Points Offensively')\n",
    "plt.xlabel('Wins')\n",
    "plt.ylabel('Total Points')\n",
    "plt.show()"
   ]
  },
  {
   "cell_type": "code",
   "execution_count": 454,
   "id": "3b5578c6",
   "metadata": {},
   "outputs": [
    {
     "data": {
      "image/png": "[encoded data removed]",
      "text/plain": [
       "<Figure size 432x288 with 1 Axes>"
      ]
     },
     "metadata": {
      "needs_background": "light"
     },
     "output_type": "display_data"
    }
   ],
   "source": [
    "df_barplotdefense=dfreal.groupby(['Win']).agg({'Points.Allowed'\t:'mean'})\n",
    "plt.bar(df_barplotdefense.index,df_barplotdefense['Points.Allowed'])\n",
    "plt.title('Total Points Defensively')\n",
    "plt.xlabel('Wins')\n",
    "plt.ylabel('Total Points Allowed')\n",
    "plt.show()"
   ]
  },
  {
   "cell_type": "code",
   "execution_count": null,
   "id": "9150806b",
   "metadata": {},
   "outputs": [],
   "source": []
  }
 ],
 "metadata": {
  "kernelspec": {
   "display_name": "Python 3",
   "language": "python",
   "name": "python3"
  },
  "language_info": {
   "codemirror_mode": {
    "name": "ipython",
    "version": 3
   },
   "file_extension": ".py",
   "mimetype": "text/x-python",
   "name": "python",
   "nbconvert_exporter": "python",
   "pygments_lexer": "ipython3",
   "version": "3.8.8"
  }
 },
 "nbformat": 4,
 "nbformat_minor": 5
}
